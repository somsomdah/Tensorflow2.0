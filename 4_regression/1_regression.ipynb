{
  "nbformat": 4,
  "nbformat_minor": 0,
  "metadata": {
    "colab": {
      "name": "1_regression",
      "provenance": [],
      "collapsed_sections": []
    },
    "kernelspec": {
      "name": "python3",
      "display_name": "Python 3"
    },
    "accelerator": "GPU"
  },
  "cells": [
    {
      "cell_type": "code",
      "metadata": {
        "id": "o0PA-lzngA5z",
        "colab_type": "code",
        "outputId": "4c35b41e-4726-4868-9420-44766022a93a",
        "colab": {
          "base_uri": "https://localhost:8080/",
          "height": 34
        }
      },
      "source": [
        "%tensorflow_version 2.x"
      ],
      "execution_count": 0,
      "outputs": [
        {
          "output_type": "stream",
          "text": [
            "TensorFlow 2.x selected.\n"
          ],
          "name": "stdout"
        }
      ]
    },
    {
      "cell_type": "code",
      "metadata": {
        "id": "eEG8TXKtgGUj",
        "colab_type": "code",
        "colab": {}
      },
      "source": [
        "import tensorflow as tf\n",
        "import numpy as np\n",
        "import matplotlib.pyplot as plt\n",
        "import random"
      ],
      "execution_count": 0,
      "outputs": []
    },
    {
      "cell_type": "code",
      "metadata": {
        "id": "g2K9ziMhgi6p",
        "colab_type": "code",
        "colab": {}
      },
      "source": [
        "X = [0.3, -0.78, 1.26, 0.03, 1.11, 0.24, -0.24, -0.47, -0.77, -0.37, -0.85, -0.41, -0.27, 0.02, -0.76, 2.66]\n",
        "Y = [12.27, 14.44, 11.87, 18.75, 17.52, 16.37, 19.78, 19.51, 12.65, 14.74, 10.72, 21.94, 12.83, 15.51, 17.14, 14.42]"
      ],
      "execution_count": 0,
      "outputs": []
    },
    {
      "cell_type": "markdown",
      "metadata": {
        "id": "qBEXwuqxp0c9",
        "colab_type": "text"
      },
      "source": [
        "## linear regression"
      ]
    },
    {
      "cell_type": "code",
      "metadata": {
        "id": "_RBiLupNhoCy",
        "colab_type": "code",
        "colab": {}
      },
      "source": [
        "a=tf.Variable(random.random())\n",
        "b=tf.Variable(random.random())"
      ],
      "execution_count": 0,
      "outputs": []
    },
    {
      "cell_type": "code",
      "metadata": {
        "id": "MkGpHXexh2UC",
        "colab_type": "code",
        "colab": {}
      },
      "source": [
        "def compute_loss():\n",
        "  y_pred=a*X+b\n",
        "  loss=tf.reduce_mean((Y-y_pred)**2) # matrix 평균 계산, numpy와 같은 역할\n",
        "  return loss"
      ],
      "execution_count": 0,
      "outputs": []
    },
    {
      "cell_type": "code",
      "metadata": {
        "id": "EcZpfXMviu5J",
        "colab_type": "code",
        "outputId": "37d6f1b0-0988-43bd-eab8-3b42dc1ae9f0",
        "colab": {
          "base_uri": "https://localhost:8080/",
          "height": 369
        }
      },
      "source": [
        "optimizer=tf.optimizers.Adam(lr=0.07)\n",
        "\n",
        "for i in range(2000):\n",
        "  optimizer.minimize(compute_loss,var_list=[a,b]) #compute_loss의 리턴값을 Adam최적화 기법으로 최소화, var_list:optimizer를 통해 최적화 할 변수\n",
        "  \n",
        "  if (i+1)%100==0:\n",
        "    print(i+1,\"a:\",a.numpy(),\"b:\",b.numpy(),\"loss:\",compute_loss().numpy())\n"
      ],
      "execution_count": 0,
      "outputs": [
        {
          "output_type": "stream",
          "text": [
            "100 a: 0.09362898 b: 7.2278204 loss: 80.87439\n",
            "200 a: -0.13983227 b: 11.610568 loss: 26.21604\n",
            "300 a: -0.27066454 b: 14.068791 loss: 12.336546\n",
            "400 a: -0.32868323 b: 15.159086 loss: 10.040536\n",
            "500 a: -0.3488712 b: 15.538474 loss: 9.797885\n",
            "600 a: -0.3544051 b: 15.642468 loss: 9.781525\n",
            "700 a: -0.355602 b: 15.664951 loss: 9.780822\n",
            "800 a: -0.35580456 b: 15.668763 loss: 9.780806\n",
            "900 a: -0.3558311 b: 15.669265 loss: 9.780804\n",
            "1000 a: -0.35583317 b: 15.669303 loss: 9.780804\n",
            "1100 a: -0.3558333 b: 15.669303 loss: 9.780805\n",
            "1200 a: -0.35583305 b: 15.669303 loss: 9.780805\n",
            "1300 a: -0.35583296 b: 15.669303 loss: 9.780805\n",
            "1400 a: -0.3558335 b: 15.669303 loss: 9.780804\n",
            "1500 a: -0.3558333 b: 15.669303 loss: 9.780805\n",
            "1600 a: -0.35583353 b: 15.669303 loss: 9.780804\n",
            "1700 a: -0.35583326 b: 15.669304 loss: 9.780804\n",
            "1800 a: -0.35583335 b: 15.669305 loss: 9.780804\n",
            "1900 a: -0.35583347 b: 15.669306 loss: 9.780804\n",
            "2000 a: -0.35583353 b: 15.669307 loss: 9.780804\n"
          ],
          "name": "stdout"
        }
      ]
    },
    {
      "cell_type": "code",
      "metadata": {
        "id": "fUBMsszVi7b0",
        "colab_type": "code",
        "outputId": "56379f2f-b88c-4ef6-da5b-ee38ea976600",
        "colab": {
          "base_uri": "https://localhost:8080/",
          "height": 282
        }
      },
      "source": [
        "line_x=np.arange(min(X),max(X),0.01);\n",
        "line_y=a*line_x+b\n",
        "\n",
        "plt.plot(X,Y,'bo')\n",
        "plt.plot(line_x,line_y,'r-')\n",
        "plt.show"
      ],
      "execution_count": 0,
      "outputs": [
        {
          "output_type": "execute_result",
          "data": {
            "text/plain": [
              "<function matplotlib.pyplot.show>"
            ]
          },
          "metadata": {
            "tags": []
          },
          "execution_count": 7
        },
        {
          "output_type": "display_data",
          "data": {
            "image/png": "[encoded data removed]",
            "text/plain": [
              "<Figure size 432x288 with 1 Axes>"
            ]
          },
          "metadata": {
            "tags": []
          }
        }
      ]
    },
    {
      "cell_type": "markdown",
      "metadata": {
        "id": "rGBVlvJskukj",
        "colab_type": "text"
      },
      "source": [
        "## polinomial regression"
      ]
    },
    {
      "cell_type": "code",
      "metadata": {
        "id": "LgNWTaMLqAlv",
        "colab_type": "code",
        "colab": {}
      },
      "source": [
        "a=tf.Variable(random.random())\n",
        "b=tf.Variable(random.random())\n",
        "c=tf.Variable(random.random())\n",
        "d=tf.Variable(random.random())"
      ],
      "execution_count": 0,
      "outputs": []
    },
    {
      "cell_type": "code",
      "metadata": {
        "id": "VSIT0hS2qKAa",
        "colab_type": "code",
        "colab": {}
      },
      "source": [
        "def compute_loss_2():\n",
        "  y_pred=a*np.power(X,3)+b*np.power(X,3)+c*X+d\n",
        "  loss=tf.reduce_mean((Y-y_pred)**2) # matrix 평균 계산, numpy와 같은 역할\n",
        "  return loss"
      ],
      "execution_count": 0,
      "outputs": []
    },
    {
      "cell_type": "code",
      "metadata": {
        "id": "oKTuNnWcqZQj",
        "colab_type": "code",
        "outputId": "70363705-d89f-407f-896e-b774d6aa85e4",
        "colab": {
          "base_uri": "https://localhost:8080/",
          "height": 369
        }
      },
      "source": [
        "optimizer=tf.keras.optimizers.Adam(lr=0.07)\n",
        "\n",
        "for i in range(2000):\n",
        "  optimizer.minimize(compute_loss_2,var_list=[a,b,c,d]) #compute_loss의 리턴값을 Adam최적화 기법으로 최소화, var_list:optimizer를 통해 최적화 할 변수\n",
        "  \n",
        "  if (i+1)%100==0:\n",
        "    print(i+1,\"a:\",a.numpy(),\"b:\",b.numpy(),\"c:\",c.numpy(),\"d:\",d.numpy(),\"loss:\",compute_loss().numpy())"
      ],
      "execution_count": 0,
      "outputs": [
        {
          "output_type": "stream",
          "text": [
            "100 a: 0.5698669 b: 0.3873189 c: -3.5910976 d: 7.228853 loss: 242.78954\n",
            "200 a: 0.43292135 b: 0.25037354 c: -3.328344 d: 11.423176 loss: 246.97383\n",
            "300 a: 0.23931848 b: 0.05677066 c: -1.7019837 d: 13.849509 loss: 253.01166\n",
            "400 a: 0.13034137 b: -0.052206453 c: -0.7247669 d: 15.038066 loss: 256.47336\n",
            "500 a: 0.08608336 b: -0.09646445 c: -0.3256411 d: 15.514306 loss: 257.8922\n",
            "600 a: 0.07165261 b: -0.110895194 c: -0.19548479 d: 15.669542 loss: 258.35645\n",
            "700 a: 0.06781915 b: -0.11472866 c: -0.16090965 d: 15.710779 loss: 258.47992\n",
            "800 a: 0.06699068 b: -0.11555713 c: -0.15343797 d: 15.719693 loss: 258.5066\n",
            "900 a: 0.06684626 b: -0.11570155 c: -0.15213484 d: 15.721247 loss: 258.51126\n",
            "1000 a: 0.06682613 b: -0.11572168 c: -0.15195392 d: 15.721464 loss: 258.5119\n",
            "1100 a: 0.06682487 b: -0.11572294 c: -0.15194055 d: 15.721472 loss: 258.51193\n",
            "1200 a: 0.066824846 b: -0.11572296 c: -0.15194051 d: 15.721472 loss: 258.51193\n",
            "1300 a: 0.06682485 b: -0.115722954 c: -0.15194051 d: 15.721472 loss: 258.51193\n",
            "1400 a: 0.066824846 b: -0.11572296 c: -0.15194052 d: 15.721472 loss: 258.51193\n",
            "1500 a: 0.06682486 b: -0.11572295 c: -0.15194052 d: 15.721472 loss: 258.51193\n",
            "1600 a: 0.06682478 b: -0.11572303 c: -0.15193997 d: 15.721473 loss: 258.51193\n",
            "1700 a: 0.066824704 b: -0.1157231 c: -0.15193944 d: 15.721474 loss: 258.51193\n",
            "1800 a: 0.06682467 b: -0.11572314 c: -0.15193915 d: 15.721475 loss: 258.51193\n",
            "1900 a: 0.06682457 b: -0.11572324 c: -0.1519384 d: 15.721476 loss: 258.51196\n",
            "2000 a: 0.0668245 b: -0.115723304 c: -0.15193793 d: 15.721477 loss: 258.51196\n"
          ],
          "name": "stdout"
        }
      ]
    },
    {
      "cell_type": "code",
      "metadata": {
        "id": "xQqQwG7HqiJB",
        "colab_type": "code",
        "outputId": "569dcaaa-181e-4905-c795-81e25393f9ae",
        "colab": {
          "base_uri": "https://localhost:8080/",
          "height": 842
        }
      },
      "source": [
        "line_x=np.arange(min(X),max(X),0.01);\n",
        "line_y=a*line_x**3+b*line_x**2+c*line_x+d\n",
        "\n",
        "plt.plot(X,Y,'bo')\n",
        "plt.plot(line_x,line_y,'r-')\n",
        "plt.ylabel('인구증가율 (%)')\n",
        "plt.xlabel('고령인구 비율 (%)')\n",
        "plt.show"
      ],
      "execution_count": 0,
      "outputs": [
        {
          "output_type": "execute_result",
          "data": {
            "text/plain": [
              "<function matplotlib.pyplot.show>"
            ]
          },
          "metadata": {
            "tags": []
          },
          "execution_count": 24
        },
        {
          "output_type": "stream",
          "text": [
            "/usr/local/lib/python3.6/dist-packages/matplotlib/backends/backend_agg.py:211: RuntimeWarning: Glyph 44256 missing from current font.\n",
            "  font.set_text(s, 0.0, flags=flags)\n",
            "/usr/local/lib/python3.6/dist-packages/matplotlib/backends/backend_agg.py:211: RuntimeWarning: Glyph 47161 missing from current font.\n",
            "  font.set_text(s, 0.0, flags=flags)\n",
            "/usr/local/lib/python3.6/dist-packages/matplotlib/backends/backend_agg.py:211: RuntimeWarning: Glyph 51064 missing from current font.\n",
            "  font.set_text(s, 0.0, flags=flags)\n",
            "/usr/local/lib/python3.6/dist-packages/matplotlib/backends/backend_agg.py:211: RuntimeWarning: Glyph 44396 missing from current font.\n",
            "  font.set_text(s, 0.0, flags=flags)\n",
            "/usr/local/lib/python3.6/dist-packages/matplotlib/backends/backend_agg.py:211: RuntimeWarning: Glyph 48708 missing from current font.\n",
            "  font.set_text(s, 0.0, flags=flags)\n",
            "/usr/local/lib/python3.6/dist-packages/matplotlib/backends/backend_agg.py:211: RuntimeWarning: Glyph 50984 missing from current font.\n",
            "  font.set_text(s, 0.0, flags=flags)\n",
            "/usr/local/lib/python3.6/dist-packages/matplotlib/backends/backend_agg.py:180: RuntimeWarning: Glyph 44256 missing from current font.\n",
            "  font.set_text(s, 0, flags=flags)\n",
            "/usr/local/lib/python3.6/dist-packages/matplotlib/backends/backend_agg.py:180: RuntimeWarning: Glyph 47161 missing from current font.\n",
            "  font.set_text(s, 0, flags=flags)\n",
            "/usr/local/lib/python3.6/dist-packages/matplotlib/backends/backend_agg.py:180: RuntimeWarning: Glyph 51064 missing from current font.\n",
            "  font.set_text(s, 0, flags=flags)\n",
            "/usr/local/lib/python3.6/dist-packages/matplotlib/backends/backend_agg.py:180: RuntimeWarning: Glyph 44396 missing from current font.\n",
            "  font.set_text(s, 0, flags=flags)\n",
            "/usr/local/lib/python3.6/dist-packages/matplotlib/backends/backend_agg.py:180: RuntimeWarning: Glyph 48708 missing from current font.\n",
            "  font.set_text(s, 0, flags=flags)\n",
            "/usr/local/lib/python3.6/dist-packages/matplotlib/backends/backend_agg.py:180: RuntimeWarning: Glyph 50984 missing from current font.\n",
            "  font.set_text(s, 0, flags=flags)\n",
            "/usr/local/lib/python3.6/dist-packages/matplotlib/backends/backend_agg.py:211: RuntimeWarning: Glyph 51613 missing from current font.\n",
            "  font.set_text(s, 0.0, flags=flags)\n",
            "/usr/local/lib/python3.6/dist-packages/matplotlib/backends/backend_agg.py:211: RuntimeWarning: Glyph 44032 missing from current font.\n",
            "  font.set_text(s, 0.0, flags=flags)\n",
            "/usr/local/lib/python3.6/dist-packages/matplotlib/backends/backend_agg.py:180: RuntimeWarning: Glyph 51613 missing from current font.\n",
            "  font.set_text(s, 0, flags=flags)\n",
            "/usr/local/lib/python3.6/dist-packages/matplotlib/backends/backend_agg.py:180: RuntimeWarning: Glyph 44032 missing from current font.\n",
            "  font.set_text(s, 0, flags=flags)\n"
          ],
          "name": "stderr"
        },
        {
          "output_type": "display_data",
          "data": {
            "image/png": "[encoded data removed]",
            "text/plain": [
              "<Figure size 432x288 with 1 Axes>"
            ]
          },
          "metadata": {
            "tags": []
          }
        }
      ]
    },
    {
      "cell_type": "markdown",
      "metadata": {
        "id": "JseJSvjEtDzn",
        "colab_type": "text"
      },
      "source": [
        "\n",
        "## regression with deep learning network"
      ]
    },
    {
      "cell_type": "code",
      "metadata": {
        "id": "ai28pZGltRb9",
        "colab_type": "code",
        "outputId": "60846e1c-0b98-4fd0-d6e1-bd1de6b98578",
        "colab": {
          "base_uri": "https://localhost:8080/",
          "height": 228
        }
      },
      "source": [
        "model=tf.keras.Sequential([tf.keras.layers.Dense(units=6,activation='tanh',input_shape=(1,)),\n",
        "                           tf.keras.layers.Dense(units=1)]) # 출력이 하나이기 때문에 뉴런이 1개\n",
        "\n",
        "model.compile(optimizer=tf.keras.optimizers.SGD(lr=0.1),loss='mse') #optimizer와 최소화할 loss function 한번에 정함\n",
        "\n",
        "model.summary()"
      ],
      "execution_count": 0,
      "outputs": [
        {
          "output_type": "stream",
          "text": [
            "Model: \"sequential\"\n",
            "_________________________________________________________________\n",
            "Layer (type)                 Output Shape              Param #   \n",
            "=================================================================\n",
            "dense (Dense)                (None, 6)                 12        \n",
            "_________________________________________________________________\n",
            "dense_1 (Dense)              (None, 1)                 7         \n",
            "=================================================================\n",
            "Total params: 19\n",
            "Trainable params: 19\n",
            "Non-trainable params: 0\n",
            "_________________________________________________________________\n"
          ],
          "name": "stdout"
        }
      ]
    },
    {
      "cell_type": "code",
      "metadata": {
        "id": "4hvqaYitt3Mi",
        "colab_type": "code",
        "outputId": "b822fc54-bb1f-444c-c832-d871a8852327",
        "colab": {
          "base_uri": "https://localhost:8080/",
          "height": 404
        }
      },
      "source": [
        "model.fit(X,Y,epochs=10) # 모델 학습"
      ],
      "execution_count": 0,
      "outputs": [
        {
          "output_type": "stream",
          "text": [
            "Train on 16 samples\n",
            "Epoch 1/10\n",
            "16/16 [==============================] - 2s 108ms/sample - loss: 254.1395\n",
            "Epoch 2/10\n",
            "16/16 [==============================] - 0s 522us/sample - loss: 108.4063\n",
            "Epoch 3/10\n",
            "16/16 [==============================] - 0s 468us/sample - loss: 10.2895\n",
            "Epoch 4/10\n",
            "16/16 [==============================] - 0s 443us/sample - loss: 9.6767\n",
            "Epoch 5/10\n",
            "16/16 [==============================] - 0s 399us/sample - loss: 9.6514\n",
            "Epoch 6/10\n",
            "16/16 [==============================] - 0s 383us/sample - loss: 9.6456\n",
            "Epoch 7/10\n",
            "16/16 [==============================] - 0s 374us/sample - loss: 9.6401\n",
            "Epoch 8/10\n",
            "16/16 [==============================] - 0s 381us/sample - loss: 9.6341\n",
            "Epoch 9/10\n",
            "16/16 [==============================] - 0s 349us/sample - loss: 9.6274\n",
            "Epoch 10/10\n",
            "16/16 [==============================] - 0s 353us/sample - loss: 9.6200\n"
          ],
          "name": "stdout"
        },
        {
          "output_type": "execute_result",
          "data": {
            "text/plain": [
              "<tensorflow.python.keras.callbacks.History at 0x7ff34671a160>"
            ]
          },
          "metadata": {
            "tags": []
          },
          "execution_count": 28
        }
      ]
    },
    {
      "cell_type": "code",
      "metadata": {
        "id": "2tMmAdAVuyBL",
        "colab_type": "code",
        "outputId": "7640fda9-b1c8-4357-c3f7-ad986e89d28a",
        "colab": {
          "base_uri": "https://localhost:8080/",
          "height": 279
        }
      },
      "source": [
        "line_x=np.arange(min(X),max(X),0.01)\n",
        "line_y=model.predict(line_x)\n",
        "\n",
        "plt.plot(line_x,line_y,'r-')\n",
        "plt.scatter(X,Y)\n",
        "plt.xlabel(\"population groth rate(%)\")\n",
        "plt.ylabel(\"elderly population rate (%)\")\n",
        "plt.show()"
      ],
      "execution_count": 32,
      "outputs": [
        {
          "output_type": "display_data",
          "data": {
            "image/png": "[encoded data removed]",
            "text/plain": [
              "<Figure size 432x288 with 1 Axes>"
            ]
          },
          "metadata": {
            "tags": []
          }
        }
      ]
    }
  ]
}