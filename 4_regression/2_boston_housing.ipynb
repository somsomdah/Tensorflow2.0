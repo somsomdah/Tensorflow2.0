{
  "nbformat": 4,
  "nbformat_minor": 0,
  "metadata": {
    "colab": {
      "name": "2_bostern_housing.ipynb",
      "provenance": [],
      "collapsed_sections": []
    },
    "kernelspec": {
      "name": "python3",
      "display_name": "Python 3"
    },
    "accelerator": "GPU"
  },
  "cells": [
    {
      "cell_type": "code",
      "metadata": {
        "id": "ND_9hMo0EfKB",
        "colab_type": "code",
        "colab": {
          "base_uri": "https://localhost:8080/",
          "height": 34
        },
        "outputId": "331dd705-49c7-49a0-b655-ff8bde84bec1"
      },
      "source": [
        "%tensorflow_version 2.x"
      ],
      "execution_count": 1,
      "outputs": [
        {
          "output_type": "stream",
          "text": [
            "TensorFlow 2.x selected.\n"
          ],
          "name": "stdout"
        }
      ]
    },
    {
      "cell_type": "code",
      "metadata": {
        "id": "B75AkrM6EqPE",
        "colab_type": "code",
        "colab": {}
      },
      "source": [
        "import tensorflow as tf\n",
        "import matplotlib.pyplot as plt\n",
        "import numpy as np"
      ],
      "execution_count": 0,
      "outputs": []
    },
    {
      "cell_type": "code",
      "metadata": {
        "id": "pBLRit0CE3jI",
        "colab_type": "code",
        "colab": {
          "base_uri": "https://localhost:8080/",
          "height": 34
        },
        "outputId": "50a6655d-396c-4c62-ddb6-5251947d82aa"
      },
      "source": [
        "tf.__version__"
      ],
      "execution_count": 3,
      "outputs": [
        {
          "output_type": "execute_result",
          "data": {
            "text/plain": [
              "'2.1.0'"
            ]
          },
          "metadata": {
            "tags": []
          },
          "execution_count": 3
        }
      ]
    },
    {
      "cell_type": "code",
      "metadata": {
        "id": "LY4xWusdE5gn",
        "colab_type": "code",
        "colab": {}
      },
      "source": [
        "(train_X,train_Y),(test_X,test_Y)=tf.keras.datasets.boston_housing.load_data()"
      ],
      "execution_count": 0,
      "outputs": []
    },
    {
      "cell_type": "code",
      "metadata": {
        "id": "EAzSO88LFYgn",
        "colab_type": "code",
        "colab": {
          "base_uri": "https://localhost:8080/",
          "height": 87
        },
        "outputId": "4899d76c-3f6e-43d8-c9d2-ca976efe512f"
      },
      "source": [
        "print(len(train_X),len(test_X))\n",
        "print(train_X[0])\n",
        "print(train_Y[0])"
      ],
      "execution_count": 5,
      "outputs": [
        {
          "output_type": "stream",
          "text": [
            "404 102\n",
            "[  1.23247   0.        8.14      0.        0.538     6.142    91.7\n",
            "   3.9769    4.      307.       21.      396.9      18.72   ]\n",
            "15.2\n"
          ],
          "name": "stdout"
        }
      ]
    },
    {
      "cell_type": "code",
      "metadata": {
        "id": "8FefsKosFq36",
        "colab_type": "code",
        "colab": {}
      },
      "source": [
        "def standardization(train_data,test_data):\n",
        "\n",
        "  mean=train_data.mean()\n",
        "  std=train_data.std()\n",
        "\n",
        "  new_train_data=(train_data-mean)/std\n",
        "  new_test_data=(test_data-mean)/std\n",
        "\n",
        "  return new_train_data,new_test_data"
      ],
      "execution_count": 0,
      "outputs": []
    },
    {
      "cell_type": "code",
      "metadata": {
        "id": "_5664_AmHzBA",
        "colab_type": "code",
        "colab": {}
      },
      "source": [
        "train_X,test_X=standardization(train_X,test_X)\n",
        "train_Y,test_Y=standardization(train_Y,test_Y)"
      ],
      "execution_count": 0,
      "outputs": []
    },
    {
      "cell_type": "code",
      "metadata": {
        "id": "UIouScDEIfUf",
        "colab_type": "code",
        "colab": {
          "base_uri": "https://localhost:8080/",
          "height": 87
        },
        "outputId": "12731553-cb73-493e-ba41-9bec82375e59"
      },
      "source": [
        "print(train_X[0])\n",
        "print(train_Y[0])"
      ],
      "execution_count": 8,
      "outputs": [
        {
          "output_type": "stream",
          "text": [
            "[-0.47482083 -0.48335641 -0.42698208 -0.48335641 -0.47963044 -0.44081941\n",
            "  0.15172056 -0.45581402 -0.45565404  1.64280094 -0.33791894  2.26541184\n",
            " -0.35370929]\n",
            "-0.7821526033779157\n"
          ],
          "name": "stdout"
        }
      ]
    },
    {
      "cell_type": "code",
      "metadata": {
        "id": "9VQne8NOIuMj",
        "colab_type": "code",
        "colab": {
          "base_uri": "https://localhost:8080/",
          "height": 298
        },
        "outputId": "16357f8a-3caf-4b10-deb7-aaf87b20ea6b"
      },
      "source": [
        "model=tf.keras.Sequential([\n",
        "                           tf.keras.layers.Dense(units=52,activation='relu',input_shape=(13,)),\n",
        "                           tf.keras.layers.Dense(units=39,activation='relu'),\n",
        "                           tf.keras.layers.Dense(units=26,activation='relu'),\n",
        "                           tf.keras.layers.Dense(units=1)\n",
        "])\n",
        "\n",
        "model.compile(optimizer=tf.keras.optimizers.Adam(lr=0.07),loss='mse')\n",
        "model.summary()"
      ],
      "execution_count": 9,
      "outputs": [
        {
          "output_type": "stream",
          "text": [
            "Model: \"sequential\"\n",
            "_________________________________________________________________\n",
            "Layer (type)                 Output Shape              Param #   \n",
            "=================================================================\n",
            "dense (Dense)                (None, 52)                728       \n",
            "_________________________________________________________________\n",
            "dense_1 (Dense)              (None, 39)                2067      \n",
            "_________________________________________________________________\n",
            "dense_2 (Dense)              (None, 26)                1040      \n",
            "_________________________________________________________________\n",
            "dense_3 (Dense)              (None, 1)                 27        \n",
            "=================================================================\n",
            "Total params: 3,862\n",
            "Trainable params: 3,862\n",
            "Non-trainable params: 0\n",
            "_________________________________________________________________\n"
          ],
          "name": "stdout"
        }
      ]
    },
    {
      "cell_type": "code",
      "metadata": {
        "id": "N-pBheaJJolj",
        "colab_type": "code",
        "colab": {
          "base_uri": "https://localhost:8080/",
          "height": 914
        },
        "outputId": "7d443861-7288-4979-f478-9e037d992b38"
      },
      "source": [
        "history=model.fit(train_X,train_Y,epochs=25,batch_size=32,validation_split=0.25)"
      ],
      "execution_count": 10,
      "outputs": [
        {
          "output_type": "stream",
          "text": [
            "Train on 303 samples, validate on 101 samples\n",
            "Epoch 1/25\n",
            "303/303 [==============================] - 1s 2ms/sample - loss: 4.6939 - val_loss: 1.1908\n",
            "Epoch 2/25\n",
            "303/303 [==============================] - 0s 117us/sample - loss: 0.9005 - val_loss: 1.0143\n",
            "Epoch 3/25\n",
            "303/303 [==============================] - 0s 118us/sample - loss: 0.6957 - val_loss: 1.1306\n",
            "Epoch 4/25\n",
            "303/303 [==============================] - 0s 115us/sample - loss: 0.7536 - val_loss: 1.0705\n",
            "Epoch 5/25\n",
            "303/303 [==============================] - 0s 114us/sample - loss: 0.7004 - val_loss: 1.0352\n",
            "Epoch 6/25\n",
            "303/303 [==============================] - 0s 106us/sample - loss: 0.6592 - val_loss: 1.0977\n",
            "Epoch 7/25\n",
            "303/303 [==============================] - 0s 128us/sample - loss: 0.6463 - val_loss: 1.0407\n",
            "Epoch 8/25\n",
            "303/303 [==============================] - 0s 123us/sample - loss: 0.6415 - val_loss: 1.1159\n",
            "Epoch 9/25\n",
            "303/303 [==============================] - 0s 122us/sample - loss: 0.6346 - val_loss: 1.0178\n",
            "Epoch 10/25\n",
            "303/303 [==============================] - 0s 117us/sample - loss: 0.6291 - val_loss: 1.0176\n",
            "Epoch 11/25\n",
            "303/303 [==============================] - 0s 124us/sample - loss: 0.6550 - val_loss: 0.9969\n",
            "Epoch 12/25\n",
            "303/303 [==============================] - 0s 121us/sample - loss: 0.6647 - val_loss: 1.0657\n",
            "Epoch 13/25\n",
            "303/303 [==============================] - 0s 115us/sample - loss: 0.6281 - val_loss: 1.0299\n",
            "Epoch 14/25\n",
            "303/303 [==============================] - 0s 115us/sample - loss: 0.6666 - val_loss: 0.9677\n",
            "Epoch 15/25\n",
            "303/303 [==============================] - 0s 137us/sample - loss: 0.6003 - val_loss: 1.0319\n",
            "Epoch 16/25\n",
            "303/303 [==============================] - 0s 128us/sample - loss: 0.6282 - val_loss: 1.0217\n",
            "Epoch 17/25\n",
            "303/303 [==============================] - 0s 124us/sample - loss: 0.6131 - val_loss: 1.0805\n",
            "Epoch 18/25\n",
            "303/303 [==============================] - 0s 119us/sample - loss: 0.5927 - val_loss: 0.9380\n",
            "Epoch 19/25\n",
            "303/303 [==============================] - 0s 120us/sample - loss: 0.6554 - val_loss: 0.9511\n",
            "Epoch 20/25\n",
            "303/303 [==============================] - 0s 140us/sample - loss: 0.6068 - val_loss: 0.9920\n",
            "Epoch 21/25\n",
            "303/303 [==============================] - 0s 154us/sample - loss: 0.6043 - val_loss: 1.0083\n",
            "Epoch 22/25\n",
            "303/303 [==============================] - 0s 121us/sample - loss: 0.6138 - val_loss: 1.0637\n",
            "Epoch 23/25\n",
            "303/303 [==============================] - 0s 129us/sample - loss: 0.5781 - val_loss: 0.9814\n",
            "Epoch 24/25\n",
            "303/303 [==============================] - 0s 115us/sample - loss: 0.6234 - val_loss: 0.9154\n",
            "Epoch 25/25\n",
            "303/303 [==============================] - 0s 114us/sample - loss: 0.5791 - val_loss: 0.9163\n"
          ],
          "name": "stdout"
        }
      ]
    },
    {
      "cell_type": "code",
      "metadata": {
        "id": "81chNRYRJ4-v",
        "colab_type": "code",
        "colab": {
          "base_uri": "https://localhost:8080/",
          "height": 279
        },
        "outputId": "f1deb16c-1a7c-4ab7-ac11-e3252693a874"
      },
      "source": [
        "plt.plot(history.history['loss'],'b-',label='loss')\n",
        "plt.plot(history.history['val_loss'],'r--',label='val_loss')\n",
        "plt.xlabel('epoch')\n",
        "plt.legend() #범주\n",
        "plt.show()"
      ],
      "execution_count": 11,
      "outputs": [
        {
          "output_type": "display_data",
          "data": {
            "image/png": "[encoded data removed]",
            "text/plain": [
              "<Figure size 432x288 with 1 Axes>"
            ]
          },
          "metadata": {
            "tags": []
          }
        }
      ]
    },
    {
      "cell_type": "code",
      "metadata": {
        "id": "eL-_8kHSKdnc",
        "colab_type": "code",
        "colab": {
          "base_uri": "https://localhost:8080/",
          "height": 52
        },
        "outputId": "b8482ffd-d2f0-4303-e264-1a08265874a0"
      },
      "source": [
        "model.evaluate(test_X,test_Y) #test loss"
      ],
      "execution_count": 12,
      "outputs": [
        {
          "output_type": "stream",
          "text": [
            "102/102 [==============================] - 0s 89us/sample - loss: 0.6600\n"
          ],
          "name": "stdout"
        },
        {
          "output_type": "execute_result",
          "data": {
            "text/plain": [
              "0.6600259822957656"
            ]
          },
          "metadata": {
            "tags": []
          },
          "execution_count": 12
        }
      ]
    },
    {
      "cell_type": "code",
      "metadata": {
        "id": "fMFe9UQYKs_j",
        "colab_type": "code",
        "colab": {
          "base_uri": "https://localhost:8080/",
          "height": 356
        },
        "outputId": "0bc940ea-0419-47c6-c459-f1b4f40f8ba9"
      },
      "source": [
        "pred_Y=model.predict(test_X)\n",
        "\n",
        "plt.figure(figsize=(5,5))\n",
        "plt.scatter(test_Y,pred_Y)\n",
        "plt.xlabel(\"answer\")\n",
        "plt.ylabel(\"prediction\")\n",
        "plt.axis([min(test_Y),max(test_Y),min(test_Y),max(test_Y)])\n",
        "plt.plot([min(test_Y),max(test_Y)],[min(test_Y),max(test_Y)])"
      ],
      "execution_count": 13,
      "outputs": [
        {
          "output_type": "execute_result",
          "data": {
            "text/plain": [
              "[<matplotlib.lines.Line2D at 0x7f6ff85980b8>]"
            ]
          },
          "metadata": {
            "tags": []
          },
          "execution_count": 13
        },
        {
          "output_type": "display_data",
          "data": {
            "image/png": "[encoded data removed]",
            "text/plain": [
              "<Figure size 360x360 with 1 Axes>"
            ]
          },
          "metadata": {
            "tags": []
          }
        }
      ]
    },
    {
      "cell_type": "code",
      "metadata": {
        "id": "emk48RCtNp2M",
        "colab_type": "code",
        "colab": {
          "base_uri": "https://localhost:8080/",
          "height": 422
        },
        "outputId": "a374ec75-9043-4cde-9b61-f6bd4e5ded9a"
      },
      "source": [
        "history=model.fit(train_X,train_Y,epochs=25,batch_size=32,validation_split=0.25,\n",
        "                  callbacks=[tf.keras.callbacks.EarlyStopping(patience=3,monitor='val_loss')]) #val_loss가 3회 에포크동안 최고 기록을 갱신하지 못하면 학습종료"
      ],
      "execution_count": 14,
      "outputs": [
        {
          "output_type": "stream",
          "text": [
            "Train on 303 samples, validate on 101 samples\n",
            "Epoch 1/25\n",
            "303/303 [==============================] - 0s 129us/sample - loss: 0.5588 - val_loss: 1.0007\n",
            "Epoch 2/25\n",
            "303/303 [==============================] - 0s 123us/sample - loss: 0.5389 - val_loss: 0.9751\n",
            "Epoch 3/25\n",
            "303/303 [==============================] - 0s 124us/sample - loss: 0.5591 - val_loss: 0.9409\n",
            "Epoch 4/25\n",
            "303/303 [==============================] - 0s 116us/sample - loss: 0.5984 - val_loss: 1.0812\n",
            "Epoch 5/25\n",
            "303/303 [==============================] - 0s 121us/sample - loss: 0.5812 - val_loss: 0.8914\n",
            "Epoch 6/25\n",
            "303/303 [==============================] - 0s 117us/sample - loss: 0.6099 - val_loss: 0.8967\n",
            "Epoch 7/25\n",
            "303/303 [==============================] - 0s 116us/sample - loss: 0.5698 - val_loss: 0.8879\n",
            "Epoch 8/25\n",
            "303/303 [==============================] - 0s 141us/sample - loss: 0.5999 - val_loss: 0.8718\n",
            "Epoch 9/25\n",
            "303/303 [==============================] - 0s 136us/sample - loss: 0.5502 - val_loss: 1.1970\n",
            "Epoch 10/25\n",
            "303/303 [==============================] - 0s 140us/sample - loss: 0.5596 - val_loss: 1.0010\n",
            "Epoch 11/25\n",
            "303/303 [==============================] - 0s 115us/sample - loss: 0.5093 - val_loss: 1.1456\n"
          ],
          "name": "stdout"
        }
      ]
    },
    {
      "cell_type": "code",
      "metadata": {
        "colab_type": "code",
        "id": "FTxj3LYYOO0U",
        "colab": {
          "base_uri": "https://localhost:8080/",
          "height": 279
        },
        "outputId": "a8d77686-552e-43a0-8d7d-af48a3d45375"
      },
      "source": [
        "plt.plot(history.history['loss'],'b-',label='loss')\n",
        "plt.plot(history.history['val_loss'],'r--',label='val_loss')\n",
        "plt.xlabel('epoch')\n",
        "plt.legend() #범주\n",
        "plt.show()"
      ],
      "execution_count": 15,
      "outputs": [
        {
          "output_type": "display_data",
          "data": {
            "image/png": "[encoded data removed]",
            "text/plain": [
              "<Figure size 432x288 with 1 Axes>"
            ]
          },
          "metadata": {
            "tags": []
          }
        }
      ]
    },
    {
      "cell_type": "code",
      "metadata": {
        "colab_type": "code",
        "id": "kgyoSN5ROOSN",
        "colab": {
          "base_uri": "https://localhost:8080/",
          "height": 52
        },
        "outputId": "c31c98c6-f9c5-4fd1-d120-c8c245b93ae2"
      },
      "source": [
        "model.evaluate(test_X,test_Y)"
      ],
      "execution_count": 16,
      "outputs": [
        {
          "output_type": "stream",
          "text": [
            "102/102 [==============================] - 0s 98us/sample - loss: 0.7889\n"
          ],
          "name": "stdout"
        },
        {
          "output_type": "execute_result",
          "data": {
            "text/plain": [
              "0.7889041479896096"
            ]
          },
          "metadata": {
            "tags": []
          },
          "execution_count": 16
        }
      ]
    },
    {
      "cell_type": "code",
      "metadata": {
        "id": "WtnVe1aSPbJW",
        "colab_type": "code",
        "colab": {
          "base_uri": "https://localhost:8080/",
          "height": 356
        },
        "outputId": "d88fbf66-0020-4afc-a6c5-2b8ee8dd296b"
      },
      "source": [
        "pred_Y=model.predict(test_X)\n",
        "plt.figure(figsize=(5,5))\n",
        "plt.scatter(test_Y,pred_Y)\n",
        "plt.xlabel(\"answer\")\n",
        "plt.ylabel(\"prediction\")\n",
        "plt.axis([min(test_Y),max(test_Y),min(test_Y),max(test_Y)])\n",
        "plt.plot([min(test_Y),max(test_Y)],[min(test_Y),max(test_Y)])"
      ],
      "execution_count": 17,
      "outputs": [
        {
          "output_type": "execute_result",
          "data": {
            "text/plain": [
              "[<matplotlib.lines.Line2D at 0x7f6ff8485cf8>]"
            ]
          },
          "metadata": {
            "tags": []
          },
          "execution_count": 17
        },
        {
          "output_type": "display_data",
          "data": {
            "image/png": "[encoded data removed]",
            "text/plain": [
              "<Figure size 360x360 with 1 Axes>"
            ]
          },
          "metadata": {
            "tags": []
          }
        }
      ]
    }
  ]
}