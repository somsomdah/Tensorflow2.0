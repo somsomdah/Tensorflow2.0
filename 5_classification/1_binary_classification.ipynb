{
  "nbformat": 4,
  "nbformat_minor": 0,
  "metadata": {
    "colab": {
      "name": "1_binary_classification.ipynb",
      "provenance": [],
      "collapsed_sections": []
    },
    "kernelspec": {
      "name": "python3",
      "display_name": "Python 3"
    },
    "accelerator": "GPU"
  },
  "cells": [
    {
      "cell_type": "code",
      "metadata": {
        "id": "rsqCcLHgzr0G",
        "colab_type": "code",
        "colab": {}
      },
      "source": [
        "%tensorflow_version 2.x"
      ],
      "execution_count": 0,
      "outputs": []
    },
    {
      "cell_type": "code",
      "metadata": {
        "id": "rL0CSn9z3fh8",
        "colab_type": "code",
        "colab": {}
      },
      "source": [
        "import tensorflow as tf\n",
        "import numpy as np\n",
        "import pandas as pd\n",
        "import matplotlib.pyplot as plt"
      ],
      "execution_count": 0,
      "outputs": []
    },
    {
      "cell_type": "markdown",
      "metadata": {
        "id": "wa1Sybp8YnTo",
        "colab_type": "text"
      },
      "source": [
        "## binary classification with wine data"
      ]
    },
    {
      "cell_type": "markdown",
      "metadata": {
        "id": "4kwgi0iGYyez",
        "colab_type": "text"
      },
      "source": [
        "### data loading and preprocessing"
      ]
    },
    {
      "cell_type": "code",
      "metadata": {
        "id": "eSDWToCkYrpi",
        "colab_type": "code",
        "colab": {}
      },
      "source": [
        "red=pd.read_csv('https://archive.ics.uci.edu/ml/machine-learning-databases/wine-quality/winequality-red.csv',sep=';')\n",
        "white=pd.read_csv('https://archive.ics.uci.edu/ml/machine-learning-databases/wine-quality/winequality-white.csv',sep=';')"
      ],
      "execution_count": 0,
      "outputs": []
    },
    {
      "cell_type": "code",
      "metadata": {
        "id": "kKl1FvAp3he-",
        "colab_type": "code",
        "colab": {
          "base_uri": "https://localhost:8080/",
          "height": 195
        },
        "outputId": "cb6dcadd-a1c5-4fce-c288-ee3423c8b8a7"
      },
      "source": [
        "red.head()"
      ],
      "execution_count": 22,
      "outputs": [
        {
          "output_type": "execute_result",
          "data": {
            "text/html": [
              "<div>\n",
              "<style scoped>\n",
              "    .dataframe tbody tr th:only-of-type {\n",
              "        vertical-align: middle;\n",
              "    }\n",
              "\n",
              "    .dataframe tbody tr th {\n",
              "        vertical-align: top;\n",
              "    }\n",
              "\n",
              "    .dataframe thead th {\n",
              "        text-align: right;\n",
              "    }\n",
              "</style>\n",
              "<table border=\"1\" class=\"dataframe\">\n",
              "  <thead>\n",
              "    <tr style=\"text-align: right;\">\n",
              "      <th></th>\n",
              "      <th>fixed acidity</th>\n",
              "      <th>volatile acidity</th>\n",
              "      <th>citric acid</th>\n",
              "      <th>residual sugar</th>\n",
              "      <th>chlorides</th>\n",
              "      <th>free sulfur dioxide</th>\n",
              "      <th>total sulfur dioxide</th>\n",
              "      <th>density</th>\n",
              "      <th>pH</th>\n",
              "      <th>sulphates</th>\n",
              "      <th>alcohol</th>\n",
              "      <th>quality</th>\n",
              "    </tr>\n",
              "  </thead>\n",
              "  <tbody>\n",
              "    <tr>\n",
              "      <th>0</th>\n",
              "      <td>7.4</td>\n",
              "      <td>0.70</td>\n",
              "      <td>0.00</td>\n",
              "      <td>1.9</td>\n",
              "      <td>0.076</td>\n",
              "      <td>11.0</td>\n",
              "      <td>34.0</td>\n",
              "      <td>0.9978</td>\n",
              "      <td>3.51</td>\n",
              "      <td>0.56</td>\n",
              "      <td>9.4</td>\n",
              "      <td>5</td>\n",
              "    </tr>\n",
              "    <tr>\n",
              "      <th>1</th>\n",
              "      <td>7.8</td>\n",
              "      <td>0.88</td>\n",
              "      <td>0.00</td>\n",
              "      <td>2.6</td>\n",
              "      <td>0.098</td>\n",
              "      <td>25.0</td>\n",
              "      <td>67.0</td>\n",
              "      <td>0.9968</td>\n",
              "      <td>3.20</td>\n",
              "      <td>0.68</td>\n",
              "      <td>9.8</td>\n",
              "      <td>5</td>\n",
              "    </tr>\n",
              "    <tr>\n",
              "      <th>2</th>\n",
              "      <td>7.8</td>\n",
              "      <td>0.76</td>\n",
              "      <td>0.04</td>\n",
              "      <td>2.3</td>\n",
              "      <td>0.092</td>\n",
              "      <td>15.0</td>\n",
              "      <td>54.0</td>\n",
              "      <td>0.9970</td>\n",
              "      <td>3.26</td>\n",
              "      <td>0.65</td>\n",
              "      <td>9.8</td>\n",
              "      <td>5</td>\n",
              "    </tr>\n",
              "    <tr>\n",
              "      <th>3</th>\n",
              "      <td>11.2</td>\n",
              "      <td>0.28</td>\n",
              "      <td>0.56</td>\n",
              "      <td>1.9</td>\n",
              "      <td>0.075</td>\n",
              "      <td>17.0</td>\n",
              "      <td>60.0</td>\n",
              "      <td>0.9980</td>\n",
              "      <td>3.16</td>\n",
              "      <td>0.58</td>\n",
              "      <td>9.8</td>\n",
              "      <td>6</td>\n",
              "    </tr>\n",
              "    <tr>\n",
              "      <th>4</th>\n",
              "      <td>7.4</td>\n",
              "      <td>0.70</td>\n",
              "      <td>0.00</td>\n",
              "      <td>1.9</td>\n",
              "      <td>0.076</td>\n",
              "      <td>11.0</td>\n",
              "      <td>34.0</td>\n",
              "      <td>0.9978</td>\n",
              "      <td>3.51</td>\n",
              "      <td>0.56</td>\n",
              "      <td>9.4</td>\n",
              "      <td>5</td>\n",
              "    </tr>\n",
              "  </tbody>\n",
              "</table>\n",
              "</div>"
            ],
            "text/plain": [
              "   fixed acidity  volatile acidity  citric acid  ...  sulphates  alcohol  quality\n",
              "0            7.4              0.70         0.00  ...       0.56      9.4        5\n",
              "1            7.8              0.88         0.00  ...       0.68      9.8        5\n",
              "2            7.8              0.76         0.04  ...       0.65      9.8        5\n",
              "3           11.2              0.28         0.56  ...       0.58      9.8        6\n",
              "4            7.4              0.70         0.00  ...       0.56      9.4        5\n",
              "\n",
              "[5 rows x 12 columns]"
            ]
          },
          "metadata": {
            "tags": []
          },
          "execution_count": 22
        }
      ]
    },
    {
      "cell_type": "code",
      "metadata": {
        "id": "N74zTPWsb7Gv",
        "colab_type": "code",
        "colab": {
          "base_uri": "https://localhost:8080/",
          "height": 195
        },
        "outputId": "99d69368-f28a-483d-d2ae-fe529a52ef12"
      },
      "source": [
        "white.head()"
      ],
      "execution_count": 23,
      "outputs": [
        {
          "output_type": "execute_result",
          "data": {
            "text/html": [
              "<div>\n",
              "<style scoped>\n",
              "    .dataframe tbody tr th:only-of-type {\n",
              "        vertical-align: middle;\n",
              "    }\n",
              "\n",
              "    .dataframe tbody tr th {\n",
              "        vertical-align: top;\n",
              "    }\n",
              "\n",
              "    .dataframe thead th {\n",
              "        text-align: right;\n",
              "    }\n",
              "</style>\n",
              "<table border=\"1\" class=\"dataframe\">\n",
              "  <thead>\n",
              "    <tr style=\"text-align: right;\">\n",
              "      <th></th>\n",
              "      <th>fixed acidity</th>\n",
              "      <th>volatile acidity</th>\n",
              "      <th>citric acid</th>\n",
              "      <th>residual sugar</th>\n",
              "      <th>chlorides</th>\n",
              "      <th>free sulfur dioxide</th>\n",
              "      <th>total sulfur dioxide</th>\n",
              "      <th>density</th>\n",
              "      <th>pH</th>\n",
              "      <th>sulphates</th>\n",
              "      <th>alcohol</th>\n",
              "      <th>quality</th>\n",
              "    </tr>\n",
              "  </thead>\n",
              "  <tbody>\n",
              "    <tr>\n",
              "      <th>0</th>\n",
              "      <td>7.0</td>\n",
              "      <td>0.27</td>\n",
              "      <td>0.36</td>\n",
              "      <td>20.7</td>\n",
              "      <td>0.045</td>\n",
              "      <td>45.0</td>\n",
              "      <td>170.0</td>\n",
              "      <td>1.0010</td>\n",
              "      <td>3.00</td>\n",
              "      <td>0.45</td>\n",
              "      <td>8.8</td>\n",
              "      <td>6</td>\n",
              "    </tr>\n",
              "    <tr>\n",
              "      <th>1</th>\n",
              "      <td>6.3</td>\n",
              "      <td>0.30</td>\n",
              "      <td>0.34</td>\n",
              "      <td>1.6</td>\n",
              "      <td>0.049</td>\n",
              "      <td>14.0</td>\n",
              "      <td>132.0</td>\n",
              "      <td>0.9940</td>\n",
              "      <td>3.30</td>\n",
              "      <td>0.49</td>\n",
              "      <td>9.5</td>\n",
              "      <td>6</td>\n",
              "    </tr>\n",
              "    <tr>\n",
              "      <th>2</th>\n",
              "      <td>8.1</td>\n",
              "      <td>0.28</td>\n",
              "      <td>0.40</td>\n",
              "      <td>6.9</td>\n",
              "      <td>0.050</td>\n",
              "      <td>30.0</td>\n",
              "      <td>97.0</td>\n",
              "      <td>0.9951</td>\n",
              "      <td>3.26</td>\n",
              "      <td>0.44</td>\n",
              "      <td>10.1</td>\n",
              "      <td>6</td>\n",
              "    </tr>\n",
              "    <tr>\n",
              "      <th>3</th>\n",
              "      <td>7.2</td>\n",
              "      <td>0.23</td>\n",
              "      <td>0.32</td>\n",
              "      <td>8.5</td>\n",
              "      <td>0.058</td>\n",
              "      <td>47.0</td>\n",
              "      <td>186.0</td>\n",
              "      <td>0.9956</td>\n",
              "      <td>3.19</td>\n",
              "      <td>0.40</td>\n",
              "      <td>9.9</td>\n",
              "      <td>6</td>\n",
              "    </tr>\n",
              "    <tr>\n",
              "      <th>4</th>\n",
              "      <td>7.2</td>\n",
              "      <td>0.23</td>\n",
              "      <td>0.32</td>\n",
              "      <td>8.5</td>\n",
              "      <td>0.058</td>\n",
              "      <td>47.0</td>\n",
              "      <td>186.0</td>\n",
              "      <td>0.9956</td>\n",
              "      <td>3.19</td>\n",
              "      <td>0.40</td>\n",
              "      <td>9.9</td>\n",
              "      <td>6</td>\n",
              "    </tr>\n",
              "  </tbody>\n",
              "</table>\n",
              "</div>"
            ],
            "text/plain": [
              "   fixed acidity  volatile acidity  citric acid  ...  sulphates  alcohol  quality\n",
              "0            7.0              0.27         0.36  ...       0.45      8.8        6\n",
              "1            6.3              0.30         0.34  ...       0.49      9.5        6\n",
              "2            8.1              0.28         0.40  ...       0.44     10.1        6\n",
              "3            7.2              0.23         0.32  ...       0.40      9.9        6\n",
              "4            7.2              0.23         0.32  ...       0.40      9.9        6\n",
              "\n",
              "[5 rows x 12 columns]"
            ]
          },
          "metadata": {
            "tags": []
          },
          "execution_count": 23
        }
      ]
    },
    {
      "cell_type": "code",
      "metadata": {
        "id": "Ps5_SL6mcAO9",
        "colab_type": "code",
        "colab": {
          "base_uri": "https://localhost:8080/",
          "height": 316
        },
        "outputId": "26bb584a-c54e-4429-ec87-ebd1cb36b69d"
      },
      "source": [
        "red.info()"
      ],
      "execution_count": 24,
      "outputs": [
        {
          "output_type": "stream",
          "text": [
            "<class 'pandas.core.frame.DataFrame'>\n",
            "RangeIndex: 1599 entries, 0 to 1598\n",
            "Data columns (total 12 columns):\n",
            "fixed acidity           1599 non-null float64\n",
            "volatile acidity        1599 non-null float64\n",
            "citric acid             1599 non-null float64\n",
            "residual sugar          1599 non-null float64\n",
            "chlorides               1599 non-null float64\n",
            "free sulfur dioxide     1599 non-null float64\n",
            "total sulfur dioxide    1599 non-null float64\n",
            "density                 1599 non-null float64\n",
            "pH                      1599 non-null float64\n",
            "sulphates               1599 non-null float64\n",
            "alcohol                 1599 non-null float64\n",
            "quality                 1599 non-null int64\n",
            "dtypes: float64(11), int64(1)\n",
            "memory usage: 150.0 KB\n"
          ],
          "name": "stdout"
        }
      ]
    },
    {
      "cell_type": "code",
      "metadata": {
        "id": "snjAlLqKcCx5",
        "colab_type": "code",
        "colab": {
          "base_uri": "https://localhost:8080/",
          "height": 316
        },
        "outputId": "56eb1998-57ce-42e9-a308-93aac06690f5"
      },
      "source": [
        "white.info()"
      ],
      "execution_count": 25,
      "outputs": [
        {
          "output_type": "stream",
          "text": [
            "<class 'pandas.core.frame.DataFrame'>\n",
            "RangeIndex: 4898 entries, 0 to 4897\n",
            "Data columns (total 12 columns):\n",
            "fixed acidity           4898 non-null float64\n",
            "volatile acidity        4898 non-null float64\n",
            "citric acid             4898 non-null float64\n",
            "residual sugar          4898 non-null float64\n",
            "chlorides               4898 non-null float64\n",
            "free sulfur dioxide     4898 non-null float64\n",
            "total sulfur dioxide    4898 non-null float64\n",
            "density                 4898 non-null float64\n",
            "pH                      4898 non-null float64\n",
            "sulphates               4898 non-null float64\n",
            "alcohol                 4898 non-null float64\n",
            "quality                 4898 non-null int64\n",
            "dtypes: float64(11), int64(1)\n",
            "memory usage: 459.3 KB\n"
          ],
          "name": "stdout"
        }
      ]
    },
    {
      "cell_type": "code",
      "metadata": {
        "id": "MIM_npjjc88y",
        "colab_type": "code",
        "colab": {}
      },
      "source": [
        "#target 속성 추가\n",
        "red['type']=0\n",
        "white['type']=1"
      ],
      "execution_count": 0,
      "outputs": []
    },
    {
      "cell_type": "code",
      "metadata": {
        "id": "bUaR2wOmc34b",
        "colab_type": "code",
        "colab": {}
      },
      "source": [
        "wine=pd.concat([red,white],axis=0)"
      ],
      "execution_count": 0,
      "outputs": []
    },
    {
      "cell_type": "code",
      "metadata": {
        "id": "f_OUK2zOc5CE",
        "colab_type": "code",
        "colab": {
          "base_uri": "https://localhost:8080/",
          "height": 195
        },
        "outputId": "de5d2ec7-6497-47af-aafd-95c84cd79d46"
      },
      "source": [
        "wine.head()"
      ],
      "execution_count": 28,
      "outputs": [
        {
          "output_type": "execute_result",
          "data": {
            "text/html": [
              "<div>\n",
              "<style scoped>\n",
              "    .dataframe tbody tr th:only-of-type {\n",
              "        vertical-align: middle;\n",
              "    }\n",
              "\n",
              "    .dataframe tbody tr th {\n",
              "        vertical-align: top;\n",
              "    }\n",
              "\n",
              "    .dataframe thead th {\n",
              "        text-align: right;\n",
              "    }\n",
              "</style>\n",
              "<table border=\"1\" class=\"dataframe\">\n",
              "  <thead>\n",
              "    <tr style=\"text-align: right;\">\n",
              "      <th></th>\n",
              "      <th>fixed acidity</th>\n",
              "      <th>volatile acidity</th>\n",
              "      <th>citric acid</th>\n",
              "      <th>residual sugar</th>\n",
              "      <th>chlorides</th>\n",
              "      <th>free sulfur dioxide</th>\n",
              "      <th>total sulfur dioxide</th>\n",
              "      <th>density</th>\n",
              "      <th>pH</th>\n",
              "      <th>sulphates</th>\n",
              "      <th>alcohol</th>\n",
              "      <th>quality</th>\n",
              "      <th>type</th>\n",
              "    </tr>\n",
              "  </thead>\n",
              "  <tbody>\n",
              "    <tr>\n",
              "      <th>0</th>\n",
              "      <td>7.4</td>\n",
              "      <td>0.70</td>\n",
              "      <td>0.00</td>\n",
              "      <td>1.9</td>\n",
              "      <td>0.076</td>\n",
              "      <td>11.0</td>\n",
              "      <td>34.0</td>\n",
              "      <td>0.9978</td>\n",
              "      <td>3.51</td>\n",
              "      <td>0.56</td>\n",
              "      <td>9.4</td>\n",
              "      <td>5</td>\n",
              "      <td>0</td>\n",
              "    </tr>\n",
              "    <tr>\n",
              "      <th>1</th>\n",
              "      <td>7.8</td>\n",
              "      <td>0.88</td>\n",
              "      <td>0.00</td>\n",
              "      <td>2.6</td>\n",
              "      <td>0.098</td>\n",
              "      <td>25.0</td>\n",
              "      <td>67.0</td>\n",
              "      <td>0.9968</td>\n",
              "      <td>3.20</td>\n",
              "      <td>0.68</td>\n",
              "      <td>9.8</td>\n",
              "      <td>5</td>\n",
              "      <td>0</td>\n",
              "    </tr>\n",
              "    <tr>\n",
              "      <th>2</th>\n",
              "      <td>7.8</td>\n",
              "      <td>0.76</td>\n",
              "      <td>0.04</td>\n",
              "      <td>2.3</td>\n",
              "      <td>0.092</td>\n",
              "      <td>15.0</td>\n",
              "      <td>54.0</td>\n",
              "      <td>0.9970</td>\n",
              "      <td>3.26</td>\n",
              "      <td>0.65</td>\n",
              "      <td>9.8</td>\n",
              "      <td>5</td>\n",
              "      <td>0</td>\n",
              "    </tr>\n",
              "    <tr>\n",
              "      <th>3</th>\n",
              "      <td>11.2</td>\n",
              "      <td>0.28</td>\n",
              "      <td>0.56</td>\n",
              "      <td>1.9</td>\n",
              "      <td>0.075</td>\n",
              "      <td>17.0</td>\n",
              "      <td>60.0</td>\n",
              "      <td>0.9980</td>\n",
              "      <td>3.16</td>\n",
              "      <td>0.58</td>\n",
              "      <td>9.8</td>\n",
              "      <td>6</td>\n",
              "      <td>0</td>\n",
              "    </tr>\n",
              "    <tr>\n",
              "      <th>4</th>\n",
              "      <td>7.4</td>\n",
              "      <td>0.70</td>\n",
              "      <td>0.00</td>\n",
              "      <td>1.9</td>\n",
              "      <td>0.076</td>\n",
              "      <td>11.0</td>\n",
              "      <td>34.0</td>\n",
              "      <td>0.9978</td>\n",
              "      <td>3.51</td>\n",
              "      <td>0.56</td>\n",
              "      <td>9.4</td>\n",
              "      <td>5</td>\n",
              "      <td>0</td>\n",
              "    </tr>\n",
              "  </tbody>\n",
              "</table>\n",
              "</div>"
            ],
            "text/plain": [
              "   fixed acidity  volatile acidity  citric acid  ...  alcohol  quality  type\n",
              "0            7.4              0.70         0.00  ...      9.4        5     0\n",
              "1            7.8              0.88         0.00  ...      9.8        5     0\n",
              "2            7.8              0.76         0.04  ...      9.8        5     0\n",
              "3           11.2              0.28         0.56  ...      9.8        6     0\n",
              "4            7.4              0.70         0.00  ...      9.4        5     0\n",
              "\n",
              "[5 rows x 13 columns]"
            ]
          },
          "metadata": {
            "tags": []
          },
          "execution_count": 28
        }
      ]
    },
    {
      "cell_type": "code",
      "metadata": {
        "id": "S3wUh9smgOMl",
        "colab_type": "code",
        "colab": {}
      },
      "source": [
        "from sklearn.preprocessing import MinMaxScaler\n",
        "scaler = MinMaxScaler()\n",
        "wine=scaler.fit_transform(wine)"
      ],
      "execution_count": 0,
      "outputs": []
    },
    {
      "cell_type": "code",
      "metadata": {
        "id": "VR6etVo3hZKF",
        "colab_type": "code",
        "colab": {
          "base_uri": "https://localhost:8080/",
          "height": 402
        },
        "outputId": "b613c5a9-64e3-40c7-c30c-1cf43b3005c1"
      },
      "source": [
        "pd.DataFrame(wine)"
      ],
      "execution_count": 30,
      "outputs": [
        {
          "output_type": "execute_result",
          "data": {
            "text/html": [
              "<div>\n",
              "<style scoped>\n",
              "    .dataframe tbody tr th:only-of-type {\n",
              "        vertical-align: middle;\n",
              "    }\n",
              "\n",
              "    .dataframe tbody tr th {\n",
              "        vertical-align: top;\n",
              "    }\n",
              "\n",
              "    .dataframe thead th {\n",
              "        text-align: right;\n",
              "    }\n",
              "</style>\n",
              "<table border=\"1\" class=\"dataframe\">\n",
              "  <thead>\n",
              "    <tr style=\"text-align: right;\">\n",
              "      <th></th>\n",
              "      <th>0</th>\n",
              "      <th>1</th>\n",
              "      <th>2</th>\n",
              "      <th>3</th>\n",
              "      <th>4</th>\n",
              "      <th>5</th>\n",
              "      <th>6</th>\n",
              "      <th>7</th>\n",
              "      <th>8</th>\n",
              "      <th>9</th>\n",
              "      <th>10</th>\n",
              "      <th>11</th>\n",
              "      <th>12</th>\n",
              "    </tr>\n",
              "  </thead>\n",
              "  <tbody>\n",
              "    <tr>\n",
              "      <th>0</th>\n",
              "      <td>0.297521</td>\n",
              "      <td>0.413333</td>\n",
              "      <td>0.000000</td>\n",
              "      <td>0.019939</td>\n",
              "      <td>0.111296</td>\n",
              "      <td>0.034722</td>\n",
              "      <td>0.064516</td>\n",
              "      <td>0.206092</td>\n",
              "      <td>0.612403</td>\n",
              "      <td>0.191011</td>\n",
              "      <td>0.202899</td>\n",
              "      <td>0.333333</td>\n",
              "      <td>0.0</td>\n",
              "    </tr>\n",
              "    <tr>\n",
              "      <th>1</th>\n",
              "      <td>0.330579</td>\n",
              "      <td>0.533333</td>\n",
              "      <td>0.000000</td>\n",
              "      <td>0.030675</td>\n",
              "      <td>0.147841</td>\n",
              "      <td>0.083333</td>\n",
              "      <td>0.140553</td>\n",
              "      <td>0.186813</td>\n",
              "      <td>0.372093</td>\n",
              "      <td>0.258427</td>\n",
              "      <td>0.260870</td>\n",
              "      <td>0.333333</td>\n",
              "      <td>0.0</td>\n",
              "    </tr>\n",
              "    <tr>\n",
              "      <th>2</th>\n",
              "      <td>0.330579</td>\n",
              "      <td>0.453333</td>\n",
              "      <td>0.024096</td>\n",
              "      <td>0.026074</td>\n",
              "      <td>0.137874</td>\n",
              "      <td>0.048611</td>\n",
              "      <td>0.110599</td>\n",
              "      <td>0.190669</td>\n",
              "      <td>0.418605</td>\n",
              "      <td>0.241573</td>\n",
              "      <td>0.260870</td>\n",
              "      <td>0.333333</td>\n",
              "      <td>0.0</td>\n",
              "    </tr>\n",
              "    <tr>\n",
              "      <th>3</th>\n",
              "      <td>0.611570</td>\n",
              "      <td>0.133333</td>\n",
              "      <td>0.337349</td>\n",
              "      <td>0.019939</td>\n",
              "      <td>0.109635</td>\n",
              "      <td>0.055556</td>\n",
              "      <td>0.124424</td>\n",
              "      <td>0.209948</td>\n",
              "      <td>0.341085</td>\n",
              "      <td>0.202247</td>\n",
              "      <td>0.260870</td>\n",
              "      <td>0.500000</td>\n",
              "      <td>0.0</td>\n",
              "    </tr>\n",
              "    <tr>\n",
              "      <th>4</th>\n",
              "      <td>0.297521</td>\n",
              "      <td>0.413333</td>\n",
              "      <td>0.000000</td>\n",
              "      <td>0.019939</td>\n",
              "      <td>0.111296</td>\n",
              "      <td>0.034722</td>\n",
              "      <td>0.064516</td>\n",
              "      <td>0.206092</td>\n",
              "      <td>0.612403</td>\n",
              "      <td>0.191011</td>\n",
              "      <td>0.202899</td>\n",
              "      <td>0.333333</td>\n",
              "      <td>0.0</td>\n",
              "    </tr>\n",
              "    <tr>\n",
              "      <th>...</th>\n",
              "      <td>...</td>\n",
              "      <td>...</td>\n",
              "      <td>...</td>\n",
              "      <td>...</td>\n",
              "      <td>...</td>\n",
              "      <td>...</td>\n",
              "      <td>...</td>\n",
              "      <td>...</td>\n",
              "      <td>...</td>\n",
              "      <td>...</td>\n",
              "      <td>...</td>\n",
              "      <td>...</td>\n",
              "      <td>...</td>\n",
              "    </tr>\n",
              "    <tr>\n",
              "      <th>6492</th>\n",
              "      <td>0.198347</td>\n",
              "      <td>0.086667</td>\n",
              "      <td>0.174699</td>\n",
              "      <td>0.015337</td>\n",
              "      <td>0.049834</td>\n",
              "      <td>0.079861</td>\n",
              "      <td>0.198157</td>\n",
              "      <td>0.077694</td>\n",
              "      <td>0.426357</td>\n",
              "      <td>0.157303</td>\n",
              "      <td>0.463768</td>\n",
              "      <td>0.500000</td>\n",
              "      <td>1.0</td>\n",
              "    </tr>\n",
              "    <tr>\n",
              "      <th>6493</th>\n",
              "      <td>0.231405</td>\n",
              "      <td>0.160000</td>\n",
              "      <td>0.216867</td>\n",
              "      <td>0.113497</td>\n",
              "      <td>0.063123</td>\n",
              "      <td>0.194444</td>\n",
              "      <td>0.373272</td>\n",
              "      <td>0.150183</td>\n",
              "      <td>0.333333</td>\n",
              "      <td>0.134831</td>\n",
              "      <td>0.231884</td>\n",
              "      <td>0.333333</td>\n",
              "      <td>1.0</td>\n",
              "    </tr>\n",
              "    <tr>\n",
              "      <th>6494</th>\n",
              "      <td>0.223140</td>\n",
              "      <td>0.106667</td>\n",
              "      <td>0.114458</td>\n",
              "      <td>0.009202</td>\n",
              "      <td>0.053156</td>\n",
              "      <td>0.100694</td>\n",
              "      <td>0.241935</td>\n",
              "      <td>0.104685</td>\n",
              "      <td>0.209302</td>\n",
              "      <td>0.134831</td>\n",
              "      <td>0.202899</td>\n",
              "      <td>0.500000</td>\n",
              "      <td>1.0</td>\n",
              "    </tr>\n",
              "    <tr>\n",
              "      <th>6495</th>\n",
              "      <td>0.140496</td>\n",
              "      <td>0.140000</td>\n",
              "      <td>0.180723</td>\n",
              "      <td>0.007669</td>\n",
              "      <td>0.021595</td>\n",
              "      <td>0.065972</td>\n",
              "      <td>0.239631</td>\n",
              "      <td>0.030461</td>\n",
              "      <td>0.480620</td>\n",
              "      <td>0.089888</td>\n",
              "      <td>0.695652</td>\n",
              "      <td>0.666667</td>\n",
              "      <td>1.0</td>\n",
              "    </tr>\n",
              "    <tr>\n",
              "      <th>6496</th>\n",
              "      <td>0.181818</td>\n",
              "      <td>0.086667</td>\n",
              "      <td>0.228916</td>\n",
              "      <td>0.003067</td>\n",
              "      <td>0.018272</td>\n",
              "      <td>0.072917</td>\n",
              "      <td>0.211982</td>\n",
              "      <td>0.044342</td>\n",
              "      <td>0.418605</td>\n",
              "      <td>0.056180</td>\n",
              "      <td>0.550725</td>\n",
              "      <td>0.500000</td>\n",
              "      <td>1.0</td>\n",
              "    </tr>\n",
              "  </tbody>\n",
              "</table>\n",
              "<p>6497 rows × 13 columns</p>\n",
              "</div>"
            ],
            "text/plain": [
              "            0         1         2         3   ...        9         10        11   12\n",
              "0     0.297521  0.413333  0.000000  0.019939  ...  0.191011  0.202899  0.333333  0.0\n",
              "1     0.330579  0.533333  0.000000  0.030675  ...  0.258427  0.260870  0.333333  0.0\n",
              "2     0.330579  0.453333  0.024096  0.026074  ...  0.241573  0.260870  0.333333  0.0\n",
              "3     0.611570  0.133333  0.337349  0.019939  ...  0.202247  0.260870  0.500000  0.0\n",
              "4     0.297521  0.413333  0.000000  0.019939  ...  0.191011  0.202899  0.333333  0.0\n",
              "...        ...       ...       ...       ...  ...       ...       ...       ...  ...\n",
              "6492  0.198347  0.086667  0.174699  0.015337  ...  0.157303  0.463768  0.500000  1.0\n",
              "6493  0.231405  0.160000  0.216867  0.113497  ...  0.134831  0.231884  0.333333  1.0\n",
              "6494  0.223140  0.106667  0.114458  0.009202  ...  0.134831  0.202899  0.500000  1.0\n",
              "6495  0.140496  0.140000  0.180723  0.007669  ...  0.089888  0.695652  0.666667  1.0\n",
              "6496  0.181818  0.086667  0.228916  0.003067  ...  0.056180  0.550725  0.500000  1.0\n",
              "\n",
              "[6497 rows x 13 columns]"
            ]
          },
          "metadata": {
            "tags": []
          },
          "execution_count": 30
        }
      ]
    },
    {
      "cell_type": "code",
      "metadata": {
        "id": "t8_LdJn63-xT",
        "colab_type": "code",
        "colab": {}
      },
      "source": [
        "np.random.shuffle(wine)"
      ],
      "execution_count": 0,
      "outputs": []
    },
    {
      "cell_type": "code",
      "metadata": {
        "id": "6kd9xyRT4uL4",
        "colab_type": "code",
        "colab": {
          "base_uri": "https://localhost:8080/",
          "height": 195
        },
        "outputId": "61c3814f-5f2c-468c-8085-ef09f0ec4fde"
      },
      "source": [
        "pd.DataFrame(wine).head()"
      ],
      "execution_count": 32,
      "outputs": [
        {
          "output_type": "execute_result",
          "data": {
            "text/html": [
              "<div>\n",
              "<style scoped>\n",
              "    .dataframe tbody tr th:only-of-type {\n",
              "        vertical-align: middle;\n",
              "    }\n",
              "\n",
              "    .dataframe tbody tr th {\n",
              "        vertical-align: top;\n",
              "    }\n",
              "\n",
              "    .dataframe thead th {\n",
              "        text-align: right;\n",
              "    }\n",
              "</style>\n",
              "<table border=\"1\" class=\"dataframe\">\n",
              "  <thead>\n",
              "    <tr style=\"text-align: right;\">\n",
              "      <th></th>\n",
              "      <th>0</th>\n",
              "      <th>1</th>\n",
              "      <th>2</th>\n",
              "      <th>3</th>\n",
              "      <th>4</th>\n",
              "      <th>5</th>\n",
              "      <th>6</th>\n",
              "      <th>7</th>\n",
              "      <th>8</th>\n",
              "      <th>9</th>\n",
              "      <th>10</th>\n",
              "      <th>11</th>\n",
              "      <th>12</th>\n",
              "    </tr>\n",
              "  </thead>\n",
              "  <tbody>\n",
              "    <tr>\n",
              "      <th>0</th>\n",
              "      <td>0.338843</td>\n",
              "      <td>0.160000</td>\n",
              "      <td>0.307229</td>\n",
              "      <td>0.018405</td>\n",
              "      <td>0.551495</td>\n",
              "      <td>0.055556</td>\n",
              "      <td>0.115207</td>\n",
              "      <td>0.188741</td>\n",
              "      <td>0.248062</td>\n",
              "      <td>0.483146</td>\n",
              "      <td>0.173913</td>\n",
              "      <td>0.500000</td>\n",
              "      <td>0.0</td>\n",
              "    </tr>\n",
              "    <tr>\n",
              "      <th>1</th>\n",
              "      <td>0.239669</td>\n",
              "      <td>0.146667</td>\n",
              "      <td>0.210843</td>\n",
              "      <td>0.012270</td>\n",
              "      <td>0.284053</td>\n",
              "      <td>0.121528</td>\n",
              "      <td>0.354839</td>\n",
              "      <td>0.127048</td>\n",
              "      <td>0.302326</td>\n",
              "      <td>0.179775</td>\n",
              "      <td>0.202899</td>\n",
              "      <td>0.500000</td>\n",
              "      <td>1.0</td>\n",
              "    </tr>\n",
              "    <tr>\n",
              "      <th>2</th>\n",
              "      <td>0.247934</td>\n",
              "      <td>0.086667</td>\n",
              "      <td>0.162651</td>\n",
              "      <td>0.269172</td>\n",
              "      <td>0.054817</td>\n",
              "      <td>0.138889</td>\n",
              "      <td>0.322581</td>\n",
              "      <td>0.250434</td>\n",
              "      <td>0.449612</td>\n",
              "      <td>0.078652</td>\n",
              "      <td>0.101449</td>\n",
              "      <td>0.333333</td>\n",
              "      <td>1.0</td>\n",
              "    </tr>\n",
              "    <tr>\n",
              "      <th>3</th>\n",
              "      <td>0.355372</td>\n",
              "      <td>0.140000</td>\n",
              "      <td>0.216867</td>\n",
              "      <td>0.024540</td>\n",
              "      <td>0.064784</td>\n",
              "      <td>0.118056</td>\n",
              "      <td>0.108295</td>\n",
              "      <td>0.152111</td>\n",
              "      <td>0.426357</td>\n",
              "      <td>0.443820</td>\n",
              "      <td>0.637681</td>\n",
              "      <td>0.666667</td>\n",
              "      <td>0.0</td>\n",
              "    </tr>\n",
              "    <tr>\n",
              "      <th>4</th>\n",
              "      <td>0.181818</td>\n",
              "      <td>0.106667</td>\n",
              "      <td>0.162651</td>\n",
              "      <td>0.019939</td>\n",
              "      <td>0.064784</td>\n",
              "      <td>0.135417</td>\n",
              "      <td>0.377880</td>\n",
              "      <td>0.128976</td>\n",
              "      <td>0.713178</td>\n",
              "      <td>0.179775</td>\n",
              "      <td>0.289855</td>\n",
              "      <td>0.666667</td>\n",
              "      <td>1.0</td>\n",
              "    </tr>\n",
              "  </tbody>\n",
              "</table>\n",
              "</div>"
            ],
            "text/plain": [
              "         0         1         2         3   ...        9         10        11   12\n",
              "0  0.338843  0.160000  0.307229  0.018405  ...  0.483146  0.173913  0.500000  0.0\n",
              "1  0.239669  0.146667  0.210843  0.012270  ...  0.179775  0.202899  0.500000  1.0\n",
              "2  0.247934  0.086667  0.162651  0.269172  ...  0.078652  0.101449  0.333333  1.0\n",
              "3  0.355372  0.140000  0.216867  0.024540  ...  0.443820  0.637681  0.666667  0.0\n",
              "4  0.181818  0.106667  0.162651  0.019939  ...  0.179775  0.289855  0.666667  1.0\n",
              "\n",
              "[5 rows x 13 columns]"
            ]
          },
          "metadata": {
            "tags": []
          },
          "execution_count": 32
        }
      ]
    },
    {
      "cell_type": "code",
      "metadata": {
        "id": "wH5Jv2BZ4kVz",
        "colab_type": "code",
        "colab": {
          "base_uri": "https://localhost:8080/",
          "height": 140
        },
        "outputId": "84a8e342-8443-419f-84d1-f5fc27bf47d4"
      },
      "source": [
        "train_idx=int(len(wine)*0.8)\n",
        "train_X,train_Y,test_X,test_Y=wine[:train_idx,:-1],wine[:train_idx,-1],wine[train_idx:,:-1],wine[train_idx:,-1] #train test split\n",
        "tf.keras.utils.to_categorical(train_Y,num_classes=2) #one hot encoding\n",
        "tf.keras.utils.to_categorical(test_Y,num_classes=2) #one hot encoding"
      ],
      "execution_count": 33,
      "outputs": [
        {
          "output_type": "execute_result",
          "data": {
            "text/plain": [
              "array([[0., 1.],\n",
              "       [1., 0.],\n",
              "       [0., 1.],\n",
              "       ...,\n",
              "       [0., 1.],\n",
              "       [1., 0.],\n",
              "       [1., 0.]], dtype=float32)"
            ]
          },
          "metadata": {
            "tags": []
          },
          "execution_count": 33
        }
      ]
    },
    {
      "cell_type": "markdown",
      "metadata": {
        "id": "HeCSJ81s6Eq3",
        "colab_type": "text"
      },
      "source": [
        "### training"
      ]
    },
    {
      "cell_type": "code",
      "metadata": {
        "id": "dex4he7-6IyU",
        "colab_type": "code",
        "colab": {
          "base_uri": "https://localhost:8080/",
          "height": 298
        },
        "outputId": "8f3fc92c-96cc-41d8-db20-26121db705ab"
      },
      "source": [
        "model=tf.keras.Sequential()\n",
        "model.add(tf.keras.layers.Dense(units=48,activation='relu',input_shape=(12,)))\n",
        "model.add(tf.keras.layers.Dense(units=24,activation='relu'))\n",
        "model.add(tf.keras.layers.Dense(units=12,activation='relu'))\n",
        "model.add(tf.keras.layers.Dense(units=2,activation='softmax'))\n",
        "\n",
        "model.compile(optimizer=tf.keras.optimizers.Adam(lr=0.07),loss='sparse_categorical_crossentropy',metrics=['accuracy'])\n",
        "model.summary()"
      ],
      "execution_count": 34,
      "outputs": [
        {
          "output_type": "stream",
          "text": [
            "Model: \"sequential_1\"\n",
            "_________________________________________________________________\n",
            "Layer (type)                 Output Shape              Param #   \n",
            "=================================================================\n",
            "dense_4 (Dense)              (None, 48)                624       \n",
            "_________________________________________________________________\n",
            "dense_5 (Dense)              (None, 24)                1176      \n",
            "_________________________________________________________________\n",
            "dense_6 (Dense)              (None, 12)                300       \n",
            "_________________________________________________________________\n",
            "dense_7 (Dense)              (None, 2)                 26        \n",
            "=================================================================\n",
            "Total params: 2,126\n",
            "Trainable params: 2,126\n",
            "Non-trainable params: 0\n",
            "_________________________________________________________________\n"
          ],
          "name": "stdout"
        }
      ]
    },
    {
      "cell_type": "code",
      "metadata": {
        "id": "8zbvXRHw7Qyd",
        "colab_type": "code",
        "colab": {
          "base_uri": "https://localhost:8080/",
          "height": 914
        },
        "outputId": "123e31ae-de83-4310-b83f-70faee2de485"
      },
      "source": [
        "history=model.fit(train_X,train_Y,epochs=25,batch_size=32,validation_split=0.25)"
      ],
      "execution_count": 35,
      "outputs": [
        {
          "output_type": "stream",
          "text": [
            "Train on 3897 samples, validate on 1300 samples\n",
            "Epoch 1/25\n",
            "3897/3897 [==============================] - 1s 190us/sample - loss: 0.1312 - accuracy: 0.9469 - val_loss: 0.0523 - val_accuracy: 0.9838\n",
            "Epoch 2/25\n",
            "3897/3897 [==============================] - 0s 102us/sample - loss: 0.0645 - accuracy: 0.9826 - val_loss: 0.0389 - val_accuracy: 0.9869\n",
            "Epoch 3/25\n",
            "3897/3897 [==============================] - 0s 97us/sample - loss: 0.0436 - accuracy: 0.9882 - val_loss: 0.0222 - val_accuracy: 0.9931\n",
            "Epoch 4/25\n",
            "3897/3897 [==============================] - 0s 100us/sample - loss: 0.0472 - accuracy: 0.9882 - val_loss: 0.0556 - val_accuracy: 0.9800\n",
            "Epoch 5/25\n",
            "3897/3897 [==============================] - 0s 105us/sample - loss: 0.0355 - accuracy: 0.9902 - val_loss: 0.0421 - val_accuracy: 0.9900\n",
            "Epoch 6/25\n",
            "3897/3897 [==============================] - 0s 102us/sample - loss: 0.0381 - accuracy: 0.9895 - val_loss: 0.0239 - val_accuracy: 0.9900\n",
            "Epoch 7/25\n",
            "3897/3897 [==============================] - 0s 101us/sample - loss: 0.0343 - accuracy: 0.9902 - val_loss: 0.1167 - val_accuracy: 0.9631\n",
            "Epoch 8/25\n",
            "3897/3897 [==============================] - 0s 96us/sample - loss: 0.0331 - accuracy: 0.9913 - val_loss: 0.0220 - val_accuracy: 0.9938\n",
            "Epoch 9/25\n",
            "3897/3897 [==============================] - 0s 101us/sample - loss: 0.0413 - accuracy: 0.9877 - val_loss: 0.0377 - val_accuracy: 0.9900\n",
            "Epoch 10/25\n",
            "3897/3897 [==============================] - 0s 100us/sample - loss: 0.0380 - accuracy: 0.9900 - val_loss: 0.0684 - val_accuracy: 0.9846\n",
            "Epoch 11/25\n",
            "3897/3897 [==============================] - 0s 104us/sample - loss: 0.0305 - accuracy: 0.9918 - val_loss: 0.0682 - val_accuracy: 0.9731\n",
            "Epoch 12/25\n",
            "3897/3897 [==============================] - 0s 103us/sample - loss: 0.0306 - accuracy: 0.9913 - val_loss: 0.0366 - val_accuracy: 0.9915\n",
            "Epoch 13/25\n",
            "3897/3897 [==============================] - 0s 95us/sample - loss: 0.0295 - accuracy: 0.9923 - val_loss: 0.0422 - val_accuracy: 0.9900\n",
            "Epoch 14/25\n",
            "3897/3897 [==============================] - 0s 105us/sample - loss: 0.0344 - accuracy: 0.9915 - val_loss: 0.0308 - val_accuracy: 0.9938\n",
            "Epoch 15/25\n",
            "3897/3897 [==============================] - 0s 99us/sample - loss: 0.0263 - accuracy: 0.9938 - val_loss: 0.0237 - val_accuracy: 0.9969\n",
            "Epoch 16/25\n",
            "3897/3897 [==============================] - 0s 95us/sample - loss: 0.0382 - accuracy: 0.9895 - val_loss: 0.0413 - val_accuracy: 0.9923\n",
            "Epoch 17/25\n",
            "3897/3897 [==============================] - 0s 100us/sample - loss: 0.0361 - accuracy: 0.9890 - val_loss: 0.0352 - val_accuracy: 0.9885\n",
            "Epoch 18/25\n",
            "3897/3897 [==============================] - 0s 104us/sample - loss: 0.0265 - accuracy: 0.9926 - val_loss: 0.0214 - val_accuracy: 0.9938\n",
            "Epoch 19/25\n",
            "3897/3897 [==============================] - 0s 103us/sample - loss: 0.0274 - accuracy: 0.9923 - val_loss: 0.0207 - val_accuracy: 0.9923\n",
            "Epoch 20/25\n",
            "3897/3897 [==============================] - 0s 99us/sample - loss: 0.0326 - accuracy: 0.9928 - val_loss: 0.0621 - val_accuracy: 0.9838\n",
            "Epoch 21/25\n",
            "3897/3897 [==============================] - 0s 100us/sample - loss: 0.0229 - accuracy: 0.9946 - val_loss: 0.0201 - val_accuracy: 0.9931\n",
            "Epoch 22/25\n",
            "3897/3897 [==============================] - 0s 98us/sample - loss: 0.0261 - accuracy: 0.9933 - val_loss: 0.0256 - val_accuracy: 0.9931\n",
            "Epoch 23/25\n",
            "3897/3897 [==============================] - 0s 98us/sample - loss: 0.0301 - accuracy: 0.9938 - val_loss: 0.0780 - val_accuracy: 0.9808\n",
            "Epoch 24/25\n",
            "3897/3897 [==============================] - 0s 95us/sample - loss: 0.0279 - accuracy: 0.9944 - val_loss: 0.0646 - val_accuracy: 0.9923\n",
            "Epoch 25/25\n",
            "3897/3897 [==============================] - 0s 107us/sample - loss: 0.0331 - accuracy: 0.9926 - val_loss: 0.0637 - val_accuracy: 0.9900\n"
          ],
          "name": "stdout"
        }
      ]
    },
    {
      "cell_type": "code",
      "metadata": {
        "id": "uDSUra-u7tLQ",
        "colab_type": "code",
        "colab": {
          "base_uri": "https://localhost:8080/",
          "height": 301
        },
        "outputId": "38e944ba-37f0-4362-879f-1c2f938fd7f9"
      },
      "source": [
        "plt.figure(figsize=(12,4))\n",
        "\n",
        "plt.subplot(1,2,1)\n",
        "plt.plot(history.history['loss'],'b-',label='loss')\n",
        "plt.plot(history.history['val_loss'],'r-',label='val_loss')\n",
        "plt.ylim(0,0.5)\n",
        "plt.xlabel('epoch')\n",
        "plt.legend()\n",
        "\n",
        "plt.subplot(1,2,2)\n",
        "plt.plot(history.history['accuracy'],'b-',label='accuracy')\n",
        "plt.plot(history.history['val_accuracy'],'r-',label='accuracy')\n",
        "plt.ylim(0.5,1)\n",
        "plt.xlabel('epoch')\n",
        "plt.legend()\n",
        "\n",
        "plt.show"
      ],
      "execution_count": 40,
      "outputs": [
        {
          "output_type": "execute_result",
          "data": {
            "text/plain": [
              "<function matplotlib.pyplot.show>"
            ]
          },
          "metadata": {
            "tags": []
          },
          "execution_count": 40
        },
        {
          "output_type": "display_data",
          "data": {
            "image/png": "[encoded data removed]",
            "text/plain": [
              "<Figure size 864x288 with 2 Axes>"
            ]
          },
          "metadata": {
            "tags": []
          }
        }
      ]
    },
    {
      "cell_type": "code",
      "metadata": {
        "id": "bDdtJBX89mNn",
        "colab_type": "code",
        "colab": {
          "base_uri": "https://localhost:8080/",
          "height": 457
        },
        "outputId": "118f2e89-bb9a-41d8-fc5a-baffa68ba019"
      },
      "source": [
        "history=model.fit(train_X,train_Y,epochs=25,batch_size=32,validation_split=0.25,\n",
        "                  callbacks=[tf.keras.callbacks.EarlyStopping(patience=10,monitor='val_loss')])"
      ],
      "execution_count": 45,
      "outputs": [
        {
          "output_type": "stream",
          "text": [
            "Train on 3897 samples, validate on 1300 samples\n",
            "Epoch 1/25\n",
            "3897/3897 [==============================] - 0s 105us/sample - loss: 0.0360 - accuracy: 0.9902 - val_loss: 0.0920 - val_accuracy: 0.9908\n",
            "Epoch 2/25\n",
            "3897/3897 [==============================] - 0s 99us/sample - loss: 0.0344 - accuracy: 0.9923 - val_loss: 0.0234 - val_accuracy: 0.9946\n",
            "Epoch 3/25\n",
            "3897/3897 [==============================] - 0s 100us/sample - loss: 0.0266 - accuracy: 0.9928 - val_loss: 0.0463 - val_accuracy: 0.9938\n",
            "Epoch 4/25\n",
            "3897/3897 [==============================] - 0s 99us/sample - loss: 0.0210 - accuracy: 0.9938 - val_loss: 0.0287 - val_accuracy: 0.9923\n",
            "Epoch 5/25\n",
            "3897/3897 [==============================] - 0s 98us/sample - loss: 0.0231 - accuracy: 0.9931 - val_loss: 0.0537 - val_accuracy: 0.9946\n",
            "Epoch 6/25\n",
            "3897/3897 [==============================] - 0s 102us/sample - loss: 0.0190 - accuracy: 0.9949 - val_loss: 0.0423 - val_accuracy: 0.9931\n",
            "Epoch 7/25\n",
            "3897/3897 [==============================] - 0s 99us/sample - loss: 0.0238 - accuracy: 0.9941 - val_loss: 0.0249 - val_accuracy: 0.9915\n",
            "Epoch 8/25\n",
            "3897/3897 [==============================] - 0s 101us/sample - loss: 0.0337 - accuracy: 0.9926 - val_loss: 0.0697 - val_accuracy: 0.9769\n",
            "Epoch 9/25\n",
            "3897/3897 [==============================] - 0s 100us/sample - loss: 0.0329 - accuracy: 0.9923 - val_loss: 0.0262 - val_accuracy: 0.9962\n",
            "Epoch 10/25\n",
            "3897/3897 [==============================] - 0s 98us/sample - loss: 0.0320 - accuracy: 0.9913 - val_loss: 0.0247 - val_accuracy: 0.9954\n",
            "Epoch 11/25\n",
            "3897/3897 [==============================] - 0s 99us/sample - loss: 0.0180 - accuracy: 0.9951 - val_loss: 0.0434 - val_accuracy: 0.9862\n",
            "Epoch 12/25\n",
            "3897/3897 [==============================] - 0s 104us/sample - loss: 0.0211 - accuracy: 0.9949 - val_loss: 0.0780 - val_accuracy: 0.9885\n"
          ],
          "name": "stdout"
        }
      ]
    },
    {
      "cell_type": "code",
      "metadata": {
        "id": "Rm1xnsoz-Mer",
        "colab_type": "code",
        "colab": {
          "base_uri": "https://localhost:8080/",
          "height": 301
        },
        "outputId": "aec334e7-7ede-4651-ce48-fa0499453933"
      },
      "source": [
        "plt.figure(figsize=(12,4))\n",
        "\n",
        "plt.subplot(1,2,1)\n",
        "plt.plot(history.history['loss'],'b-',label='loss')\n",
        "plt.plot(history.history['val_loss'],'r-',label='val_loss')\n",
        "plt.ylim(0,0.5)\n",
        "plt.xlabel('epoch')\n",
        "plt.legend()\n",
        "\n",
        "plt.subplot(1,2,2)\n",
        "plt.plot(history.history['accuracy'],'b-',label='accuracy')\n",
        "plt.plot(history.history['val_accuracy'],'r-',label='accuracy')\n",
        "plt.ylim(0.5,1)\n",
        "plt.xlabel('epoch')\n",
        "plt.legend()\n",
        "\n",
        "plt.show"
      ],
      "execution_count": 47,
      "outputs": [
        {
          "output_type": "execute_result",
          "data": {
            "text/plain": [
              "<function matplotlib.pyplot.show>"
            ]
          },
          "metadata": {
            "tags": []
          },
          "execution_count": 47
        },
        {
          "output_type": "display_data",
          "data": {
            "image/png": "[encoded data removed]",
            "text/plain": [
              "<Figure size 864x288 with 2 Axes>"
            ]
          },
          "metadata": {
            "tags": []
          }
        }
      ]
    },
    {
      "cell_type": "code",
      "metadata": {
        "id": "XMR1T_xq-TW2",
        "colab_type": "code",
        "colab": {
          "base_uri": "https://localhost:8080/",
          "height": 34
        },
        "outputId": "1504f063-d64a-4735-e3c2-f977b4b33593"
      },
      "source": [
        "type(history)"
      ],
      "execution_count": 51,
      "outputs": [
        {
          "output_type": "execute_result",
          "data": {
            "text/plain": [
              "tensorflow.python.keras.callbacks.History"
            ]
          },
          "metadata": {
            "tags": []
          },
          "execution_count": 51
        }
      ]
    },
    {
      "cell_type": "code",
      "metadata": {
        "id": "SyP7rmN3-u_F",
        "colab_type": "code",
        "colab": {}
      },
      "source": [
        ""
      ],
      "execution_count": 0,
      "outputs": []
    }
  ]
}