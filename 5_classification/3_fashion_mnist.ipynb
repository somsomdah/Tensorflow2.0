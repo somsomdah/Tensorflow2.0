{
  "nbformat": 4,
  "nbformat_minor": 0,
  "metadata": {
    "colab": {
      "name": "3_fashion_mnist.ipynb",
      "provenance": [],
      "collapsed_sections": []
    },
    "kernelspec": {
      "name": "python3",
      "display_name": "Python 3"
    },
    "accelerator": "GPU"
  },
  "cells": [
    {
      "cell_type": "code",
      "metadata": {
        "id": "eB6GNNHPIfqc",
        "colab_type": "code",
        "colab": {
          "base_uri": "https://localhost:8080/",
          "height": 34
        },
        "outputId": "03f29464-4b42-4fbe-c607-ab82e5e2f755"
      },
      "source": [
        "%tensorflow_version 2.x"
      ],
      "execution_count": 1,
      "outputs": [
        {
          "output_type": "stream",
          "text": [
            "TensorFlow 2.x selected.\n"
          ],
          "name": "stdout"
        }
      ]
    },
    {
      "cell_type": "code",
      "metadata": {
        "id": "ilDszHJkMpzZ",
        "colab_type": "code",
        "colab": {}
      },
      "source": [
        "import tensorflow as tf\n",
        "import numpy as np\n",
        "import pandas as pd\n",
        "import matplotlib.pyplot as plt"
      ],
      "execution_count": 0,
      "outputs": []
    },
    {
      "cell_type": "code",
      "metadata": {
        "id": "W-7M-fY0Mxup",
        "colab_type": "code",
        "colab": {
          "base_uri": "https://localhost:8080/",
          "height": 158
        },
        "outputId": "286dab99-ee45-4fd8-a509-082c96160d2c"
      },
      "source": [
        "fashion_mnist=tf.keras.datasets.fashion_mnist\n",
        "(train_X,train_Y),(test_X,test_Y)=fashion_mnist.load_data()"
      ],
      "execution_count": 3,
      "outputs": [
        {
          "output_type": "stream",
          "text": [
            "Downloading data from https://storage.googleapis.com/tensorflow/tf-keras-datasets/train-labels-idx1-ubyte.gz\n",
            "32768/29515 [=================================] - 0s 0us/step\n",
            "Downloading data from https://storage.googleapis.com/tensorflow/tf-keras-datasets/train-images-idx3-ubyte.gz\n",
            "26427392/26421880 [==============================] - 0s 0us/step\n",
            "Downloading data from https://storage.googleapis.com/tensorflow/tf-keras-datasets/t10k-labels-idx1-ubyte.gz\n",
            "8192/5148 [===============================================] - 0s 0us/step\n",
            "Downloading data from https://storage.googleapis.com/tensorflow/tf-keras-datasets/t10k-images-idx3-ubyte.gz\n",
            "4423680/4422102 [==============================] - 0s 0us/step\n"
          ],
          "name": "stdout"
        }
      ]
    },
    {
      "cell_type": "code",
      "metadata": {
        "id": "GcH4cSrLNAZ1",
        "colab_type": "code",
        "colab": {
          "base_uri": "https://localhost:8080/",
          "height": 52
        },
        "outputId": "2912f5eb-a502-46b5-99b8-013c0ee92dfb"
      },
      "source": [
        "print(train_X.shape)\n",
        "print(test_X.shape)"
      ],
      "execution_count": 4,
      "outputs": [
        {
          "output_type": "stream",
          "text": [
            "(60000, 28, 28)\n",
            "(10000, 28, 28)\n"
          ],
          "name": "stdout"
        }
      ]
    },
    {
      "cell_type": "code",
      "metadata": {
        "id": "aaZxW6iQNEAH",
        "colab_type": "code",
        "colab": {
          "base_uri": "https://localhost:8080/",
          "height": 265
        },
        "outputId": "f56dc4bc-ee9e-417b-d89c-2399b804a834"
      },
      "source": [
        "plt.imshow(train_X[0],cmap='gray')\n",
        "plt.show()"
      ],
      "execution_count": 5,
      "outputs": [
        {
          "output_type": "display_data",
          "data": {
            "image/png": "[encoded data removed]",
            "text/plain": [
              "<Figure size 432x288 with 1 Axes>"
            ]
          },
          "metadata": {
            "tags": []
          }
        }
      ]
    },
    {
      "cell_type": "code",
      "metadata": {
        "id": "UqihdbpGNNKu",
        "colab_type": "code",
        "colab": {}
      },
      "source": [
        "#데이터정규화\n",
        "train_X=train_X/255.0\n",
        "test_X=test_X/255.0"
      ],
      "execution_count": 0,
      "outputs": []
    },
    {
      "cell_type": "code",
      "metadata": {
        "id": "uEgWvMsVNq44",
        "colab_type": "code",
        "colab": {
          "base_uri": "https://localhost:8080/",
          "height": 263
        },
        "outputId": "db901748-09b5-421d-ca66-f0309e16db88"
      },
      "source": [
        "model=tf.keras.Sequential([\n",
        "                           tf.keras.layers.Flatten(input_shape=(28,28)),#1차원 데이터로 flatten\n",
        "                           tf.keras.layers.Dense(units=128,activation='relu'),\n",
        "                           tf.keras.layers.Dense(units=10,activation='softmax')\n",
        "])\n",
        "\n",
        "model.compile(optimizer=tf.keras.optimizers.Adam(),loss='sparse_categorical_crossentropy',metrics=['accuracy'])\n",
        "\n",
        "model.summary()"
      ],
      "execution_count": 12,
      "outputs": [
        {
          "output_type": "stream",
          "text": [
            "Model: \"sequential_3\"\n",
            "_________________________________________________________________\n",
            "Layer (type)                 Output Shape              Param #   \n",
            "=================================================================\n",
            "flatten_4 (Flatten)          (None, 784)               0         \n",
            "_________________________________________________________________\n",
            "dense_6 (Dense)              (None, 128)               100480    \n",
            "_________________________________________________________________\n",
            "dense_7 (Dense)              (None, 10)                1290      \n",
            "=================================================================\n",
            "Total params: 101,770\n",
            "Trainable params: 101,770\n",
            "Non-trainable params: 0\n",
            "_________________________________________________________________\n"
          ],
          "name": "stdout"
        }
      ]
    },
    {
      "cell_type": "code",
      "metadata": {
        "id": "7XlfgTygPQQB",
        "colab_type": "code",
        "colab": {
          "base_uri": "https://localhost:8080/",
          "height": 914
        },
        "outputId": "b3d4e1bf-5cbd-4012-ac65-82119b7d3db4"
      },
      "source": [
        "history=model.fit(train_X,train_Y,epochs=25,validation_split=0.25)"
      ],
      "execution_count": 14,
      "outputs": [
        {
          "output_type": "stream",
          "text": [
            "Train on 45000 samples, validate on 15000 samples\n",
            "Epoch 1/25\n",
            "45000/45000 [==============================] - 7s 146us/sample - loss: 0.5301 - accuracy: 0.8159 - val_loss: 0.4203 - val_accuracy: 0.8487\n",
            "Epoch 2/25\n",
            "45000/45000 [==============================] - 5s 108us/sample - loss: 0.3933 - accuracy: 0.8595 - val_loss: 0.3912 - val_accuracy: 0.8588\n",
            "Epoch 3/25\n",
            "45000/45000 [==============================] - 5s 101us/sample - loss: 0.3540 - accuracy: 0.8700 - val_loss: 0.3523 - val_accuracy: 0.8725\n",
            "Epoch 4/25\n",
            "45000/45000 [==============================] - 5s 105us/sample - loss: 0.3268 - accuracy: 0.8820 - val_loss: 0.3521 - val_accuracy: 0.8730\n",
            "Epoch 5/25\n",
            "45000/45000 [==============================] - 5s 103us/sample - loss: 0.3078 - accuracy: 0.8875 - val_loss: 0.3237 - val_accuracy: 0.8827\n",
            "Epoch 6/25\n",
            "45000/45000 [==============================] - 5s 103us/sample - loss: 0.2904 - accuracy: 0.8918 - val_loss: 0.3427 - val_accuracy: 0.8787\n",
            "Epoch 7/25\n",
            "45000/45000 [==============================] - 4s 99us/sample - loss: 0.2793 - accuracy: 0.8961 - val_loss: 0.3895 - val_accuracy: 0.8667\n",
            "Epoch 8/25\n",
            "45000/45000 [==============================] - 4s 100us/sample - loss: 0.2662 - accuracy: 0.9010 - val_loss: 0.3333 - val_accuracy: 0.8779\n",
            "Epoch 9/25\n",
            "45000/45000 [==============================] - 4s 99us/sample - loss: 0.2564 - accuracy: 0.9040 - val_loss: 0.3242 - val_accuracy: 0.8847\n",
            "Epoch 10/25\n",
            "45000/45000 [==============================] - 5s 102us/sample - loss: 0.2458 - accuracy: 0.9080 - val_loss: 0.3163 - val_accuracy: 0.8887\n",
            "Epoch 11/25\n",
            "45000/45000 [==============================] - 4s 97us/sample - loss: 0.2364 - accuracy: 0.9124 - val_loss: 0.3540 - val_accuracy: 0.8815\n",
            "Epoch 12/25\n",
            "45000/45000 [==============================] - 4s 96us/sample - loss: 0.2304 - accuracy: 0.9151 - val_loss: 0.3337 - val_accuracy: 0.8832\n",
            "Epoch 13/25\n",
            "45000/45000 [==============================] - 4s 95us/sample - loss: 0.2213 - accuracy: 0.9170 - val_loss: 0.3375 - val_accuracy: 0.8825\n",
            "Epoch 14/25\n",
            "45000/45000 [==============================] - 4s 96us/sample - loss: 0.2140 - accuracy: 0.9184 - val_loss: 0.3222 - val_accuracy: 0.8906\n",
            "Epoch 15/25\n",
            "45000/45000 [==============================] - 5s 103us/sample - loss: 0.2064 - accuracy: 0.9216 - val_loss: 0.3328 - val_accuracy: 0.8849\n",
            "Epoch 16/25\n",
            "45000/45000 [==============================] - 4s 98us/sample - loss: 0.2001 - accuracy: 0.9252 - val_loss: 0.3392 - val_accuracy: 0.8885\n",
            "Epoch 17/25\n",
            "45000/45000 [==============================] - 4s 98us/sample - loss: 0.1950 - accuracy: 0.9265 - val_loss: 0.3304 - val_accuracy: 0.8891\n",
            "Epoch 18/25\n",
            "45000/45000 [==============================] - 4s 97us/sample - loss: 0.1877 - accuracy: 0.9304 - val_loss: 0.3271 - val_accuracy: 0.8913\n",
            "Epoch 19/25\n",
            "45000/45000 [==============================] - 4s 99us/sample - loss: 0.1849 - accuracy: 0.9305 - val_loss: 0.3608 - val_accuracy: 0.8855\n",
            "Epoch 20/25\n",
            "45000/45000 [==============================] - 4s 98us/sample - loss: 0.1791 - accuracy: 0.9327 - val_loss: 0.3543 - val_accuracy: 0.8903\n",
            "Epoch 21/25\n",
            "45000/45000 [==============================] - 5s 102us/sample - loss: 0.1711 - accuracy: 0.9363 - val_loss: 0.3708 - val_accuracy: 0.8877\n",
            "Epoch 22/25\n",
            "45000/45000 [==============================] - 5s 101us/sample - loss: 0.1704 - accuracy: 0.9366 - val_loss: 0.3624 - val_accuracy: 0.8908\n",
            "Epoch 23/25\n",
            "45000/45000 [==============================] - 4s 99us/sample - loss: 0.1657 - accuracy: 0.9383 - val_loss: 0.3521 - val_accuracy: 0.8907\n",
            "Epoch 24/25\n",
            "45000/45000 [==============================] - 4s 98us/sample - loss: 0.1599 - accuracy: 0.9399 - val_loss: 0.3626 - val_accuracy: 0.8867\n",
            "Epoch 25/25\n",
            "45000/45000 [==============================] - 4s 99us/sample - loss: 0.1551 - accuracy: 0.9411 - val_loss: 0.3630 - val_accuracy: 0.8866\n"
          ],
          "name": "stdout"
        }
      ]
    },
    {
      "cell_type": "code",
      "metadata": {
        "id": "1-UyHsIvPRW8",
        "colab_type": "code",
        "colab": {
          "base_uri": "https://localhost:8080/",
          "height": 301
        },
        "outputId": "4c901dcf-b123-407f-ac8b-ec1ac672109b"
      },
      "source": [
        "plt.figure(figsize=(12,4))\n",
        "\n",
        "plt.subplot(1,2,1)\n",
        "plt.plot(history.history['loss'],'b-',label='loss')\n",
        "plt.plot(history.history['val_loss'],'r-',label='val_loss')\n",
        "plt.ylim(0,1)\n",
        "plt.xlabel('epoch')\n",
        "plt.legend()\n",
        "\n",
        "plt.subplot(1,2,2)\n",
        "plt.plot(history.history['accuracy'],'g-',label='accuracy')\n",
        "plt.plot(history.history['val_accuracy'],'y-',label='val_accuracy')\n",
        "plt.ylim(0,1)\n",
        "plt.xlabel('epoch')\n",
        "plt.legend()\n",
        "\n",
        "plt.show"
      ],
      "execution_count": 15,
      "outputs": [
        {
          "output_type": "execute_result",
          "data": {
            "text/plain": [
              "<function matplotlib.pyplot.show>"
            ]
          },
          "metadata": {
            "tags": []
          },
          "execution_count": 15
        },
        {
          "output_type": "display_data",
          "data": {
            "image/png": "[encoded data removed]",
            "text/plain": [
              "<Figure size 864x288 with 2 Axes>"
            ]
          },
          "metadata": {
            "tags": []
          }
        }
      ]
    },
    {
      "cell_type": "code",
      "metadata": {
        "id": "5mG9ftxsRxTF",
        "colab_type": "code",
        "colab": {
          "base_uri": "https://localhost:8080/",
          "height": 52
        },
        "outputId": "22199d92-984b-4492-9060-bf51d32c21ed"
      },
      "source": [
        "model.evaluate(test_X,test_Y)"
      ],
      "execution_count": 16,
      "outputs": [
        {
          "output_type": "stream",
          "text": [
            "10000/10000 [==============================] - 1s 57us/sample - loss: 0.3932 - accuracy: 0.8790\n"
          ],
          "name": "stdout"
        },
        {
          "output_type": "execute_result",
          "data": {
            "text/plain": [
              "[0.3931594438314438, 0.879]"
            ]
          },
          "metadata": {
            "tags": []
          },
          "execution_count": 16
        }
      ]
    }
  ]
}