{
  "nbformat": 4,
  "nbformat_minor": 0,
  "metadata": {
    "colab": {
      "name": "2_multiclass_classification.ipynb",
      "provenance": [],
      "collapsed_sections": []
    },
    "kernelspec": {
      "name": "python3",
      "display_name": "Python 3"
    },
    "accelerator": "GPU"
  },
  "cells": [
    {
      "cell_type": "code",
      "metadata": {
        "id": "BRQ6y5Rm_gBR",
        "colab_type": "code",
        "colab": {}
      },
      "source": [
        "%tensorflow_version 2.x"
      ],
      "execution_count": 0,
      "outputs": []
    },
    {
      "cell_type": "code",
      "metadata": {
        "id": "kzTW-4Hb_2q6",
        "colab_type": "code",
        "colab": {}
      },
      "source": [
        "import tensorflow as tf\n",
        "import numpy as np\n",
        "import pandas as pd\n",
        "import matplotlib.pyplot as plt"
      ],
      "execution_count": 0,
      "outputs": []
    },
    {
      "cell_type": "code",
      "metadata": {
        "id": "6M4P5-uKAFky",
        "colab_type": "code",
        "colab": {}
      },
      "source": [
        "red=pd.read_csv('https://archive.ics.uci.edu/ml/machine-learning-databases/wine-quality/winequality-red.csv',sep=';')\n",
        "white=pd.read_csv('https://archive.ics.uci.edu/ml/machine-learning-databases/wine-quality/winequality-white.csv',sep=';')"
      ],
      "execution_count": 0,
      "outputs": []
    },
    {
      "cell_type": "code",
      "metadata": {
        "id": "g30piofvAIhH",
        "colab_type": "code",
        "colab": {}
      },
      "source": [
        "red['type']=0\n",
        "white['type']=1"
      ],
      "execution_count": 0,
      "outputs": []
    },
    {
      "cell_type": "code",
      "metadata": {
        "id": "nnrcNAb-AK4k",
        "colab_type": "code",
        "colab": {}
      },
      "source": [
        "wine=pd.concat([red,white],axis=0)"
      ],
      "execution_count": 0,
      "outputs": []
    },
    {
      "cell_type": "code",
      "metadata": {
        "id": "X8uG3yb7Ak7z",
        "colab_type": "code",
        "outputId": "58df706c-93c7-4f98-bc41-21153c625809",
        "colab": {
          "base_uri": "https://localhost:8080/",
          "height": 158
        }
      },
      "source": [
        "wine['quality'].value_counts()"
      ],
      "execution_count": 0,
      "outputs": [
        {
          "output_type": "execute_result",
          "data": {
            "text/plain": [
              "6    2836\n",
              "5    2138\n",
              "7    1079\n",
              "4     216\n",
              "8     193\n",
              "3      30\n",
              "9       5\n",
              "Name: quality, dtype: int64"
            ]
          },
          "metadata": {
            "tags": []
          },
          "execution_count": 16
        }
      ]
    },
    {
      "cell_type": "code",
      "metadata": {
        "id": "J0j8TaFNBBxC",
        "colab_type": "code",
        "outputId": "782b2dd2-7140-482e-ec26-19d29dbb4c94",
        "colab": {
          "base_uri": "https://localhost:8080/",
          "height": 265
        }
      },
      "source": [
        "plt.hist(wine['quality'],bins=7)\n",
        "plt.show()"
      ],
      "execution_count": 0,
      "outputs": [
        {
          "output_type": "display_data",
          "data": {
            "image/png": "[encoded data removed]",
            "text/plain": [
              "<Figure size 432x288 with 1 Axes>"
            ]
          },
          "metadata": {
            "tags": []
          }
        }
      ]
    },
    {
      "cell_type": "code",
      "metadata": {
        "id": "zrkiSSr6AwKl",
        "colab_type": "code",
        "colab": {}
      },
      "source": [
        "wine.loc[wine['quality']<=5,'quality']=0\n",
        "wine.loc[wine['quality']==6,'quality']=1\n",
        "wine.loc[wine['quality']>=7,'quality']=2"
      ],
      "execution_count": 0,
      "outputs": []
    },
    {
      "cell_type": "code",
      "metadata": {
        "id": "RrGziCGgBjFw",
        "colab_type": "code",
        "outputId": "4dd6b480-cf23-48cb-8b85-70fe67ca85dc",
        "colab": {
          "base_uri": "https://localhost:8080/",
          "height": 195
        }
      },
      "source": [
        "wine.head()"
      ],
      "execution_count": 0,
      "outputs": [
        {
          "output_type": "execute_result",
          "data": {
            "text/html": [
              "<div>\n",
              "<style scoped>\n",
              "    .dataframe tbody tr th:only-of-type {\n",
              "        vertical-align: middle;\n",
              "    }\n",
              "\n",
              "    .dataframe tbody tr th {\n",
              "        vertical-align: top;\n",
              "    }\n",
              "\n",
              "    .dataframe thead th {\n",
              "        text-align: right;\n",
              "    }\n",
              "</style>\n",
              "<table border=\"1\" class=\"dataframe\">\n",
              "  <thead>\n",
              "    <tr style=\"text-align: right;\">\n",
              "      <th></th>\n",
              "      <th>fixed acidity</th>\n",
              "      <th>volatile acidity</th>\n",
              "      <th>citric acid</th>\n",
              "      <th>residual sugar</th>\n",
              "      <th>chlorides</th>\n",
              "      <th>free sulfur dioxide</th>\n",
              "      <th>total sulfur dioxide</th>\n",
              "      <th>density</th>\n",
              "      <th>pH</th>\n",
              "      <th>sulphates</th>\n",
              "      <th>alcohol</th>\n",
              "      <th>quality</th>\n",
              "      <th>type</th>\n",
              "    </tr>\n",
              "  </thead>\n",
              "  <tbody>\n",
              "    <tr>\n",
              "      <th>0</th>\n",
              "      <td>7.4</td>\n",
              "      <td>0.70</td>\n",
              "      <td>0.00</td>\n",
              "      <td>1.9</td>\n",
              "      <td>0.076</td>\n",
              "      <td>11.0</td>\n",
              "      <td>34.0</td>\n",
              "      <td>0.9978</td>\n",
              "      <td>3.51</td>\n",
              "      <td>0.56</td>\n",
              "      <td>9.4</td>\n",
              "      <td>0</td>\n",
              "      <td>0</td>\n",
              "    </tr>\n",
              "    <tr>\n",
              "      <th>1</th>\n",
              "      <td>7.8</td>\n",
              "      <td>0.88</td>\n",
              "      <td>0.00</td>\n",
              "      <td>2.6</td>\n",
              "      <td>0.098</td>\n",
              "      <td>25.0</td>\n",
              "      <td>67.0</td>\n",
              "      <td>0.9968</td>\n",
              "      <td>3.20</td>\n",
              "      <td>0.68</td>\n",
              "      <td>9.8</td>\n",
              "      <td>0</td>\n",
              "      <td>0</td>\n",
              "    </tr>\n",
              "    <tr>\n",
              "      <th>2</th>\n",
              "      <td>7.8</td>\n",
              "      <td>0.76</td>\n",
              "      <td>0.04</td>\n",
              "      <td>2.3</td>\n",
              "      <td>0.092</td>\n",
              "      <td>15.0</td>\n",
              "      <td>54.0</td>\n",
              "      <td>0.9970</td>\n",
              "      <td>3.26</td>\n",
              "      <td>0.65</td>\n",
              "      <td>9.8</td>\n",
              "      <td>0</td>\n",
              "      <td>0</td>\n",
              "    </tr>\n",
              "    <tr>\n",
              "      <th>3</th>\n",
              "      <td>11.2</td>\n",
              "      <td>0.28</td>\n",
              "      <td>0.56</td>\n",
              "      <td>1.9</td>\n",
              "      <td>0.075</td>\n",
              "      <td>17.0</td>\n",
              "      <td>60.0</td>\n",
              "      <td>0.9980</td>\n",
              "      <td>3.16</td>\n",
              "      <td>0.58</td>\n",
              "      <td>9.8</td>\n",
              "      <td>1</td>\n",
              "      <td>0</td>\n",
              "    </tr>\n",
              "    <tr>\n",
              "      <th>4</th>\n",
              "      <td>7.4</td>\n",
              "      <td>0.70</td>\n",
              "      <td>0.00</td>\n",
              "      <td>1.9</td>\n",
              "      <td>0.076</td>\n",
              "      <td>11.0</td>\n",
              "      <td>34.0</td>\n",
              "      <td>0.9978</td>\n",
              "      <td>3.51</td>\n",
              "      <td>0.56</td>\n",
              "      <td>9.4</td>\n",
              "      <td>0</td>\n",
              "      <td>0</td>\n",
              "    </tr>\n",
              "  </tbody>\n",
              "</table>\n",
              "</div>"
            ],
            "text/plain": [
              "   fixed acidity  volatile acidity  citric acid  ...  alcohol  quality  type\n",
              "0            7.4              0.70         0.00  ...      9.4        0     0\n",
              "1            7.8              0.88         0.00  ...      9.8        0     0\n",
              "2            7.8              0.76         0.04  ...      9.8        0     0\n",
              "3           11.2              0.28         0.56  ...      9.8        1     0\n",
              "4            7.4              0.70         0.00  ...      9.4        0     0\n",
              "\n",
              "[5 rows x 13 columns]"
            ]
          },
          "metadata": {
            "tags": []
          },
          "execution_count": 19
        }
      ]
    },
    {
      "cell_type": "code",
      "metadata": {
        "id": "J_74pNb_B09m",
        "colab_type": "code",
        "outputId": "bb25e47c-5823-4eb3-8bb3-681133c489c4",
        "colab": {
          "base_uri": "https://localhost:8080/",
          "height": 246
        }
      },
      "source": [
        "print(wine['quality'].describe())\n",
        "print(wine['quality'].value_counts())"
      ],
      "execution_count": 0,
      "outputs": [
        {
          "output_type": "stream",
          "text": [
            "count    6497.000000\n",
            "mean        0.829614\n",
            "std         0.731124\n",
            "min         0.000000\n",
            "25%         0.000000\n",
            "50%         1.000000\n",
            "75%         1.000000\n",
            "max         2.000000\n",
            "Name: quality, dtype: float64\n",
            "1    2836\n",
            "0    2384\n",
            "2    1277\n",
            "Name: quality, dtype: int64\n"
          ],
          "name": "stdout"
        }
      ]
    },
    {
      "cell_type": "code",
      "metadata": {
        "id": "zDrZIhYJCGIZ",
        "colab_type": "code",
        "colab": {}
      },
      "source": [
        "from sklearn.preprocessing import MinMaxScaler\n",
        "scaler = MinMaxScaler()\n",
        "wine=scaler.fit_transform(wine)"
      ],
      "execution_count": 0,
      "outputs": []
    },
    {
      "cell_type": "code",
      "metadata": {
        "id": "oTD1ydvCDALn",
        "colab_type": "code",
        "colab": {}
      },
      "source": [
        "np.random.shuffle(wine)"
      ],
      "execution_count": 0,
      "outputs": []
    },
    {
      "cell_type": "code",
      "metadata": {
        "id": "x0w_NyEqDCd6",
        "colab_type": "code",
        "outputId": "ffebfe1b-19d7-404c-a513-1324075b682c",
        "colab": {
          "base_uri": "https://localhost:8080/",
          "height": 195
        }
      },
      "source": [
        "pd.DataFrame(wine).head()"
      ],
      "execution_count": 0,
      "outputs": [
        {
          "output_type": "execute_result",
          "data": {
            "text/html": [
              "<div>\n",
              "<style scoped>\n",
              "    .dataframe tbody tr th:only-of-type {\n",
              "        vertical-align: middle;\n",
              "    }\n",
              "\n",
              "    .dataframe tbody tr th {\n",
              "        vertical-align: top;\n",
              "    }\n",
              "\n",
              "    .dataframe thead th {\n",
              "        text-align: right;\n",
              "    }\n",
              "</style>\n",
              "<table border=\"1\" class=\"dataframe\">\n",
              "  <thead>\n",
              "    <tr style=\"text-align: right;\">\n",
              "      <th></th>\n",
              "      <th>0</th>\n",
              "      <th>1</th>\n",
              "      <th>2</th>\n",
              "      <th>3</th>\n",
              "      <th>4</th>\n",
              "      <th>5</th>\n",
              "      <th>6</th>\n",
              "      <th>7</th>\n",
              "      <th>8</th>\n",
              "      <th>9</th>\n",
              "      <th>10</th>\n",
              "      <th>11</th>\n",
              "      <th>12</th>\n",
              "    </tr>\n",
              "  </thead>\n",
              "  <tbody>\n",
              "    <tr>\n",
              "      <th>0</th>\n",
              "      <td>0.297521</td>\n",
              "      <td>0.073333</td>\n",
              "      <td>0.253012</td>\n",
              "      <td>0.088957</td>\n",
              "      <td>0.096346</td>\n",
              "      <td>0.131944</td>\n",
              "      <td>0.474654</td>\n",
              "      <td>0.167534</td>\n",
              "      <td>0.449612</td>\n",
              "      <td>0.061798</td>\n",
              "      <td>0.231884</td>\n",
              "      <td>0.5</td>\n",
              "      <td>1.0</td>\n",
              "    </tr>\n",
              "    <tr>\n",
              "      <th>1</th>\n",
              "      <td>0.190083</td>\n",
              "      <td>0.126667</td>\n",
              "      <td>0.265060</td>\n",
              "      <td>0.093558</td>\n",
              "      <td>0.053156</td>\n",
              "      <td>0.208333</td>\n",
              "      <td>0.516129</td>\n",
              "      <td>0.153075</td>\n",
              "      <td>0.310078</td>\n",
              "      <td>0.101124</td>\n",
              "      <td>0.130435</td>\n",
              "      <td>0.0</td>\n",
              "      <td>1.0</td>\n",
              "    </tr>\n",
              "    <tr>\n",
              "      <th>2</th>\n",
              "      <td>0.305785</td>\n",
              "      <td>0.166667</td>\n",
              "      <td>0.228916</td>\n",
              "      <td>0.124233</td>\n",
              "      <td>0.194352</td>\n",
              "      <td>0.166667</td>\n",
              "      <td>0.444700</td>\n",
              "      <td>0.192790</td>\n",
              "      <td>0.201550</td>\n",
              "      <td>0.196629</td>\n",
              "      <td>0.202899</td>\n",
              "      <td>0.0</td>\n",
              "      <td>1.0</td>\n",
              "    </tr>\n",
              "    <tr>\n",
              "      <th>3</th>\n",
              "      <td>0.148760</td>\n",
              "      <td>0.173333</td>\n",
              "      <td>0.180723</td>\n",
              "      <td>0.096626</td>\n",
              "      <td>0.048173</td>\n",
              "      <td>0.076389</td>\n",
              "      <td>0.191244</td>\n",
              "      <td>0.106998</td>\n",
              "      <td>0.410853</td>\n",
              "      <td>0.151685</td>\n",
              "      <td>0.449275</td>\n",
              "      <td>0.5</td>\n",
              "      <td>1.0</td>\n",
              "    </tr>\n",
              "    <tr>\n",
              "      <th>4</th>\n",
              "      <td>0.231405</td>\n",
              "      <td>0.153333</td>\n",
              "      <td>0.042169</td>\n",
              "      <td>0.013804</td>\n",
              "      <td>0.039867</td>\n",
              "      <td>0.187500</td>\n",
              "      <td>0.317972</td>\n",
              "      <td>0.095816</td>\n",
              "      <td>0.341085</td>\n",
              "      <td>0.112360</td>\n",
              "      <td>0.289855</td>\n",
              "      <td>0.0</td>\n",
              "      <td>1.0</td>\n",
              "    </tr>\n",
              "  </tbody>\n",
              "</table>\n",
              "</div>"
            ],
            "text/plain": [
              "         0         1         2         3   ...        9         10   11   12\n",
              "0  0.297521  0.073333  0.253012  0.088957  ...  0.061798  0.231884  0.5  1.0\n",
              "1  0.190083  0.126667  0.265060  0.093558  ...  0.101124  0.130435  0.0  1.0\n",
              "2  0.305785  0.166667  0.228916  0.124233  ...  0.196629  0.202899  0.0  1.0\n",
              "3  0.148760  0.173333  0.180723  0.096626  ...  0.151685  0.449275  0.5  1.0\n",
              "4  0.231405  0.153333  0.042169  0.013804  ...  0.112360  0.289855  0.0  1.0\n",
              "\n",
              "[5 rows x 13 columns]"
            ]
          },
          "metadata": {
            "tags": []
          },
          "execution_count": 23
        }
      ]
    },
    {
      "cell_type": "code",
      "metadata": {
        "id": "8KC2bMYODHnv",
        "colab_type": "code",
        "outputId": "81334168-3ed4-4894-b6e1-d5bf2d38adef",
        "colab": {
          "base_uri": "https://localhost:8080/",
          "height": 140
        }
      },
      "source": [
        "train_idx=int(len(wine)*0.8)\n",
        "train_Y,test_Y=wine[:train_idx,-2],wine[train_idx:,-2] #train test split\n",
        "train_X,test_X=np.delete(wine[:train_idx,:],-2,1),np.delete(wine[train_idx:,:],-2,1)\n",
        "tf.keras.utils.to_categorical(train_Y,num_classes=3) #one hot encoding\n",
        "tf.keras.utils.to_categorical(test_Y,num_classes=3) #one hot encoding"
      ],
      "execution_count": 0,
      "outputs": [
        {
          "output_type": "execute_result",
          "data": {
            "text/plain": [
              "array([[0., 1., 0.],\n",
              "       [1., 0., 0.],\n",
              "       [1., 0., 0.],\n",
              "       ...,\n",
              "       [1., 0., 0.],\n",
              "       [1., 0., 0.],\n",
              "       [1., 0., 0.]], dtype=float32)"
            ]
          },
          "metadata": {
            "tags": []
          },
          "execution_count": 24
        }
      ]
    },
    {
      "cell_type": "code",
      "metadata": {
        "id": "CjEIggjVFyU0",
        "colab_type": "code",
        "outputId": "ca2fef41-fa32-4185-b10d-0fe05f5aac67",
        "colab": {
          "base_uri": "https://localhost:8080/",
          "height": 52
        }
      },
      "source": [
        "print(train_X.shape)\n",
        "print(train_Y.shape)"
      ],
      "execution_count": 0,
      "outputs": [
        {
          "output_type": "stream",
          "text": [
            "(5197, 12)\n",
            "(5197,)\n"
          ],
          "name": "stdout"
        }
      ]
    },
    {
      "cell_type": "code",
      "metadata": {
        "id": "LH-rawedDN3G",
        "colab_type": "code",
        "outputId": "e3fb03c1-7d30-4dcf-8be5-ce23fb4077f6",
        "colab": {
          "base_uri": "https://localhost:8080/",
          "height": 298
        }
      },
      "source": [
        "model=tf.keras.Sequential()\n",
        "model.add(tf.keras.layers.Dense(units=48,activation='relu',input_shape=(12,)))\n",
        "model.add(tf.keras.layers.Dense(units=24,activation='relu'))\n",
        "model.add(tf.keras.layers.Dense(units=12,activation='relu'))\n",
        "model.add(tf.keras.layers.Dense(units=3,activation='softmax'))\n",
        "\n",
        "model.compile(optimizer=tf.keras.optimizers.Adam(lr=0.07),loss='sparse_categorical_crossentropy',metrics=['accuracy'])\n",
        "model.summary()"
      ],
      "execution_count": 0,
      "outputs": [
        {
          "output_type": "stream",
          "text": [
            "Model: \"sequential\"\n",
            "_________________________________________________________________\n",
            "Layer (type)                 Output Shape              Param #   \n",
            "=================================================================\n",
            "dense (Dense)                (None, 48)                624       \n",
            "_________________________________________________________________\n",
            "dense_1 (Dense)              (None, 24)                1176      \n",
            "_________________________________________________________________\n",
            "dense_2 (Dense)              (None, 12)                300       \n",
            "_________________________________________________________________\n",
            "dense_3 (Dense)              (None, 3)                 39        \n",
            "=================================================================\n",
            "Total params: 2,139\n",
            "Trainable params: 2,139\n",
            "Non-trainable params: 0\n",
            "_________________________________________________________________\n"
          ],
          "name": "stdout"
        }
      ]
    },
    {
      "cell_type": "code",
      "metadata": {
        "id": "MjbpfWZAGCgt",
        "colab_type": "code",
        "outputId": "3b7aa18c-fed6-41cf-f0f1-f3fb18d316ec",
        "colab": {
          "base_uri": "https://localhost:8080/",
          "height": 1000
        }
      },
      "source": [
        "history=model.fit(train_X,train_Y,epochs=40,batch_size=32,validation_split=0.24)\n",
        "#                  callbacks=[tf.keras.callbacks.EarlyStopping(patience=10,monitor='val_loss')])"
      ],
      "execution_count": 0,
      "outputs": [
        {
          "output_type": "stream",
          "text": [
            "Train on 3949 samples, validate on 1248 samples\n",
            "Epoch 1/40\n",
            "3949/3949 [==============================] - 0s 114us/sample - loss: 0.3961 - accuracy: 0.4004 - val_loss: 0.5077 - val_accuracy: 0.3654\n",
            "Epoch 2/40\n",
            "3949/3949 [==============================] - 0s 103us/sample - loss: 0.4009 - accuracy: 0.3885 - val_loss: 0.4352 - val_accuracy: 0.4135\n",
            "Epoch 3/40\n",
            "3949/3949 [==============================] - 0s 107us/sample - loss: 0.3980 - accuracy: 0.3960 - val_loss: 0.4480 - val_accuracy: 0.4255\n",
            "Epoch 4/40\n",
            "3949/3949 [==============================] - 0s 97us/sample - loss: 0.3986 - accuracy: 0.3862 - val_loss: 0.4341 - val_accuracy: 0.4327\n",
            "Epoch 5/40\n",
            "3949/3949 [==============================] - 0s 96us/sample - loss: 0.3966 - accuracy: 0.3971 - val_loss: 0.4417 - val_accuracy: 0.4663\n",
            "Epoch 6/40\n",
            "3949/3949 [==============================] - 0s 98us/sample - loss: 0.3932 - accuracy: 0.3940 - val_loss: 0.4239 - val_accuracy: 0.4215\n",
            "Epoch 7/40\n",
            "3949/3949 [==============================] - 0s 92us/sample - loss: 0.4018 - accuracy: 0.4011 - val_loss: 0.4264 - val_accuracy: 0.3654\n",
            "Epoch 8/40\n",
            "3949/3949 [==============================] - 0s 97us/sample - loss: 0.4048 - accuracy: 0.3722 - val_loss: 0.4324 - val_accuracy: 0.4263\n",
            "Epoch 9/40\n",
            "3949/3949 [==============================] - 0s 97us/sample - loss: 0.3955 - accuracy: 0.4019 - val_loss: 0.4881 - val_accuracy: 0.3654\n",
            "Epoch 10/40\n",
            "3949/3949 [==============================] - 0s 89us/sample - loss: 0.4070 - accuracy: 0.3836 - val_loss: 0.4270 - val_accuracy: 0.4471\n",
            "Epoch 11/40\n",
            "3949/3949 [==============================] - 0s 99us/sample - loss: 0.4022 - accuracy: 0.3874 - val_loss: 0.4242 - val_accuracy: 0.3654\n",
            "Epoch 12/40\n",
            "3949/3949 [==============================] - 0s 106us/sample - loss: 0.4019 - accuracy: 0.3700 - val_loss: 0.4742 - val_accuracy: 0.3654\n",
            "Epoch 13/40\n",
            "3949/3949 [==============================] - 0s 96us/sample - loss: 0.4068 - accuracy: 0.3928 - val_loss: 0.4390 - val_accuracy: 0.3654\n",
            "Epoch 14/40\n",
            "3949/3949 [==============================] - 1s 133us/sample - loss: 0.4024 - accuracy: 0.3682 - val_loss: 0.4299 - val_accuracy: 0.3654\n",
            "Epoch 15/40\n",
            "3949/3949 [==============================] - 0s 109us/sample - loss: 0.3964 - accuracy: 0.3983 - val_loss: 0.4427 - val_accuracy: 0.3654\n",
            "Epoch 16/40\n",
            "3949/3949 [==============================] - 0s 112us/sample - loss: 0.3987 - accuracy: 0.3826 - val_loss: 0.4263 - val_accuracy: 0.4263\n",
            "Epoch 17/40\n",
            "3949/3949 [==============================] - 0s 98us/sample - loss: 0.4026 - accuracy: 0.3887 - val_loss: 0.4214 - val_accuracy: 0.4375\n",
            "Epoch 18/40\n",
            "3949/3949 [==============================] - 0s 93us/sample - loss: 0.3931 - accuracy: 0.3928 - val_loss: 0.4356 - val_accuracy: 0.4487\n",
            "Epoch 19/40\n",
            "3949/3949 [==============================] - 0s 93us/sample - loss: 0.4023 - accuracy: 0.3971 - val_loss: 0.4356 - val_accuracy: 0.3654\n",
            "Epoch 20/40\n",
            "3949/3949 [==============================] - 0s 90us/sample - loss: 0.3924 - accuracy: 0.3707 - val_loss: 0.4296 - val_accuracy: 0.4255\n",
            "Epoch 21/40\n",
            "3949/3949 [==============================] - 0s 97us/sample - loss: 0.4032 - accuracy: 0.4001 - val_loss: 0.4269 - val_accuracy: 0.3654\n",
            "Epoch 22/40\n",
            "3949/3949 [==============================] - 0s 107us/sample - loss: 0.3985 - accuracy: 0.3793 - val_loss: 0.4284 - val_accuracy: 0.4255\n",
            "Epoch 23/40\n",
            "3949/3949 [==============================] - 0s 92us/sample - loss: 0.3951 - accuracy: 0.3966 - val_loss: 0.4241 - val_accuracy: 0.4263\n",
            "Epoch 24/40\n",
            "3949/3949 [==============================] - 0s 104us/sample - loss: 0.3911 - accuracy: 0.3983 - val_loss: 0.4301 - val_accuracy: 0.4119\n",
            "Epoch 25/40\n",
            "3949/3949 [==============================] - 0s 97us/sample - loss: 0.3984 - accuracy: 0.4150 - val_loss: 0.4236 - val_accuracy: 0.4271\n",
            "Epoch 26/40\n",
            "3949/3949 [==============================] - 0s 90us/sample - loss: 0.3962 - accuracy: 0.4128 - val_loss: 0.4276 - val_accuracy: 0.4359\n",
            "Epoch 27/40\n",
            "3949/3949 [==============================] - 0s 109us/sample - loss: 0.3889 - accuracy: 0.4140 - val_loss: 0.4235 - val_accuracy: 0.4199\n",
            "Epoch 28/40\n",
            "3949/3949 [==============================] - 0s 89us/sample - loss: 0.3972 - accuracy: 0.4067 - val_loss: 0.4671 - val_accuracy: 0.4207\n",
            "Epoch 29/40\n",
            "3949/3949 [==============================] - 0s 101us/sample - loss: 0.3990 - accuracy: 0.3874 - val_loss: 0.4274 - val_accuracy: 0.4151\n",
            "Epoch 30/40\n",
            "3949/3949 [==============================] - 0s 101us/sample - loss: 0.3927 - accuracy: 0.4067 - val_loss: 0.4716 - val_accuracy: 0.3654\n",
            "Epoch 31/40\n",
            "3949/3949 [==============================] - 0s 92us/sample - loss: 0.3984 - accuracy: 0.4087 - val_loss: 0.4805 - val_accuracy: 0.4022\n",
            "Epoch 32/40\n",
            "3949/3949 [==============================] - 0s 114us/sample - loss: 0.4007 - accuracy: 0.3935 - val_loss: 0.4237 - val_accuracy: 0.4247\n",
            "Epoch 33/40\n",
            "3949/3949 [==============================] - 0s 92us/sample - loss: 0.3960 - accuracy: 0.3981 - val_loss: 0.4326 - val_accuracy: 0.3654\n",
            "Epoch 34/40\n",
            "3949/3949 [==============================] - 0s 90us/sample - loss: 0.4020 - accuracy: 0.4039 - val_loss: 0.4290 - val_accuracy: 0.3654\n",
            "Epoch 35/40\n",
            "3949/3949 [==============================] - 0s 103us/sample - loss: 0.3927 - accuracy: 0.4064 - val_loss: 0.4360 - val_accuracy: 0.4159\n",
            "Epoch 36/40\n",
            "3949/3949 [==============================] - 0s 123us/sample - loss: 0.4009 - accuracy: 0.3948 - val_loss: 0.4373 - val_accuracy: 0.4303\n",
            "Epoch 37/40\n",
            "3949/3949 [==============================] - 0s 119us/sample - loss: 0.3945 - accuracy: 0.4006 - val_loss: 0.4284 - val_accuracy: 0.4383\n",
            "Epoch 38/40\n",
            "3949/3949 [==============================] - 0s 95us/sample - loss: 0.4008 - accuracy: 0.3998 - val_loss: 0.4240 - val_accuracy: 0.4471\n",
            "Epoch 39/40\n",
            "3949/3949 [==============================] - 0s 108us/sample - loss: 0.3970 - accuracy: 0.4082 - val_loss: 0.4285 - val_accuracy: 0.4255\n",
            "Epoch 40/40\n",
            "3949/3949 [==============================] - 0s 106us/sample - loss: 0.3955 - accuracy: 0.3996 - val_loss: 0.4336 - val_accuracy: 0.4511\n"
          ],
          "name": "stdout"
        }
      ]
    },
    {
      "cell_type": "code",
      "metadata": {
        "id": "mc-RFIqJGhfE",
        "colab_type": "code",
        "outputId": "4940d2e7-9a24-4d48-a2be-26d85c30e7d6",
        "colab": {
          "base_uri": "https://localhost:8080/",
          "height": 301
        }
      },
      "source": [
        "plt.figure(figsize=(12,4))\n",
        "\n",
        "plt.subplot(1,2,1)\n",
        "plt.plot(history.history['loss'],'b-',label='loss')\n",
        "plt.plot(history.history['val_loss'],'r-',label='val_loss')\n",
        "plt.ylim(0,1)\n",
        "plt.xlabel('epoch')\n",
        "plt.legend()\n",
        "\n",
        "plt.subplot(1,2,2)\n",
        "plt.plot(history.history['accuracy'],'g-',label='accuracy')\n",
        "plt.plot(history.history['val_accuracy'],'y-',label='val_accuracy')\n",
        "plt.ylim(0,1)\n",
        "plt.xlabel('epoch')\n",
        "plt.legend()\n",
        "\n",
        "plt.show"
      ],
      "execution_count": 0,
      "outputs": [
        {
          "output_type": "execute_result",
          "data": {
            "text/plain": [
              "<function matplotlib.pyplot.show>"
            ]
          },
          "metadata": {
            "tags": []
          },
          "execution_count": 34
        },
        {
          "output_type": "display_data",
          "data": {
            "image/png": "[encoded data removed]",
            "text/plain": [
              "<Figure size 864x288 with 2 Axes>"
            ]
          },
          "metadata": {
            "tags": []
          }
        }
      ]
    }
  ]
}