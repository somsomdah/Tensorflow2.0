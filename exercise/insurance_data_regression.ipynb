{
  "nbformat": 4,
  "nbformat_minor": 0,
  "metadata": {
    "colab": {
      "name": "insurance.ipynb",
      "provenance": [],
      "collapsed_sections": []
    },
    "kernelspec": {
      "name": "python3",
      "display_name": "Python 3"
    },
    "accelerator": "GPU"
  },
  "cells": [
    {
      "cell_type": "code",
      "metadata": {
        "id": "UaDXammCXMkV",
        "colab_type": "code",
        "outputId": "35e53ca9-33ae-48d0-e418-ecd6c9a8e98c",
        "colab": {
          "base_uri": "https://localhost:8080/",
          "height": 34
        }
      },
      "source": [
        "%tensorflow_version 2.x"
      ],
      "execution_count": 1,
      "outputs": [
        {
          "output_type": "stream",
          "text": [
            "TensorFlow 2.x selected.\n"
          ],
          "name": "stdout"
        }
      ]
    },
    {
      "cell_type": "code",
      "metadata": {
        "id": "GhIMt-RAXUnG",
        "colab_type": "code",
        "colab": {}
      },
      "source": [
        "import tensorflow as tf\n",
        "import numpy as np\n",
        "import pandas as pd\n",
        "import matplotlib.pyplot as plt"
      ],
      "execution_count": 0,
      "outputs": []
    },
    {
      "cell_type": "code",
      "metadata": {
        "id": "jHFObSQ-cnni",
        "colab_type": "code",
        "colab": {}
      },
      "source": [
        "url = 'https://raw.githubusercontent.com/stedy/Machine-Learning-with-R-datasets/master/insurance.csv'\n",
        "data = pd.read_csv(url, error_bad_lines=False)"
      ],
      "execution_count": 0,
      "outputs": []
    },
    {
      "cell_type": "code",
      "metadata": {
        "id": "2zOZgg_CcoNj",
        "colab_type": "code",
        "outputId": "de69f5e3-3302-4018-fb13-768d49bb7635",
        "colab": {
          "base_uri": "https://localhost:8080/",
          "height": 195
        }
      },
      "source": [
        "data.head()"
      ],
      "execution_count": 4,
      "outputs": [
        {
          "output_type": "execute_result",
          "data": {
            "text/html": [
              "<div>\n",
              "<style scoped>\n",
              "    .dataframe tbody tr th:only-of-type {\n",
              "        vertical-align: middle;\n",
              "    }\n",
              "\n",
              "    .dataframe tbody tr th {\n",
              "        vertical-align: top;\n",
              "    }\n",
              "\n",
              "    .dataframe thead th {\n",
              "        text-align: right;\n",
              "    }\n",
              "</style>\n",
              "<table border=\"1\" class=\"dataframe\">\n",
              "  <thead>\n",
              "    <tr style=\"text-align: right;\">\n",
              "      <th></th>\n",
              "      <th>age</th>\n",
              "      <th>sex</th>\n",
              "      <th>bmi</th>\n",
              "      <th>children</th>\n",
              "      <th>smoker</th>\n",
              "      <th>region</th>\n",
              "      <th>charges</th>\n",
              "    </tr>\n",
              "  </thead>\n",
              "  <tbody>\n",
              "    <tr>\n",
              "      <th>0</th>\n",
              "      <td>19</td>\n",
              "      <td>female</td>\n",
              "      <td>27.900</td>\n",
              "      <td>0</td>\n",
              "      <td>yes</td>\n",
              "      <td>southwest</td>\n",
              "      <td>16884.92400</td>\n",
              "    </tr>\n",
              "    <tr>\n",
              "      <th>1</th>\n",
              "      <td>18</td>\n",
              "      <td>male</td>\n",
              "      <td>33.770</td>\n",
              "      <td>1</td>\n",
              "      <td>no</td>\n",
              "      <td>southeast</td>\n",
              "      <td>1725.55230</td>\n",
              "    </tr>\n",
              "    <tr>\n",
              "      <th>2</th>\n",
              "      <td>28</td>\n",
              "      <td>male</td>\n",
              "      <td>33.000</td>\n",
              "      <td>3</td>\n",
              "      <td>no</td>\n",
              "      <td>southeast</td>\n",
              "      <td>4449.46200</td>\n",
              "    </tr>\n",
              "    <tr>\n",
              "      <th>3</th>\n",
              "      <td>33</td>\n",
              "      <td>male</td>\n",
              "      <td>22.705</td>\n",
              "      <td>0</td>\n",
              "      <td>no</td>\n",
              "      <td>northwest</td>\n",
              "      <td>21984.47061</td>\n",
              "    </tr>\n",
              "    <tr>\n",
              "      <th>4</th>\n",
              "      <td>32</td>\n",
              "      <td>male</td>\n",
              "      <td>28.880</td>\n",
              "      <td>0</td>\n",
              "      <td>no</td>\n",
              "      <td>northwest</td>\n",
              "      <td>3866.85520</td>\n",
              "    </tr>\n",
              "  </tbody>\n",
              "</table>\n",
              "</div>"
            ],
            "text/plain": [
              "   age     sex     bmi  children smoker     region      charges\n",
              "0   19  female  27.900         0    yes  southwest  16884.92400\n",
              "1   18    male  33.770         1     no  southeast   1725.55230\n",
              "2   28    male  33.000         3     no  southeast   4449.46200\n",
              "3   33    male  22.705         0     no  northwest  21984.47061\n",
              "4   32    male  28.880         0     no  northwest   3866.85520"
            ]
          },
          "metadata": {
            "tags": []
          },
          "execution_count": 4
        }
      ]
    },
    {
      "cell_type": "code",
      "metadata": {
        "id": "2fIube6ad9Q7",
        "colab_type": "code",
        "outputId": "1fdd2765-1f37-4644-d743-a686c41276d2",
        "colab": {
          "base_uri": "https://localhost:8080/",
          "height": 228
        }
      },
      "source": [
        "data.info() #누락된 값 확인"
      ],
      "execution_count": 5,
      "outputs": [
        {
          "output_type": "stream",
          "text": [
            "<class 'pandas.core.frame.DataFrame'>\n",
            "RangeIndex: 1338 entries, 0 to 1337\n",
            "Data columns (total 7 columns):\n",
            "age         1338 non-null int64\n",
            "sex         1338 non-null object\n",
            "bmi         1338 non-null float64\n",
            "children    1338 non-null int64\n",
            "smoker      1338 non-null object\n",
            "region      1338 non-null object\n",
            "charges     1338 non-null float64\n",
            "dtypes: float64(2), int64(2), object(3)\n",
            "memory usage: 73.3+ KB\n"
          ],
          "name": "stdout"
        }
      ]
    },
    {
      "cell_type": "code",
      "metadata": {
        "id": "x46yCbs8e1hs",
        "colab_type": "code",
        "colab": {}
      },
      "source": [
        "from sklearn.base import BaseEstimator,TransformerMixin\n",
        "from sklearn.pipeline import Pipeline\n",
        "from sklearn.preprocessing import MinMaxScaler\n",
        "from sklearn.model_selection import train_test_split"
      ],
      "execution_count": 0,
      "outputs": []
    },
    {
      "cell_type": "code",
      "metadata": {
        "id": "IvzYjcj7fGZn",
        "colab_type": "code",
        "colab": {}
      },
      "source": [
        "class OneHotEncoder(BaseEstimator,TransformerMixin):\n",
        "    def __init__(self,attribute_list):\n",
        "        self.attribute_list=attribute_list\n",
        "        self.one_hot_list=[]\n",
        "    def fit(self,X):\n",
        "        for attribute in self.attribute_list:\n",
        "            one_hot_data=pd.get_dummies(X[attribute],prefix=attribute)\n",
        "            self.one_hot_list.append(one_hot_data)\n",
        "        return self\n",
        "    def transform(self,X):\n",
        "        new_X=X.drop(self.attribute_list,axis=1)\n",
        "        new_X=pd.concat([new_X]+self.one_hot_list,axis=1)\n",
        "        \n",
        "        return new_X # pandas Dataframe으로 반환"
      ],
      "execution_count": 0,
      "outputs": []
    },
    {
      "cell_type": "code",
      "metadata": {
        "id": "UVbjIdvlfGvs",
        "colab_type": "code",
        "colab": {}
      },
      "source": [
        "preprocessing_pipeline=Pipeline([\n",
        "    ('one_hot_encoder',OneHotEncoder([\"sex\",\"smoker\",\"region\"])),\n",
        "    ('scaler',MinMaxScaler())\n",
        "])"
      ],
      "execution_count": 0,
      "outputs": []
    },
    {
      "cell_type": "code",
      "metadata": {
        "id": "7MU_Ou9gfd8N",
        "colab_type": "code",
        "outputId": "b2298990-957e-4ed9-8440-38f22807e840",
        "colab": {
          "base_uri": "https://localhost:8080/",
          "height": 195
        }
      },
      "source": [
        "preprocessed_data=preprocessing_pipeline.fit_transform(data)\n",
        "pd.DataFrame(preprocessed_data).head()"
      ],
      "execution_count": 9,
      "outputs": [
        {
          "output_type": "execute_result",
          "data": {
            "text/html": [
              "<div>\n",
              "<style scoped>\n",
              "    .dataframe tbody tr th:only-of-type {\n",
              "        vertical-align: middle;\n",
              "    }\n",
              "\n",
              "    .dataframe tbody tr th {\n",
              "        vertical-align: top;\n",
              "    }\n",
              "\n",
              "    .dataframe thead th {\n",
              "        text-align: right;\n",
              "    }\n",
              "</style>\n",
              "<table border=\"1\" class=\"dataframe\">\n",
              "  <thead>\n",
              "    <tr style=\"text-align: right;\">\n",
              "      <th></th>\n",
              "      <th>0</th>\n",
              "      <th>1</th>\n",
              "      <th>2</th>\n",
              "      <th>3</th>\n",
              "      <th>4</th>\n",
              "      <th>5</th>\n",
              "      <th>6</th>\n",
              "      <th>7</th>\n",
              "      <th>8</th>\n",
              "      <th>9</th>\n",
              "      <th>10</th>\n",
              "      <th>11</th>\n",
              "    </tr>\n",
              "  </thead>\n",
              "  <tbody>\n",
              "    <tr>\n",
              "      <th>0</th>\n",
              "      <td>0.021739</td>\n",
              "      <td>0.321227</td>\n",
              "      <td>0.0</td>\n",
              "      <td>0.251611</td>\n",
              "      <td>1.0</td>\n",
              "      <td>0.0</td>\n",
              "      <td>0.0</td>\n",
              "      <td>1.0</td>\n",
              "      <td>0.0</td>\n",
              "      <td>0.0</td>\n",
              "      <td>0.0</td>\n",
              "      <td>1.0</td>\n",
              "    </tr>\n",
              "    <tr>\n",
              "      <th>1</th>\n",
              "      <td>0.000000</td>\n",
              "      <td>0.479150</td>\n",
              "      <td>0.2</td>\n",
              "      <td>0.009636</td>\n",
              "      <td>0.0</td>\n",
              "      <td>1.0</td>\n",
              "      <td>1.0</td>\n",
              "      <td>0.0</td>\n",
              "      <td>0.0</td>\n",
              "      <td>0.0</td>\n",
              "      <td>1.0</td>\n",
              "      <td>0.0</td>\n",
              "    </tr>\n",
              "    <tr>\n",
              "      <th>2</th>\n",
              "      <td>0.217391</td>\n",
              "      <td>0.458434</td>\n",
              "      <td>0.6</td>\n",
              "      <td>0.053115</td>\n",
              "      <td>0.0</td>\n",
              "      <td>1.0</td>\n",
              "      <td>1.0</td>\n",
              "      <td>0.0</td>\n",
              "      <td>0.0</td>\n",
              "      <td>0.0</td>\n",
              "      <td>1.0</td>\n",
              "      <td>0.0</td>\n",
              "    </tr>\n",
              "    <tr>\n",
              "      <th>3</th>\n",
              "      <td>0.326087</td>\n",
              "      <td>0.181464</td>\n",
              "      <td>0.0</td>\n",
              "      <td>0.333010</td>\n",
              "      <td>0.0</td>\n",
              "      <td>1.0</td>\n",
              "      <td>1.0</td>\n",
              "      <td>0.0</td>\n",
              "      <td>0.0</td>\n",
              "      <td>1.0</td>\n",
              "      <td>0.0</td>\n",
              "      <td>0.0</td>\n",
              "    </tr>\n",
              "    <tr>\n",
              "      <th>4</th>\n",
              "      <td>0.304348</td>\n",
              "      <td>0.347592</td>\n",
              "      <td>0.0</td>\n",
              "      <td>0.043816</td>\n",
              "      <td>0.0</td>\n",
              "      <td>1.0</td>\n",
              "      <td>1.0</td>\n",
              "      <td>0.0</td>\n",
              "      <td>0.0</td>\n",
              "      <td>1.0</td>\n",
              "      <td>0.0</td>\n",
              "      <td>0.0</td>\n",
              "    </tr>\n",
              "  </tbody>\n",
              "</table>\n",
              "</div>"
            ],
            "text/plain": [
              "          0         1    2         3    4    5    6    7    8    9   10   11\n",
              "0  0.021739  0.321227  0.0  0.251611  1.0  0.0  0.0  1.0  0.0  0.0  0.0  1.0\n",
              "1  0.000000  0.479150  0.2  0.009636  0.0  1.0  1.0  0.0  0.0  0.0  1.0  0.0\n",
              "2  0.217391  0.458434  0.6  0.053115  0.0  1.0  1.0  0.0  0.0  0.0  1.0  0.0\n",
              "3  0.326087  0.181464  0.0  0.333010  0.0  1.0  1.0  0.0  0.0  1.0  0.0  0.0\n",
              "4  0.304348  0.347592  0.0  0.043816  0.0  1.0  1.0  0.0  0.0  1.0  0.0  0.0"
            ]
          },
          "metadata": {
            "tags": []
          },
          "execution_count": 9
        }
      ]
    },
    {
      "cell_type": "code",
      "metadata": {
        "id": "ZXRo5E0skDbM",
        "colab_type": "code",
        "colab": {}
      },
      "source": [
        "X=np.delete(preprocessed_data,[3], axis=1)\n",
        "Y=preprocessed_data[:,3]"
      ],
      "execution_count": 0,
      "outputs": []
    },
    {
      "cell_type": "code",
      "metadata": {
        "id": "AtcgdTvMmK32",
        "colab_type": "code",
        "colab": {
          "base_uri": "https://localhost:8080/",
          "height": 195
        },
        "outputId": "2da4ec50-6439-4329-aa01-f89f532d68b1"
      },
      "source": [
        "pd.DataFrame(X).head()"
      ],
      "execution_count": 11,
      "outputs": [
        {
          "output_type": "execute_result",
          "data": {
            "text/html": [
              "<div>\n",
              "<style scoped>\n",
              "    .dataframe tbody tr th:only-of-type {\n",
              "        vertical-align: middle;\n",
              "    }\n",
              "\n",
              "    .dataframe tbody tr th {\n",
              "        vertical-align: top;\n",
              "    }\n",
              "\n",
              "    .dataframe thead th {\n",
              "        text-align: right;\n",
              "    }\n",
              "</style>\n",
              "<table border=\"1\" class=\"dataframe\">\n",
              "  <thead>\n",
              "    <tr style=\"text-align: right;\">\n",
              "      <th></th>\n",
              "      <th>0</th>\n",
              "      <th>1</th>\n",
              "      <th>2</th>\n",
              "      <th>3</th>\n",
              "      <th>4</th>\n",
              "      <th>5</th>\n",
              "      <th>6</th>\n",
              "      <th>7</th>\n",
              "      <th>8</th>\n",
              "      <th>9</th>\n",
              "      <th>10</th>\n",
              "    </tr>\n",
              "  </thead>\n",
              "  <tbody>\n",
              "    <tr>\n",
              "      <th>0</th>\n",
              "      <td>0.021739</td>\n",
              "      <td>0.321227</td>\n",
              "      <td>0.0</td>\n",
              "      <td>1.0</td>\n",
              "      <td>0.0</td>\n",
              "      <td>0.0</td>\n",
              "      <td>1.0</td>\n",
              "      <td>0.0</td>\n",
              "      <td>0.0</td>\n",
              "      <td>0.0</td>\n",
              "      <td>1.0</td>\n",
              "    </tr>\n",
              "    <tr>\n",
              "      <th>1</th>\n",
              "      <td>0.000000</td>\n",
              "      <td>0.479150</td>\n",
              "      <td>0.2</td>\n",
              "      <td>0.0</td>\n",
              "      <td>1.0</td>\n",
              "      <td>1.0</td>\n",
              "      <td>0.0</td>\n",
              "      <td>0.0</td>\n",
              "      <td>0.0</td>\n",
              "      <td>1.0</td>\n",
              "      <td>0.0</td>\n",
              "    </tr>\n",
              "    <tr>\n",
              "      <th>2</th>\n",
              "      <td>0.217391</td>\n",
              "      <td>0.458434</td>\n",
              "      <td>0.6</td>\n",
              "      <td>0.0</td>\n",
              "      <td>1.0</td>\n",
              "      <td>1.0</td>\n",
              "      <td>0.0</td>\n",
              "      <td>0.0</td>\n",
              "      <td>0.0</td>\n",
              "      <td>1.0</td>\n",
              "      <td>0.0</td>\n",
              "    </tr>\n",
              "    <tr>\n",
              "      <th>3</th>\n",
              "      <td>0.326087</td>\n",
              "      <td>0.181464</td>\n",
              "      <td>0.0</td>\n",
              "      <td>0.0</td>\n",
              "      <td>1.0</td>\n",
              "      <td>1.0</td>\n",
              "      <td>0.0</td>\n",
              "      <td>0.0</td>\n",
              "      <td>1.0</td>\n",
              "      <td>0.0</td>\n",
              "      <td>0.0</td>\n",
              "    </tr>\n",
              "    <tr>\n",
              "      <th>4</th>\n",
              "      <td>0.304348</td>\n",
              "      <td>0.347592</td>\n",
              "      <td>0.0</td>\n",
              "      <td>0.0</td>\n",
              "      <td>1.0</td>\n",
              "      <td>1.0</td>\n",
              "      <td>0.0</td>\n",
              "      <td>0.0</td>\n",
              "      <td>1.0</td>\n",
              "      <td>0.0</td>\n",
              "      <td>0.0</td>\n",
              "    </tr>\n",
              "  </tbody>\n",
              "</table>\n",
              "</div>"
            ],
            "text/plain": [
              "          0         1    2    3    4    5    6    7    8    9   10\n",
              "0  0.021739  0.321227  0.0  1.0  0.0  0.0  1.0  0.0  0.0  0.0  1.0\n",
              "1  0.000000  0.479150  0.2  0.0  1.0  1.0  0.0  0.0  0.0  1.0  0.0\n",
              "2  0.217391  0.458434  0.6  0.0  1.0  1.0  0.0  0.0  0.0  1.0  0.0\n",
              "3  0.326087  0.181464  0.0  0.0  1.0  1.0  0.0  0.0  1.0  0.0  0.0\n",
              "4  0.304348  0.347592  0.0  0.0  1.0  1.0  0.0  0.0  1.0  0.0  0.0"
            ]
          },
          "metadata": {
            "tags": []
          },
          "execution_count": 11
        }
      ]
    },
    {
      "cell_type": "code",
      "metadata": {
        "id": "uc7lUrvOpUzF",
        "colab_type": "code",
        "colab": {
          "base_uri": "https://localhost:8080/",
          "height": 195
        },
        "outputId": "c01fa249-15dd-40af-c035-1af32797f9c9"
      },
      "source": [
        "pd.DataFrame(Y).head()"
      ],
      "execution_count": 12,
      "outputs": [
        {
          "output_type": "execute_result",
          "data": {
            "text/html": [
              "<div>\n",
              "<style scoped>\n",
              "    .dataframe tbody tr th:only-of-type {\n",
              "        vertical-align: middle;\n",
              "    }\n",
              "\n",
              "    .dataframe tbody tr th {\n",
              "        vertical-align: top;\n",
              "    }\n",
              "\n",
              "    .dataframe thead th {\n",
              "        text-align: right;\n",
              "    }\n",
              "</style>\n",
              "<table border=\"1\" class=\"dataframe\">\n",
              "  <thead>\n",
              "    <tr style=\"text-align: right;\">\n",
              "      <th></th>\n",
              "      <th>0</th>\n",
              "    </tr>\n",
              "  </thead>\n",
              "  <tbody>\n",
              "    <tr>\n",
              "      <th>0</th>\n",
              "      <td>0.251611</td>\n",
              "    </tr>\n",
              "    <tr>\n",
              "      <th>1</th>\n",
              "      <td>0.009636</td>\n",
              "    </tr>\n",
              "    <tr>\n",
              "      <th>2</th>\n",
              "      <td>0.053115</td>\n",
              "    </tr>\n",
              "    <tr>\n",
              "      <th>3</th>\n",
              "      <td>0.333010</td>\n",
              "    </tr>\n",
              "    <tr>\n",
              "      <th>4</th>\n",
              "      <td>0.043816</td>\n",
              "    </tr>\n",
              "  </tbody>\n",
              "</table>\n",
              "</div>"
            ],
            "text/plain": [
              "          0\n",
              "0  0.251611\n",
              "1  0.009636\n",
              "2  0.053115\n",
              "3  0.333010\n",
              "4  0.043816"
            ]
          },
          "metadata": {
            "tags": []
          },
          "execution_count": 12
        }
      ]
    },
    {
      "cell_type": "code",
      "metadata": {
        "id": "mRyIY84Vphnp",
        "colab_type": "code",
        "colab": {}
      },
      "source": [
        "X_train, X_test, Y_train, Y_test = train_test_split(X, Y, test_size=0.1, random_state=42)"
      ],
      "execution_count": 0,
      "outputs": []
    },
    {
      "cell_type": "code",
      "metadata": {
        "id": "nvRBPG-KsOwn",
        "colab_type": "code",
        "colab": {
          "base_uri": "https://localhost:8080/",
          "height": 52
        },
        "outputId": "35618fc2-8aa5-451e-df53-fcd2e2626e0a"
      },
      "source": [
        "print(X_train.shape)\n",
        "print(Y_train.shape)"
      ],
      "execution_count": 14,
      "outputs": [
        {
          "output_type": "stream",
          "text": [
            "(1204, 11)\n",
            "(1204,)\n"
          ],
          "name": "stdout"
        }
      ]
    },
    {
      "cell_type": "markdown",
      "metadata": {
        "id": "-rpCMF5Eq4tS",
        "colab_type": "text"
      },
      "source": [
        "## 여기부터 tf 사용"
      ]
    },
    {
      "cell_type": "code",
      "metadata": {
        "id": "VScUepCWq4LW",
        "colab_type": "code",
        "colab": {
          "base_uri": "https://localhost:8080/",
          "height": 298
        },
        "outputId": "1e91d5d6-be07-4ae9-af6e-c75efc4fd3b2"
      },
      "source": [
        "model=tf.keras.Sequential([\n",
        "                           tf.keras.layers.Dense(units=52,activation='relu',input_shape=(11,)),\n",
        "                           tf.keras.layers.Dense(units=39,activation='relu'),\n",
        "                           tf.keras.layers.Dense(units=26,activation='relu'),\n",
        "                           tf.keras.layers.Dense(units=1)\n",
        "])\n",
        "model.compile(optimizer=tf.keras.optimizers.Adam(lr=0.07),loss='mse')\n",
        "model.summary()"
      ],
      "execution_count": 15,
      "outputs": [
        {
          "output_type": "stream",
          "text": [
            "Model: \"sequential\"\n",
            "_________________________________________________________________\n",
            "Layer (type)                 Output Shape              Param #   \n",
            "=================================================================\n",
            "dense (Dense)                (None, 52)                624       \n",
            "_________________________________________________________________\n",
            "dense_1 (Dense)              (None, 39)                2067      \n",
            "_________________________________________________________________\n",
            "dense_2 (Dense)              (None, 26)                1040      \n",
            "_________________________________________________________________\n",
            "dense_3 (Dense)              (None, 1)                 27        \n",
            "=================================================================\n",
            "Total params: 3,758\n",
            "Trainable params: 3,758\n",
            "Non-trainable params: 0\n",
            "_________________________________________________________________\n"
          ],
          "name": "stdout"
        }
      ]
    },
    {
      "cell_type": "code",
      "metadata": {
        "id": "Q_3L0zLEqn5S",
        "colab_type": "code",
        "colab": {
          "base_uri": "https://localhost:8080/",
          "height": 914
        },
        "outputId": "51202a6b-0654-4d73-e7e2-72169d1c7ceb"
      },
      "source": [
        "history=model.fit(X_train,Y_train,epochs=25,batch_size=100,validation_split=0.25)"
      ],
      "execution_count": 16,
      "outputs": [
        {
          "output_type": "stream",
          "text": [
            "Train on 903 samples, validate on 301 samples\n",
            "Epoch 1/25\n",
            "903/903 [==============================] - 1s 746us/sample - loss: 2.8278 - val_loss: 0.0300\n",
            "Epoch 2/25\n",
            "903/903 [==============================] - 0s 39us/sample - loss: 0.0192 - val_loss: 0.0268\n",
            "Epoch 3/25\n",
            "903/903 [==============================] - 0s 52us/sample - loss: 0.0231 - val_loss: 0.0256\n",
            "Epoch 4/25\n",
            "903/903 [==============================] - 0s 47us/sample - loss: 0.0170 - val_loss: 0.0129\n",
            "Epoch 5/25\n",
            "903/903 [==============================] - 0s 40us/sample - loss: 0.0112 - val_loss: 0.0108\n",
            "Epoch 6/25\n",
            "903/903 [==============================] - 0s 43us/sample - loss: 0.0103 - val_loss: 0.0102\n",
            "Epoch 7/25\n",
            "903/903 [==============================] - 0s 47us/sample - loss: 0.0097 - val_loss: 0.0097\n",
            "Epoch 8/25\n",
            "903/903 [==============================] - 0s 43us/sample - loss: 0.0092 - val_loss: 0.0115\n",
            "Epoch 9/25\n",
            "903/903 [==============================] - 0s 36us/sample - loss: 0.0097 - val_loss: 0.0091\n",
            "Epoch 10/25\n",
            "903/903 [==============================] - 0s 44us/sample - loss: 0.0090 - val_loss: 0.0098\n",
            "Epoch 11/25\n",
            "903/903 [==============================] - 0s 38us/sample - loss: 0.0100 - val_loss: 0.0136\n",
            "Epoch 12/25\n",
            "903/903 [==============================] - 0s 39us/sample - loss: 0.0095 - val_loss: 0.0089\n",
            "Epoch 13/25\n",
            "903/903 [==============================] - 0s 41us/sample - loss: 0.0100 - val_loss: 0.0085\n",
            "Epoch 14/25\n",
            "903/903 [==============================] - 0s 42us/sample - loss: 0.0086 - val_loss: 0.0104\n",
            "Epoch 15/25\n",
            "903/903 [==============================] - 0s 58us/sample - loss: 0.0081 - val_loss: 0.0120\n",
            "Epoch 16/25\n",
            "903/903 [==============================] - 0s 46us/sample - loss: 0.0091 - val_loss: 0.0079\n",
            "Epoch 17/25\n",
            "903/903 [==============================] - 0s 44us/sample - loss: 0.0071 - val_loss: 0.0072\n",
            "Epoch 18/25\n",
            "903/903 [==============================] - 0s 44us/sample - loss: 0.0065 - val_loss: 0.0074\n",
            "Epoch 19/25\n",
            "903/903 [==============================] - 0s 44us/sample - loss: 0.0067 - val_loss: 0.0258\n",
            "Epoch 20/25\n",
            "903/903 [==============================] - 0s 46us/sample - loss: 0.0208 - val_loss: 0.0091\n",
            "Epoch 21/25\n",
            "903/903 [==============================] - 0s 48us/sample - loss: 0.0123 - val_loss: 0.0120\n",
            "Epoch 22/25\n",
            "903/903 [==============================] - 0s 44us/sample - loss: 0.0101 - val_loss: 0.0097\n",
            "Epoch 23/25\n",
            "903/903 [==============================] - 0s 45us/sample - loss: 0.0074 - val_loss: 0.0101\n",
            "Epoch 24/25\n",
            "903/903 [==============================] - 0s 43us/sample - loss: 0.0076 - val_loss: 0.0075\n",
            "Epoch 25/25\n",
            "903/903 [==============================] - 0s 46us/sample - loss: 0.0066 - val_loss: 0.0085\n"
          ],
          "name": "stdout"
        }
      ]
    },
    {
      "cell_type": "code",
      "metadata": {
        "id": "lb0eZ-nTtwsj",
        "colab_type": "code",
        "colab": {
          "base_uri": "https://localhost:8080/",
          "height": 279
        },
        "outputId": "402b7d11-a84b-41ad-8913-9f21f7d71f60"
      },
      "source": [
        "plt.plot(history.history['loss'],'b',label='loss')\n",
        "plt.plot(history.history['val_loss'],'r',label='val_loss')\n",
        "plt.xlabel('epochs')\n",
        "plt.legend()\n",
        "plt.show()"
      ],
      "execution_count": 17,
      "outputs": [
        {
          "output_type": "display_data",
          "data": {
            "image/png": "[encoded data removed]",
            "text/plain": [
              "<Figure size 432x288 with 1 Axes>"
            ]
          },
          "metadata": {
            "tags": []
          }
        }
      ]
    },
    {
      "cell_type": "code",
      "metadata": {
        "id": "O0cB5Wu4ugzn",
        "colab_type": "code",
        "colab": {
          "base_uri": "https://localhost:8080/",
          "height": 52
        },
        "outputId": "91e074de-5ef0-40bf-a709-b5fd8de38093"
      },
      "source": [
        "model.evaluate(X_test,Y_test)"
      ],
      "execution_count": 18,
      "outputs": [
        {
          "output_type": "stream",
          "text": [
            "134/134 [==============================] - 0s 96us/sample - loss: 0.0061\n"
          ],
          "name": "stdout"
        },
        {
          "output_type": "execute_result",
          "data": {
            "text/plain": [
              "0.006129978162517993"
            ]
          },
          "metadata": {
            "tags": []
          },
          "execution_count": 18
        }
      ]
    },
    {
      "cell_type": "code",
      "metadata": {
        "id": "05IpRMArupWC",
        "colab_type": "code",
        "colab": {
          "base_uri": "https://localhost:8080/",
          "height": 334
        },
        "outputId": "090057b1-a4d2-4832-80c9-a5245bbb69c4"
      },
      "source": [
        "Y_pred=model.predict(X_test)\n",
        "plt.figure(figsize=(5,5))\n",
        "plt.scatter(Y_test,Y_pred,c='r')\n",
        "plt.plot([min(Y_test),max(Y_test)],[min(Y_test),max(Y_test)])\n",
        "plt.xlabel('test')\n",
        "plt.ylabel('predict')\n",
        "plt.show()"
      ],
      "execution_count": 19,
      "outputs": [
        {
          "output_type": "display_data",
          "data": {
            "image/png": "[encoded data removed]",
            "text/plain": [
              "<Figure size 360x360 with 1 Axes>"
            ]
          },
          "metadata": {
            "tags": []
          }
        }
      ]
    }
  ]
}