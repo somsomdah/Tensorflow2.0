{
  "nbformat": 4,
  "nbformat_minor": 0,
  "metadata": {
    "colab": {
      "name": "8_1_tensorflow_hub.ipynb",
      "provenance": [],
      "collapsed_sections": [],
      "authorship_tag": "ABX9TyOV4gU0JJDdl7h2NEhiZNcb",
      "include_colab_link": true
    },
    "kernelspec": {
      "name": "python3",
      "display_name": "Python 3"
    }
  },
  "cells": [
    {
      "cell_type": "markdown",
      "metadata": {
        "id": "view-in-github",
        "colab_type": "text"
      },
      "source": [
        "<a href=\"https://colab.research.google.com/github/somsomdah/Tensorflow2.0/blob/master/8_1_tensorflow_hub.ipynb\" target=\"_parent\"><img src=\"https://colab.research.google.com/assets/colab-badge.svg\" alt=\"Open In Colab\"/></a>"
      ]
    },
    {
      "cell_type": "code",
      "metadata": {
        "id": "YwaL_M5Rjf4D",
        "colab_type": "code",
        "colab": {}
      },
      "source": [
        "import tensorflow_hub as hub\n",
        "import tensorflow as tf\n",
        "import numpy as np\n",
        "import matplotlib.pyplot as plt"
      ],
      "execution_count": null,
      "outputs": []
    },
    {
      "cell_type": "code",
      "metadata": {
        "id": "rZljoU75kDEM",
        "colab_type": "code",
        "colab": {
          "base_uri": "https://localhost:8080/",
          "height": 195
        },
        "outputId": "b40a0f34-8e8c-484d-8c45-05d28c951954"
      },
      "source": [
        "mobile_net_url=\"https://tfhub.dev/google/imagenet/mobilenet_v2_130_224/classification/4\"\n",
        "\n",
        "model=tf.keras.Sequential([\n",
        "                           hub.KerasLayer(handle=mobile_net_url,input_shape=(224,224,3),trainable=False)\n",
        "])\n",
        "model.summary()"
      ],
      "execution_count": null,
      "outputs": [
        {
          "output_type": "stream",
          "text": [
            "Model: \"sequential\"\n",
            "_________________________________________________________________\n",
            "Layer (type)                 Output Shape              Param #   \n",
            "=================================================================\n",
            "keras_layer (KerasLayer)     (None, 1001)              5432713   \n",
            "=================================================================\n",
            "Total params: 5,432,713\n",
            "Trainable params: 0\n",
            "Non-trainable params: 5,432,713\n",
            "_________________________________________________________________\n"
          ],
          "name": "stdout"
        }
      ]
    },
    {
      "cell_type": "code",
      "metadata": {
        "id": "fpl3yl8mklX5",
        "colab_type": "code",
        "colab": {}
      },
      "source": [
        "import os\n",
        "import pathlib\n",
        "content_data_url='./sample_data'\n",
        "data_root_orig=tf.keras.utils.get_file(\"imagenetV2\",\"http://s3-us-west-2.amazonaws.com/imagenetv2public/imagenetv2-topimages.tar.gz\",cache_dir=content_data_url,extract=True)\n",
        "#data_root=pathlib.Path(content_data_url+\"/datasets/imagenetv2-top-images-format-val\")\n",
        "#print(data_root)"
      ],
      "execution_count": null,
      "outputs": []
    },
    {
      "cell_type": "code",
      "metadata": {
        "id": "BUvFT4cxmRsS",
        "colab_type": "code",
        "colab": {
          "base_uri": "https://localhost:8080/",
          "height": 195
        },
        "outputId": "ef92cb31-038e-4313-f647-0aa4af4c0720"
      },
      "source": [
        "for idx,item in enumerate(pathlib.Path(\"./sample_data/datasets/imagenetv2-top-images-format-val\").iterdir()):\n",
        "    print(item)\n",
        "    if idx==9:\n",
        "        break"
      ],
      "execution_count": null,
      "outputs": [
        {
          "output_type": "stream",
          "text": [
            "sample_data/datasets/imagenetv2-top-images-format-val/616\n",
            "sample_data/datasets/imagenetv2-top-images-format-val/450\n",
            "sample_data/datasets/imagenetv2-top-images-format-val/234\n",
            "sample_data/datasets/imagenetv2-top-images-format-val/107\n",
            "sample_data/datasets/imagenetv2-top-images-format-val/244\n",
            "sample_data/datasets/imagenetv2-top-images-format-val/604\n",
            "sample_data/datasets/imagenetv2-top-images-format-val/924\n",
            "sample_data/datasets/imagenetv2-top-images-format-val/892\n",
            "sample_data/datasets/imagenetv2-top-images-format-val/395\n",
            "sample_data/datasets/imagenetv2-top-images-format-val/932\n"
          ],
          "name": "stdout"
        }
      ]
    },
    {
      "cell_type": "code",
      "metadata": {
        "id": "nmcxLqPDnSf_",
        "colab_type": "code",
        "colab": {
          "base_uri": "https://localhost:8080/",
          "height": 52
        },
        "outputId": "8c13c806-3b34-4225-be75-9693d68fec72"
      },
      "source": [
        "label_file=tf.keras.utils.get_file('label','https://storage.googleapis.com/download.tensorflow.org/data/ImageNetLabels.txt')"
      ],
      "execution_count": null,
      "outputs": [
        {
          "output_type": "stream",
          "text": [
            "Downloading data from https://storage.googleapis.com/download.tensorflow.org/data/ImageNetLabels.txt\n",
            "16384/10484 [==============================================] - 0s 0us/step\n"
          ],
          "name": "stdout"
        }
      ]
    },
    {
      "cell_type": "code",
      "metadata": {
        "id": "kn8W6Icto2Qm",
        "colab_type": "code",
        "colab": {}
      },
      "source": [
        "label_text=None\n",
        "\n",
        "with open(label_file,'r') as f:\n",
        "    label_text=f.read().split('\\n')[:-1]"
      ],
      "execution_count": null,
      "outputs": []
    },
    {
      "cell_type": "code",
      "metadata": {
        "id": "R6-8L0Q2o5Qv",
        "colab_type": "code",
        "colab": {
          "base_uri": "https://localhost:8080/",
          "height": 195
        },
        "outputId": "a59d21b8-7409-4118-a057-f7f3d3db8257"
      },
      "source": [
        "label_text[:10]"
      ],
      "execution_count": null,
      "outputs": [
        {
          "output_type": "execute_result",
          "data": {
            "text/plain": [
              "['background',\n",
              " 'tench',\n",
              " 'goldfish',\n",
              " 'great white shark',\n",
              " 'tiger shark',\n",
              " 'hammerhead',\n",
              " 'electric ray',\n",
              " 'stingray',\n",
              " 'cock',\n",
              " 'hen']"
            ]
          },
          "metadata": {
            "tags": []
          },
          "execution_count": 31
        }
      ]
    },
    {
      "cell_type": "code",
      "metadata": {
        "id": "gmv1pL3euxcu",
        "colab_type": "code",
        "colab": {}
      },
      "source": [
        "data_root=pathlib.Path(content_data_url+\"/datasets/imagenetv2-top-images-format-val\")\n",
        "all_image_paths=list(data_root.glob(\"*/*\"))\n",
        "all_image_paths=[str(path) for path in all_image_paths]"
      ],
      "execution_count": null,
      "outputs": []
    },
    {
      "cell_type": "code",
      "metadata": {
        "id": "juuhIPwvwCxI",
        "colab_type": "code",
        "colab": {}
      },
      "source": [
        "#all_image_paths"
      ],
      "execution_count": null,
      "outputs": []
    },
    {
      "cell_type": "code",
      "metadata": {
        "id": "DH2p5X16wGwI",
        "colab_type": "code",
        "colab": {
          "base_uri": "https://localhost:8080/",
          "height": 52
        },
        "outputId": "8ab70545-a244-4404-8282-70ea8471eabe"
      },
      "source": [
        "import random\n",
        "import cv2\n",
        "image_path=random.choice(all_image_paths)\n",
        "img=cv2.imread(image_path)\n",
        "img=cv2.resize(img,dsize=(224,224))\n",
        "img=img/255.0\n",
        "img=np.expand_dims(img,axis=0)\n",
        "\n",
        "\n",
        "\n",
        "model.predict(img)"
      ],
      "execution_count": null,
      "outputs": [
        {
          "output_type": "execute_result",
          "data": {
            "text/plain": [
              "array([[ 0.26351136, -1.8859255 , -0.6298082 , ..., -0.8820405 ,\n",
              "         1.6564633 ,  0.14964868]], dtype=float32)"
            ]
          },
          "metadata": {
            "tags": []
          },
          "execution_count": 36
        }
      ]
    },
    {
      "cell_type": "code",
      "metadata": {
        "id": "uXxoycg1xGUE",
        "colab_type": "code",
        "colab": {}
      },
      "source": [
        ""
      ],
      "execution_count": null,
      "outputs": []
    }
  ]
}