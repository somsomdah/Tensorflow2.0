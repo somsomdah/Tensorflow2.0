{
  "nbformat": 4,
  "nbformat_minor": 0,
  "metadata": {
    "colab": {
      "name": "rnn_layers",
      "provenance": [],
      "collapsed_sections": []
    },
    "kernelspec": {
      "name": "python3",
      "display_name": "Python 3"
    }
  },
  "cells": [
    {
      "cell_type": "code",
      "metadata": {
        "id": "X-G6JjdOGeBK",
        "colab_type": "code",
        "outputId": "1a1d9b55-a67e-45a0-a2af-27e64605dd64",
        "colab": {
          "base_uri": "https://localhost:8080/",
          "height": 34
        }
      },
      "source": [
        "%tensorflow_version 2.x"
      ],
      "execution_count": 0,
      "outputs": [
        {
          "output_type": "stream",
          "text": [
            "TensorFlow 2.x selected.\n"
          ],
          "name": "stdout"
        }
      ]
    },
    {
      "cell_type": "code",
      "metadata": {
        "id": "2T7mFavpMqyz",
        "colab_type": "code",
        "colab": {}
      },
      "source": [
        "import tensorflow as tf\n",
        "import numpy as np\n",
        "import matplotlib.pyplot as plt"
      ],
      "execution_count": 0,
      "outputs": []
    },
    {
      "cell_type": "markdown",
      "metadata": {
        "id": "kW2CL5ievS_U",
        "colab_type": "text"
      },
      "source": [
        "Simple RNN layer"
      ]
    },
    {
      "cell_type": "code",
      "metadata": {
        "id": "I0aJHpJVM5Br",
        "colab_type": "code",
        "outputId": "7489ba99-ebf7-4b7f-c966-795be7bfd2ff",
        "colab": {
          "base_uri": "https://localhost:8080/",
          "height": 439
        }
      },
      "source": [
        "X=[]\n",
        "Y=[]\n",
        "\n",
        "for i in range(6):\n",
        "  lst=list(range(i,i+4))\n",
        "  X.append(list(map(lambda c:[c/10],lst)))\n",
        "  Y.append((i+4)/10)\n",
        "\n",
        "X=np.array(X)\n",
        "Y=np.array(Y)\n",
        "\n",
        "for i in range(len(X)):\n",
        "  print(X[i],Y[i])"
      ],
      "execution_count": 0,
      "outputs": [
        {
          "output_type": "stream",
          "text": [
            "[[0. ]\n",
            " [0.1]\n",
            " [0.2]\n",
            " [0.3]] 0.4\n",
            "[[0.1]\n",
            " [0.2]\n",
            " [0.3]\n",
            " [0.4]] 0.5\n",
            "[[0.2]\n",
            " [0.3]\n",
            " [0.4]\n",
            " [0.5]] 0.6\n",
            "[[0.3]\n",
            " [0.4]\n",
            " [0.5]\n",
            " [0.6]] 0.7\n",
            "[[0.4]\n",
            " [0.5]\n",
            " [0.6]\n",
            " [0.7]] 0.8\n",
            "[[0.5]\n",
            " [0.6]\n",
            " [0.7]\n",
            " [0.8]] 0.9\n"
          ],
          "name": "stdout"
        }
      ]
    },
    {
      "cell_type": "code",
      "metadata": {
        "id": "yMWoNg4hM8cA",
        "colab_type": "code",
        "outputId": "6e75dc40-42e2-40b5-ebf0-c738e37faeb4",
        "colab": {
          "base_uri": "https://localhost:8080/",
          "height": 228
        }
      },
      "source": [
        "model=tf.keras.Sequential([\n",
        "                           tf.keras.layers.SimpleRNN(units=10,return_sequences=False,input_shape=[4,1]),\n",
        "                           tf.keras.layers.Dense(1)\n",
        "])\n",
        "# return_sequences: Boolean. Whether to return the last output in the output sequence, or the full sequence.\n",
        "\n",
        "model.compile(optimizer='adam',loss='mse')\n",
        "model.summary()"
      ],
      "execution_count": 0,
      "outputs": [
        {
          "output_type": "stream",
          "text": [
            "Model: \"sequential\"\n",
            "_________________________________________________________________\n",
            "Layer (type)                 Output Shape              Param #   \n",
            "=================================================================\n",
            "simple_rnn (SimpleRNN)       (None, 10)                120       \n",
            "_________________________________________________________________\n",
            "dense (Dense)                (None, 1)                 11        \n",
            "=================================================================\n",
            "Total params: 131\n",
            "Trainable params: 131\n",
            "Non-trainable params: 0\n",
            "_________________________________________________________________\n"
          ],
          "name": "stdout"
        }
      ]
    },
    {
      "cell_type": "code",
      "metadata": {
        "id": "DeRQ5LhXuZj4",
        "colab_type": "code",
        "outputId": "88c8763b-d9a5-41e3-e2f9-09edc0f78818",
        "colab": {
          "base_uri": "https://localhost:8080/",
          "height": 34
        }
      },
      "source": [
        "model.fit(X,Y,epochs=100,verbose=0)# verbose : 훈련과정에서의 출력"
      ],
      "execution_count": 0,
      "outputs": [
        {
          "output_type": "execute_result",
          "data": {
            "text/plain": [
              "<tensorflow.python.keras.callbacks.History at 0x7f2daa74ff28>"
            ]
          },
          "metadata": {
            "tags": []
          },
          "execution_count": 10
        }
      ]
    },
    {
      "cell_type": "code",
      "metadata": {
        "id": "h9umQBQaulzv",
        "colab_type": "code",
        "outputId": "6e3ecc3b-92e6-4303-e225-3dd0fc9f4d08",
        "colab": {
          "base_uri": "https://localhost:8080/",
          "height": 122
        }
      },
      "source": [
        "print(model.predict(X))"
      ],
      "execution_count": 0,
      "outputs": [
        {
          "output_type": "stream",
          "text": [
            "[[0.43792152]\n",
            " [0.5492632 ]\n",
            " [0.6425079 ]\n",
            " [0.7155023 ]\n",
            " [0.7684113 ]\n",
            " [0.80294365]]\n"
          ],
          "name": "stdout"
        }
      ]
    },
    {
      "cell_type": "code",
      "metadata": {
        "id": "TKW9-IPyuzUP",
        "colab_type": "code",
        "outputId": "8560a2eb-7f7f-49c8-a209-493e6efae0c5",
        "colab": {
          "base_uri": "https://localhost:8080/",
          "height": 34
        }
      },
      "source": [
        "model.predict(np.array([[[0.6],[0.7],[0.8],[0.9]]]))"
      ],
      "execution_count": 0,
      "outputs": [
        {
          "output_type": "execute_result",
          "data": {
            "text/plain": [
              "array([[0.82154566]], dtype=float32)"
            ]
          },
          "metadata": {
            "tags": []
          },
          "execution_count": 14
        }
      ]
    },
    {
      "cell_type": "markdown",
      "metadata": {
        "id": "oO3jv7w4vNxl",
        "colab_type": "text"
      },
      "source": [
        "LSTM layer"
      ]
    },
    {
      "cell_type": "code",
      "metadata": {
        "id": "0oVFQgZsvDBu",
        "colab_type": "code",
        "outputId": "df5d35bb-7aa9-4f61-9329-ccad2a05e249",
        "colab": {
          "base_uri": "https://localhost:8080/",
          "height": 1000
        }
      },
      "source": [
        "#multiplication problem with simple rnn\n",
        "\n",
        "X=[]\n",
        "Y=[]\n",
        "\n",
        "for i in range (3000):\n",
        "  lst=np.random.rand(100) #0~1사이의 100개의 랜덤한 숫자\n",
        "  idx=np.random.choice(100,2,replace=False) # 두개의 인덱스 뽑음\n",
        "  zeros=np.zeros(100);\n",
        "  zeros[idx]=1 #one-hot-encoding\n",
        "\n",
        "  X.append(np.array(list(zip(zeros,lst))))\n",
        "  Y.append(np.prod(lst[idx])) # 마킹인덱스가 1인 값만 서로 곱해서 Y에 저장\n",
        "\n",
        "print(X[0],Y[0])"
      ],
      "execution_count": 0,
      "outputs": [
        {
          "output_type": "stream",
          "text": [
            "[[0.         0.36687092]\n",
            " [0.         0.66176059]\n",
            " [0.         0.26485915]\n",
            " [0.         0.13824336]\n",
            " [0.         0.00879103]\n",
            " [0.         0.76405315]\n",
            " [0.         0.74779602]\n",
            " [0.         0.55115887]\n",
            " [0.         0.95599714]\n",
            " [0.         0.07372968]\n",
            " [0.         0.90291982]\n",
            " [0.         0.89448286]\n",
            " [0.         0.93423492]\n",
            " [0.         0.22540999]\n",
            " [0.         0.61363878]\n",
            " [0.         0.54581219]\n",
            " [0.         0.10904944]\n",
            " [0.         0.42457343]\n",
            " [1.         0.56189408]\n",
            " [0.         0.84886374]\n",
            " [0.         0.16283443]\n",
            " [0.         0.7608974 ]\n",
            " [0.         0.65614942]\n",
            " [0.         0.48679464]\n",
            " [0.         0.42511512]\n",
            " [0.         0.97420331]\n",
            " [0.         0.31447082]\n",
            " [0.         0.26099306]\n",
            " [0.         0.24188882]\n",
            " [0.         0.38740324]\n",
            " [0.         0.43955441]\n",
            " [0.         0.30672809]\n",
            " [0.         0.74128453]\n",
            " [0.         0.05602712]\n",
            " [0.         0.35415592]\n",
            " [0.         0.38798699]\n",
            " [0.         0.05287865]\n",
            " [0.         0.43728474]\n",
            " [0.         0.01695791]\n",
            " [0.         0.0345497 ]\n",
            " [0.         0.90074783]\n",
            " [0.         0.71401482]\n",
            " [0.         0.03877502]\n",
            " [0.         0.68825907]\n",
            " [0.         0.13828094]\n",
            " [0.         0.55932154]\n",
            " [0.         0.55476685]\n",
            " [0.         0.36773443]\n",
            " [0.         0.54085451]\n",
            " [0.         0.45869016]\n",
            " [0.         0.40305178]\n",
            " [0.         0.90271078]\n",
            " [0.         0.91984812]\n",
            " [0.         0.66516658]\n",
            " [0.         0.99030936]\n",
            " [0.         0.91933451]\n",
            " [0.         0.6851937 ]\n",
            " [0.         0.67267863]\n",
            " [0.         0.15872901]\n",
            " [0.         0.97045986]\n",
            " [0.         0.74855446]\n",
            " [0.         0.02710821]\n",
            " [0.         0.38766825]\n",
            " [0.         0.28423977]\n",
            " [0.         0.47773261]\n",
            " [0.         0.91349281]\n",
            " [0.         0.21525128]\n",
            " [0.         0.43537644]\n",
            " [0.         0.99749668]\n",
            " [0.         0.19387595]\n",
            " [0.         0.29672799]\n",
            " [0.         0.89577933]\n",
            " [0.         0.8956298 ]\n",
            " [0.         0.85956979]\n",
            " [0.         0.68503791]\n",
            " [0.         0.82262878]\n",
            " [0.         0.17863237]\n",
            " [0.         0.3003727 ]\n",
            " [0.         0.28662506]\n",
            " [0.         0.19545749]\n",
            " [0.         0.50093729]\n",
            " [0.         0.80535452]\n",
            " [0.         0.09764488]\n",
            " [0.         0.75724436]\n",
            " [0.         0.42864914]\n",
            " [1.         0.68206357]\n",
            " [0.         0.81591195]\n",
            " [0.         0.24206791]\n",
            " [0.         0.55955241]\n",
            " [0.         0.76933637]\n",
            " [0.         0.78590684]\n",
            " [0.         0.45233437]\n",
            " [0.         0.69131361]\n",
            " [0.         0.06674815]\n",
            " [0.         0.77814248]\n",
            " [0.         0.66473119]\n",
            " [0.         0.17365699]\n",
            " [0.         0.85712926]\n",
            " [0.         0.83729364]\n",
            " [0.         0.47371418]] 0.38324748212681836\n"
          ],
          "name": "stdout"
        }
      ]
    },
    {
      "cell_type": "code",
      "metadata": {
        "id": "kXFg7ZikcxoJ",
        "colab_type": "code",
        "colab": {}
      },
      "source": [
        "model=tf.keras.Sequential([\n",
        "                           tf.keras.layers.SimpleRNN(units=30,return_sequences=True,input_shape=[100,2]),\n",
        "                           tf.keras.layers.SimpleRNN(units=30),\n",
        "                           tf.keras.layers.Dense(units=1)\n",
        "])\n",
        "\n",
        "model.compile(optimizer=tf.keras.optimizers.Adam(),loss='mse')"
      ],
      "execution_count": 0,
      "outputs": []
    },
    {
      "cell_type": "code",
      "metadata": {
        "id": "fcfQMwyHf8rA",
        "colab_type": "code",
        "colab": {}
      },
      "source": [
        "X=np.array(X)\n",
        "Y=np.array(Y)"
      ],
      "execution_count": 0,
      "outputs": []
    },
    {
      "cell_type": "code",
      "metadata": {
        "id": "z9ood6MUgJ4a",
        "colab_type": "code",
        "outputId": "ef522888-9393-41d4-f927-aaedd7473f01",
        "colab": {
          "base_uri": "https://localhost:8080/",
          "height": 1000
        }
      },
      "source": [
        "history=model.fit(X[:2560],Y[:2560],epochs=100,validation_split=0.2)"
      ],
      "execution_count": 0,
      "outputs": [
        {
          "output_type": "stream",
          "text": [
            "Train on 2048 samples, validate on 512 samples\n",
            "Epoch 1/100\n",
            "2048/2048 [==============================] - 3s 2ms/sample - loss: 0.0682 - val_loss: 0.0482\n",
            "Epoch 2/100\n",
            "2048/2048 [==============================] - 2s 1ms/sample - loss: 0.0543 - val_loss: 0.0482\n",
            "Epoch 3/100\n",
            "2048/2048 [==============================] - 2s 1ms/sample - loss: 0.0506 - val_loss: 0.0485\n",
            "Epoch 4/100\n",
            "2048/2048 [==============================] - 2s 1ms/sample - loss: 0.0509 - val_loss: 0.0484\n",
            "Epoch 5/100\n",
            "2048/2048 [==============================] - 2s 1ms/sample - loss: 0.0498 - val_loss: 0.0504\n",
            "Epoch 6/100\n",
            "2048/2048 [==============================] - 2s 1ms/sample - loss: 0.0497 - val_loss: 0.0483\n",
            "Epoch 7/100\n",
            "2048/2048 [==============================] - 2s 1ms/sample - loss: 0.0491 - val_loss: 0.0477\n",
            "Epoch 8/100\n",
            "2048/2048 [==============================] - 2s 1ms/sample - loss: 0.0494 - val_loss: 0.0480\n",
            "Epoch 9/100\n",
            "2048/2048 [==============================] - 2s 1ms/sample - loss: 0.0489 - val_loss: 0.0486\n",
            "Epoch 10/100\n",
            "2048/2048 [==============================] - 2s 1ms/sample - loss: 0.0497 - val_loss: 0.0490\n",
            "Epoch 11/100\n",
            "2048/2048 [==============================] - 2s 1ms/sample - loss: 0.0493 - val_loss: 0.0480\n",
            "Epoch 12/100\n",
            "2048/2048 [==============================] - 2s 1ms/sample - loss: 0.0508 - val_loss: 0.0513\n",
            "Epoch 13/100\n",
            "2048/2048 [==============================] - 2s 1ms/sample - loss: 0.0495 - val_loss: 0.0492\n",
            "Epoch 14/100\n",
            "2048/2048 [==============================] - 2s 1ms/sample - loss: 0.0490 - val_loss: 0.0489\n",
            "Epoch 15/100\n",
            "2048/2048 [==============================] - 2s 1ms/sample - loss: 0.0488 - val_loss: 0.0494\n",
            "Epoch 16/100\n",
            "2048/2048 [==============================] - 2s 1ms/sample - loss: 0.0492 - val_loss: 0.0487\n",
            "Epoch 17/100\n",
            "2048/2048 [==============================] - 2s 1ms/sample - loss: 0.0489 - val_loss: 0.0490\n",
            "Epoch 18/100\n",
            "2048/2048 [==============================] - 2s 1ms/sample - loss: 0.0487 - val_loss: 0.0483\n",
            "Epoch 19/100\n",
            "2048/2048 [==============================] - 2s 1ms/sample - loss: 0.0486 - val_loss: 0.0482\n",
            "Epoch 20/100\n",
            "2048/2048 [==============================] - 2s 1ms/sample - loss: 0.0476 - val_loss: 0.0477\n",
            "Epoch 21/100\n",
            "2048/2048 [==============================] - 2s 1ms/sample - loss: 0.0478 - val_loss: 0.0498\n",
            "Epoch 22/100\n",
            "2048/2048 [==============================] - 2s 1ms/sample - loss: 0.0491 - val_loss: 0.0491\n",
            "Epoch 23/100\n",
            "2048/2048 [==============================] - 2s 1ms/sample - loss: 0.0477 - val_loss: 0.0487\n",
            "Epoch 24/100\n",
            "2048/2048 [==============================] - 2s 1ms/sample - loss: 0.0479 - val_loss: 0.0518\n",
            "Epoch 25/100\n",
            "2048/2048 [==============================] - 2s 1ms/sample - loss: 0.0487 - val_loss: 0.0502\n",
            "Epoch 26/100\n",
            "2048/2048 [==============================] - 2s 1ms/sample - loss: 0.0486 - val_loss: 0.0485\n",
            "Epoch 27/100\n",
            "2048/2048 [==============================] - 2s 1ms/sample - loss: 0.0472 - val_loss: 0.0495\n",
            "Epoch 28/100\n",
            "2048/2048 [==============================] - 2s 1ms/sample - loss: 0.0471 - val_loss: 0.0522\n",
            "Epoch 29/100\n",
            "2048/2048 [==============================] - 2s 1ms/sample - loss: 0.0467 - val_loss: 0.0521\n",
            "Epoch 30/100\n",
            "2048/2048 [==============================] - 2s 1ms/sample - loss: 0.0468 - val_loss: 0.0525\n",
            "Epoch 31/100\n",
            "2048/2048 [==============================] - 2s 1ms/sample - loss: 0.0467 - val_loss: 0.0494\n",
            "Epoch 32/100\n",
            "2048/2048 [==============================] - 2s 1ms/sample - loss: 0.0472 - val_loss: 0.0504\n",
            "Epoch 33/100\n",
            "2048/2048 [==============================] - 2s 1ms/sample - loss: 0.0464 - val_loss: 0.0491\n",
            "Epoch 34/100\n",
            "2048/2048 [==============================] - 2s 1ms/sample - loss: 0.0458 - val_loss: 0.0519\n",
            "Epoch 35/100\n",
            "2048/2048 [==============================] - 2s 1ms/sample - loss: 0.0470 - val_loss: 0.0524\n",
            "Epoch 36/100\n",
            "2048/2048 [==============================] - 2s 1ms/sample - loss: 0.0469 - val_loss: 0.0535\n",
            "Epoch 37/100\n",
            "2048/2048 [==============================] - 2s 1ms/sample - loss: 0.0475 - val_loss: 0.0502\n",
            "Epoch 38/100\n",
            "2048/2048 [==============================] - 2s 1ms/sample - loss: 0.0471 - val_loss: 0.0497\n",
            "Epoch 39/100\n",
            "2048/2048 [==============================] - 2s 1ms/sample - loss: 0.0450 - val_loss: 0.0502\n",
            "Epoch 40/100\n",
            "2048/2048 [==============================] - 2s 1ms/sample - loss: 0.0454 - val_loss: 0.0490\n",
            "Epoch 41/100\n",
            "2048/2048 [==============================] - 2s 1ms/sample - loss: 0.0455 - val_loss: 0.0501\n",
            "Epoch 42/100\n",
            "2048/2048 [==============================] - 2s 1ms/sample - loss: 0.0443 - val_loss: 0.0515\n",
            "Epoch 43/100\n",
            "2048/2048 [==============================] - 2s 1ms/sample - loss: 0.0455 - val_loss: 0.0505\n",
            "Epoch 44/100\n",
            "2048/2048 [==============================] - 2s 1ms/sample - loss: 0.0458 - val_loss: 0.0496\n",
            "Epoch 45/100\n",
            "2048/2048 [==============================] - 2s 1ms/sample - loss: 0.0439 - val_loss: 0.0499\n",
            "Epoch 46/100\n",
            "2048/2048 [==============================] - 2s 1ms/sample - loss: 0.0454 - val_loss: 0.0506\n",
            "Epoch 47/100\n",
            "2048/2048 [==============================] - 2s 1ms/sample - loss: 0.0437 - val_loss: 0.0514\n",
            "Epoch 48/100\n",
            "2048/2048 [==============================] - 2s 1ms/sample - loss: 0.0433 - val_loss: 0.0524\n",
            "Epoch 49/100\n",
            "2048/2048 [==============================] - 2s 1ms/sample - loss: 0.0431 - val_loss: 0.0495\n",
            "Epoch 50/100\n",
            "2048/2048 [==============================] - 2s 1ms/sample - loss: 0.0463 - val_loss: 0.0523\n",
            "Epoch 51/100\n",
            "2048/2048 [==============================] - 2s 1ms/sample - loss: 0.0440 - val_loss: 0.0499\n",
            "Epoch 52/100\n",
            "2048/2048 [==============================] - 2s 1ms/sample - loss: 0.0421 - val_loss: 0.0541\n",
            "Epoch 53/100\n",
            "2048/2048 [==============================] - 2s 1ms/sample - loss: 0.0421 - val_loss: 0.0517\n",
            "Epoch 54/100\n",
            "2048/2048 [==============================] - 2s 1ms/sample - loss: 0.0423 - val_loss: 0.0558\n",
            "Epoch 55/100\n",
            "2048/2048 [==============================] - 2s 1ms/sample - loss: 0.0416 - val_loss: 0.0500\n",
            "Epoch 56/100\n",
            "2048/2048 [==============================] - 2s 1ms/sample - loss: 0.0423 - val_loss: 0.0608\n",
            "Epoch 57/100\n",
            "2048/2048 [==============================] - 2s 1ms/sample - loss: 0.0407 - val_loss: 0.0538\n",
            "Epoch 58/100\n",
            "2048/2048 [==============================] - 2s 1ms/sample - loss: 0.0405 - val_loss: 0.0553\n",
            "Epoch 59/100\n",
            "2048/2048 [==============================] - 2s 1ms/sample - loss: 0.0426 - val_loss: 0.0521\n",
            "Epoch 60/100\n",
            "2048/2048 [==============================] - 2s 1ms/sample - loss: 0.0417 - val_loss: 0.0551\n",
            "Epoch 61/100\n",
            "2048/2048 [==============================] - 2s 1ms/sample - loss: 0.0401 - val_loss: 0.0551\n",
            "Epoch 62/100\n",
            "2048/2048 [==============================] - 2s 1ms/sample - loss: 0.0396 - val_loss: 0.0505\n",
            "Epoch 63/100\n",
            "2048/2048 [==============================] - 2s 1ms/sample - loss: 0.0392 - val_loss: 0.0543\n",
            "Epoch 64/100\n",
            "2048/2048 [==============================] - 2s 1ms/sample - loss: 0.0399 - val_loss: 0.0525\n",
            "Epoch 65/100\n",
            "2048/2048 [==============================] - 2s 1ms/sample - loss: 0.0413 - val_loss: 0.0527\n",
            "Epoch 66/100\n",
            "2048/2048 [==============================] - 2s 1ms/sample - loss: 0.0388 - val_loss: 0.0515\n",
            "Epoch 67/100\n",
            "2048/2048 [==============================] - 2s 1ms/sample - loss: 0.0397 - val_loss: 0.0519\n",
            "Epoch 68/100\n",
            "2048/2048 [==============================] - 2s 1ms/sample - loss: 0.0395 - val_loss: 0.0521\n",
            "Epoch 69/100\n",
            "2048/2048 [==============================] - 2s 1ms/sample - loss: 0.0374 - val_loss: 0.0518\n",
            "Epoch 70/100\n",
            "2048/2048 [==============================] - 2s 1ms/sample - loss: 0.0372 - val_loss: 0.0546\n",
            "Epoch 71/100\n",
            "2048/2048 [==============================] - 2s 1ms/sample - loss: 0.0392 - val_loss: 0.0507\n",
            "Epoch 72/100\n",
            "2048/2048 [==============================] - 2s 1ms/sample - loss: 0.0361 - val_loss: 0.0495\n",
            "Epoch 73/100\n",
            "2048/2048 [==============================] - 2s 1ms/sample - loss: 0.0368 - val_loss: 0.0504\n",
            "Epoch 74/100\n",
            "2048/2048 [==============================] - 2s 1ms/sample - loss: 0.0390 - val_loss: 0.0509\n",
            "Epoch 75/100\n",
            "2048/2048 [==============================] - 2s 1ms/sample - loss: 0.0380 - val_loss: 0.0504\n",
            "Epoch 76/100\n",
            "2048/2048 [==============================] - 2s 1ms/sample - loss: 0.0346 - val_loss: 0.0506\n",
            "Epoch 77/100\n",
            "2048/2048 [==============================] - 2s 1ms/sample - loss: 0.0348 - val_loss: 0.0509\n",
            "Epoch 78/100\n",
            "2048/2048 [==============================] - 2s 1ms/sample - loss: 0.0335 - val_loss: 0.0512\n",
            "Epoch 79/100\n",
            "2048/2048 [==============================] - 2s 1ms/sample - loss: 0.0343 - val_loss: 0.0528\n",
            "Epoch 80/100\n",
            "2048/2048 [==============================] - 2s 1ms/sample - loss: 0.0339 - val_loss: 0.0521\n",
            "Epoch 81/100\n",
            "2048/2048 [==============================] - 2s 1ms/sample - loss: 0.0411 - val_loss: 0.0520\n",
            "Epoch 82/100\n",
            "2048/2048 [==============================] - 2s 1ms/sample - loss: 0.0430 - val_loss: 0.0506\n",
            "Epoch 83/100\n",
            "2048/2048 [==============================] - 2s 1ms/sample - loss: 0.0403 - val_loss: 0.0509\n",
            "Epoch 84/100\n",
            "2048/2048 [==============================] - 2s 1ms/sample - loss: 0.0372 - val_loss: 0.0518\n",
            "Epoch 85/100\n",
            "2048/2048 [==============================] - 2s 1ms/sample - loss: 0.0368 - val_loss: 0.0516\n",
            "Epoch 86/100\n",
            "2048/2048 [==============================] - 2s 1ms/sample - loss: 0.0358 - val_loss: 0.0564\n",
            "Epoch 87/100\n",
            "2048/2048 [==============================] - 2s 1ms/sample - loss: 0.0344 - val_loss: 0.0527\n",
            "Epoch 88/100\n",
            "2048/2048 [==============================] - 2s 1ms/sample - loss: 0.0336 - val_loss: 0.0524\n",
            "Epoch 89/100\n",
            "2048/2048 [==============================] - 2s 1ms/sample - loss: 0.0328 - val_loss: 0.0493\n",
            "Epoch 90/100\n",
            "2048/2048 [==============================] - 2s 1ms/sample - loss: 0.0374 - val_loss: 0.0532\n",
            "Epoch 91/100\n",
            "2048/2048 [==============================] - 2s 1ms/sample - loss: 0.0325 - val_loss: 0.0495\n",
            "Epoch 92/100\n",
            "2048/2048 [==============================] - 2s 1ms/sample - loss: 0.0316 - val_loss: 0.0515\n",
            "Epoch 93/100\n",
            "2048/2048 [==============================] - 2s 1ms/sample - loss: 0.0321 - val_loss: 0.0560\n",
            "Epoch 94/100\n",
            "2048/2048 [==============================] - 2s 1ms/sample - loss: 0.0317 - val_loss: 0.0485\n",
            "Epoch 95/100\n",
            "2048/2048 [==============================] - 2s 1ms/sample - loss: 0.0309 - val_loss: 0.0538\n",
            "Epoch 96/100\n",
            "2048/2048 [==============================] - 2s 1ms/sample - loss: 0.0311 - val_loss: 0.0487\n",
            "Epoch 97/100\n",
            "2048/2048 [==============================] - 2s 1ms/sample - loss: 0.0314 - val_loss: 0.0514\n",
            "Epoch 98/100\n",
            "2048/2048 [==============================] - 2s 1ms/sample - loss: 0.0320 - val_loss: 0.0529\n",
            "Epoch 99/100\n",
            "2048/2048 [==============================] - 2s 1ms/sample - loss: 0.0282 - val_loss: 0.0476\n",
            "Epoch 100/100\n",
            "2048/2048 [==============================] - 2s 1ms/sample - loss: 0.0312 - val_loss: 0.0497\n"
          ],
          "name": "stdout"
        }
      ]
    },
    {
      "cell_type": "code",
      "metadata": {
        "id": "ZO0bMbqJgXFA",
        "colab_type": "code",
        "outputId": "813775bd-398d-4a95-bfd0-f7f5f0e72660",
        "colab": {
          "base_uri": "https://localhost:8080/",
          "height": 282
        }
      },
      "source": [
        "plt.plot(history.history['loss'],'b-',label='loss')\n",
        "plt.plot(history.history['val_loss'],'r-',label='val_loss')\n",
        "plt.xlabel('epoch');\n",
        "plt.legend()\n",
        "plt.show() #overfitted"
      ],
      "execution_count": 0,
      "outputs": [
        {
          "output_type": "display_data",
          "data": {
            "image/png": "[encoded data removed]",
            "text/plain": [
              "<Figure size 432x288 with 1 Axes>"
            ]
          },
          "metadata": {
            "tags": []
          }
        }
      ]
    },
    {
      "cell_type": "code",
      "metadata": {
        "id": "aa96QSlGhC_-",
        "colab_type": "code",
        "outputId": "d46ca64a-eb9b-4a62-89b4-fc9ea31d6df9",
        "colab": {
          "base_uri": "https://localhost:8080/",
          "height": 52
        }
      },
      "source": [
        "model.evaluate(X[2560:],Y[2560:])\n",
        "\n",
        "fail=0\n",
        "\n",
        "prediction=model.predict(X[2560:])\n",
        "\n",
        "for i in range(len(prediction)):\n",
        "  if abs(prediction[i][0]-Y[2560+i])>0.04:\n",
        "    fail+=1\n",
        "\n",
        "print('correctness : '+str((440-fail)/440))"
      ],
      "execution_count": 0,
      "outputs": [
        {
          "output_type": "stream",
          "text": [
            "440/440 [==============================] - 0s 681us/sample - loss: 0.0507\n",
            "correctness : 0.16590909090909092\n"
          ],
          "name": "stdout"
        }
      ]
    },
    {
      "cell_type": "code",
      "metadata": {
        "id": "U_pgWUSEivo6",
        "colab_type": "code",
        "colab": {}
      },
      "source": [
        "model=tf.keras.Sequential([\n",
        "                           tf.keras.layers.LSTM(units=30,return_sequences=True,input_shape=[100,2]),\n",
        "                           tf.keras.layers.LSTM(units=30),\n",
        "                           tf.keras.layers.Dense(units=1)    \n",
        "])\n",
        "\n",
        "model.compile(optimizer=tf.keras.optimizers.Adam(),loss='mse')"
      ],
      "execution_count": 0,
      "outputs": []
    },
    {
      "cell_type": "code",
      "metadata": {
        "id": "JSgDx1rhjnR6",
        "colab_type": "code",
        "outputId": "96ef1bff-ec2e-46e9-b052-28bb4bd43f33",
        "colab": {
          "base_uri": "https://localhost:8080/",
          "height": 1000
        }
      },
      "source": [
        "history=model.fit(X[:2560],Y[:2560],epochs=100,validation_split=0.2)"
      ],
      "execution_count": 0,
      "outputs": [
        {
          "output_type": "stream",
          "text": [
            "Train on 2048 samples, validate on 512 samples\n",
            "Epoch 1/100\n",
            "2048/2048 [==============================] - 6s 3ms/sample - loss: 0.0533 - val_loss: 0.0488\n",
            "Epoch 2/100\n",
            "2048/2048 [==============================] - 4s 2ms/sample - loss: 0.0494 - val_loss: 0.0501\n",
            "Epoch 3/100\n",
            "2048/2048 [==============================] - 4s 2ms/sample - loss: 0.0492 - val_loss: 0.0478\n",
            "Epoch 4/100\n",
            "2048/2048 [==============================] - 4s 2ms/sample - loss: 0.0489 - val_loss: 0.0479\n",
            "Epoch 5/100\n",
            "2048/2048 [==============================] - 4s 2ms/sample - loss: 0.0493 - val_loss: 0.0482\n",
            "Epoch 6/100\n",
            "2048/2048 [==============================] - 4s 2ms/sample - loss: 0.0488 - val_loss: 0.0480\n",
            "Epoch 7/100\n",
            "2048/2048 [==============================] - 4s 2ms/sample - loss: 0.0488 - val_loss: 0.0481\n",
            "Epoch 8/100\n",
            "2048/2048 [==============================] - 4s 2ms/sample - loss: 0.0487 - val_loss: 0.0480\n",
            "Epoch 9/100\n",
            "2048/2048 [==============================] - 4s 2ms/sample - loss: 0.0487 - val_loss: 0.0483\n",
            "Epoch 10/100\n",
            "2048/2048 [==============================] - 4s 2ms/sample - loss: 0.0490 - val_loss: 0.0499\n",
            "Epoch 11/100\n",
            "2048/2048 [==============================] - 4s 2ms/sample - loss: 0.0493 - val_loss: 0.0479\n",
            "Epoch 12/100\n",
            "2048/2048 [==============================] - 4s 2ms/sample - loss: 0.0484 - val_loss: 0.0495\n",
            "Epoch 13/100\n",
            "2048/2048 [==============================] - 4s 2ms/sample - loss: 0.0486 - val_loss: 0.0482\n",
            "Epoch 14/100\n",
            "2048/2048 [==============================] - 4s 2ms/sample - loss: 0.0488 - val_loss: 0.0481\n",
            "Epoch 15/100\n",
            "2048/2048 [==============================] - 4s 2ms/sample - loss: 0.0484 - val_loss: 0.0482\n",
            "Epoch 16/100\n",
            "2048/2048 [==============================] - 4s 2ms/sample - loss: 0.0483 - val_loss: 0.0480\n",
            "Epoch 17/100\n",
            "2048/2048 [==============================] - 4s 2ms/sample - loss: 0.0488 - val_loss: 0.0481\n",
            "Epoch 18/100\n",
            "2048/2048 [==============================] - 4s 2ms/sample - loss: 0.0484 - val_loss: 0.0487\n",
            "Epoch 19/100\n",
            "2048/2048 [==============================] - 4s 2ms/sample - loss: 0.0489 - val_loss: 0.0478\n",
            "Epoch 20/100\n",
            "2048/2048 [==============================] - 4s 2ms/sample - loss: 0.0480 - val_loss: 0.0476\n",
            "Epoch 21/100\n",
            "2048/2048 [==============================] - 4s 2ms/sample - loss: 0.0477 - val_loss: 0.0469\n",
            "Epoch 22/100\n",
            "2048/2048 [==============================] - 4s 2ms/sample - loss: 0.0487 - val_loss: 0.0479\n",
            "Epoch 23/100\n",
            "2048/2048 [==============================] - 4s 2ms/sample - loss: 0.0482 - val_loss: 0.0469\n",
            "Epoch 24/100\n",
            "2048/2048 [==============================] - 4s 2ms/sample - loss: 0.0484 - val_loss: 0.0483\n",
            "Epoch 25/100\n",
            "2048/2048 [==============================] - 4s 2ms/sample - loss: 0.0486 - val_loss: 0.0477\n",
            "Epoch 26/100\n",
            "2048/2048 [==============================] - 4s 2ms/sample - loss: 0.0483 - val_loss: 0.0476\n",
            "Epoch 27/100\n",
            "2048/2048 [==============================] - 4s 2ms/sample - loss: 0.0479 - val_loss: 0.0475\n",
            "Epoch 28/100\n",
            "2048/2048 [==============================] - 4s 2ms/sample - loss: 0.0477 - val_loss: 0.0488\n",
            "Epoch 29/100\n",
            "2048/2048 [==============================] - 4s 2ms/sample - loss: 0.0475 - val_loss: 0.0476\n",
            "Epoch 30/100\n",
            "2048/2048 [==============================] - 4s 2ms/sample - loss: 0.0480 - val_loss: 0.0502\n",
            "Epoch 31/100\n",
            "2048/2048 [==============================] - 4s 2ms/sample - loss: 0.0494 - val_loss: 0.0473\n",
            "Epoch 32/100\n",
            "2048/2048 [==============================] - 4s 2ms/sample - loss: 0.0479 - val_loss: 0.0464\n",
            "Epoch 33/100\n",
            "2048/2048 [==============================] - 4s 2ms/sample - loss: 0.0482 - val_loss: 0.0471\n",
            "Epoch 34/100\n",
            "2048/2048 [==============================] - 4s 2ms/sample - loss: 0.0471 - val_loss: 0.0474\n",
            "Epoch 35/100\n",
            "2048/2048 [==============================] - 4s 2ms/sample - loss: 0.0435 - val_loss: 0.0472\n",
            "Epoch 36/100\n",
            "2048/2048 [==============================] - 4s 2ms/sample - loss: 0.0425 - val_loss: 0.0486\n",
            "Epoch 37/100\n",
            "2048/2048 [==============================] - 4s 2ms/sample - loss: 0.0454 - val_loss: 0.0501\n",
            "Epoch 38/100\n",
            "2048/2048 [==============================] - 4s 2ms/sample - loss: 0.0502 - val_loss: 0.0516\n",
            "Epoch 39/100\n",
            "2048/2048 [==============================] - 4s 2ms/sample - loss: 0.0501 - val_loss: 0.0497\n",
            "Epoch 40/100\n",
            "2048/2048 [==============================] - 4s 2ms/sample - loss: 0.0497 - val_loss: 0.0452\n",
            "Epoch 41/100\n",
            "2048/2048 [==============================] - 4s 2ms/sample - loss: 0.0521 - val_loss: 0.0523\n",
            "Epoch 42/100\n",
            "2048/2048 [==============================] - 4s 2ms/sample - loss: 0.0500 - val_loss: 0.0487\n",
            "Epoch 43/100\n",
            "2048/2048 [==============================] - 4s 2ms/sample - loss: 0.0497 - val_loss: 0.0485\n",
            "Epoch 44/100\n",
            "2048/2048 [==============================] - 4s 2ms/sample - loss: 0.0494 - val_loss: 0.0507\n",
            "Epoch 45/100\n",
            "2048/2048 [==============================] - 4s 2ms/sample - loss: 0.0493 - val_loss: 0.0491\n",
            "Epoch 46/100\n",
            "2048/2048 [==============================] - 4s 2ms/sample - loss: 0.0493 - val_loss: 0.0483\n",
            "Epoch 47/100\n",
            "2048/2048 [==============================] - 4s 2ms/sample - loss: 0.0494 - val_loss: 0.0483\n",
            "Epoch 48/100\n",
            "2048/2048 [==============================] - 4s 2ms/sample - loss: 0.0495 - val_loss: 0.0483\n",
            "Epoch 49/100\n",
            "2048/2048 [==============================] - 4s 2ms/sample - loss: 0.0490 - val_loss: 0.0489\n",
            "Epoch 50/100\n",
            "2048/2048 [==============================] - 4s 2ms/sample - loss: 0.0492 - val_loss: 0.0485\n",
            "Epoch 51/100\n",
            "2048/2048 [==============================] - 4s 2ms/sample - loss: 0.0492 - val_loss: 0.0482\n",
            "Epoch 52/100\n",
            "2048/2048 [==============================] - 3s 2ms/sample - loss: 0.0493 - val_loss: 0.0484\n",
            "Epoch 53/100\n",
            "2048/2048 [==============================] - 3s 2ms/sample - loss: 0.0492 - val_loss: 0.0485\n",
            "Epoch 54/100\n",
            "2048/2048 [==============================] - 3s 2ms/sample - loss: 0.0498 - val_loss: 0.0481\n",
            "Epoch 55/100\n",
            "2048/2048 [==============================] - 3s 2ms/sample - loss: 0.0491 - val_loss: 0.0487\n",
            "Epoch 56/100\n",
            "2048/2048 [==============================] - 4s 2ms/sample - loss: 0.0487 - val_loss: 0.0476\n",
            "Epoch 57/100\n",
            "2048/2048 [==============================] - 4s 2ms/sample - loss: 0.0460 - val_loss: 0.0482\n",
            "Epoch 58/100\n",
            "2048/2048 [==============================] - 4s 2ms/sample - loss: 0.0415 - val_loss: 0.0370\n",
            "Epoch 59/100\n",
            "2048/2048 [==============================] - 4s 2ms/sample - loss: 0.0435 - val_loss: 0.0388\n",
            "Epoch 60/100\n",
            "2048/2048 [==============================] - 4s 2ms/sample - loss: 0.0341 - val_loss: 0.0359\n",
            "Epoch 61/100\n",
            "2048/2048 [==============================] - 4s 2ms/sample - loss: 0.0261 - val_loss: 0.0213\n",
            "Epoch 62/100\n",
            "2048/2048 [==============================] - 4s 2ms/sample - loss: 0.0198 - val_loss: 0.0213\n",
            "Epoch 63/100\n",
            "2048/2048 [==============================] - 4s 2ms/sample - loss: 0.0151 - val_loss: 0.0113\n",
            "Epoch 64/100\n",
            "2048/2048 [==============================] - 4s 2ms/sample - loss: 0.0105 - val_loss: 0.0078\n",
            "Epoch 65/100\n",
            "2048/2048 [==============================] - 4s 2ms/sample - loss: 0.0086 - val_loss: 0.0065\n",
            "Epoch 66/100\n",
            "2048/2048 [==============================] - 4s 2ms/sample - loss: 0.0076 - val_loss: 0.0065\n",
            "Epoch 67/100\n",
            "2048/2048 [==============================] - 4s 2ms/sample - loss: 0.0061 - val_loss: 0.0057\n",
            "Epoch 68/100\n",
            "2048/2048 [==============================] - 4s 2ms/sample - loss: 0.0057 - val_loss: 0.0053\n",
            "Epoch 69/100\n",
            "2048/2048 [==============================] - 4s 2ms/sample - loss: 0.0042 - val_loss: 0.0039\n",
            "Epoch 70/100\n",
            "2048/2048 [==============================] - 4s 2ms/sample - loss: 0.0042 - val_loss: 0.0046\n",
            "Epoch 71/100\n",
            "2048/2048 [==============================] - 4s 2ms/sample - loss: 0.0041 - val_loss: 0.0041\n",
            "Epoch 72/100\n",
            "2048/2048 [==============================] - 4s 2ms/sample - loss: 0.0034 - val_loss: 0.0104\n",
            "Epoch 73/100\n",
            "2048/2048 [==============================] - 4s 2ms/sample - loss: 0.0036 - val_loss: 0.0032\n",
            "Epoch 74/100\n",
            "2048/2048 [==============================] - 4s 2ms/sample - loss: 0.0036 - val_loss: 0.0027\n",
            "Epoch 75/100\n",
            "2048/2048 [==============================] - 4s 2ms/sample - loss: 0.0033 - val_loss: 0.0049\n",
            "Epoch 76/100\n",
            "2048/2048 [==============================] - 4s 2ms/sample - loss: 0.0039 - val_loss: 0.0029\n",
            "Epoch 77/100\n",
            "2048/2048 [==============================] - 4s 2ms/sample - loss: 0.0026 - val_loss: 0.0029\n",
            "Epoch 78/100\n",
            "2048/2048 [==============================] - 4s 2ms/sample - loss: 0.0032 - val_loss: 0.0055\n",
            "Epoch 79/100\n",
            "2048/2048 [==============================] - 4s 2ms/sample - loss: 0.0027 - val_loss: 0.0034\n",
            "Epoch 80/100\n",
            "2048/2048 [==============================] - 4s 2ms/sample - loss: 0.0033 - val_loss: 0.0029\n",
            "Epoch 81/100\n",
            "2048/2048 [==============================] - 4s 2ms/sample - loss: 0.0025 - val_loss: 0.0021\n",
            "Epoch 82/100\n",
            "2048/2048 [==============================] - 4s 2ms/sample - loss: 0.0027 - val_loss: 0.0020\n",
            "Epoch 83/100\n",
            "2048/2048 [==============================] - 4s 2ms/sample - loss: 0.0022 - val_loss: 0.0019\n",
            "Epoch 84/100\n",
            "2048/2048 [==============================] - 4s 2ms/sample - loss: 0.0019 - val_loss: 0.0026\n",
            "Epoch 85/100\n",
            "2048/2048 [==============================] - 4s 2ms/sample - loss: 0.0022 - val_loss: 0.0019\n",
            "Epoch 86/100\n",
            "2048/2048 [==============================] - 4s 2ms/sample - loss: 0.0019 - val_loss: 0.0016\n",
            "Epoch 87/100\n",
            "2048/2048 [==============================] - 4s 2ms/sample - loss: 0.0019 - val_loss: 0.0016\n",
            "Epoch 88/100\n",
            "2048/2048 [==============================] - 4s 2ms/sample - loss: 0.0019 - val_loss: 0.0015\n",
            "Epoch 89/100\n",
            "2048/2048 [==============================] - 4s 2ms/sample - loss: 0.0020 - val_loss: 0.0014\n",
            "Epoch 90/100\n",
            "2048/2048 [==============================] - 4s 2ms/sample - loss: 0.0021 - val_loss: 0.0024\n",
            "Epoch 91/100\n",
            "2048/2048 [==============================] - 4s 2ms/sample - loss: 0.0020 - val_loss: 0.0014\n",
            "Epoch 92/100\n",
            "2048/2048 [==============================] - 4s 2ms/sample - loss: 0.0021 - val_loss: 0.0016\n",
            "Epoch 93/100\n",
            "2048/2048 [==============================] - 4s 2ms/sample - loss: 0.0019 - val_loss: 0.0034\n",
            "Epoch 94/100\n",
            "2048/2048 [==============================] - 4s 2ms/sample - loss: 0.0016 - val_loss: 0.0012\n",
            "Epoch 95/100\n",
            "2048/2048 [==============================] - 4s 2ms/sample - loss: 0.0015 - val_loss: 0.0012\n",
            "Epoch 96/100\n",
            "2048/2048 [==============================] - 4s 2ms/sample - loss: 0.0015 - val_loss: 0.0014\n",
            "Epoch 97/100\n",
            "2048/2048 [==============================] - 4s 2ms/sample - loss: 0.0018 - val_loss: 0.0011\n",
            "Epoch 98/100\n",
            "2048/2048 [==============================] - 4s 2ms/sample - loss: 0.0015 - val_loss: 0.0011\n",
            "Epoch 99/100\n",
            "2048/2048 [==============================] - 4s 2ms/sample - loss: 0.0013 - val_loss: 0.0010\n",
            "Epoch 100/100\n",
            "2048/2048 [==============================] - 4s 2ms/sample - loss: 0.0015 - val_loss: 0.0019\n"
          ],
          "name": "stdout"
        }
      ]
    },
    {
      "cell_type": "code",
      "metadata": {
        "id": "ta79GZgwjzlG",
        "colab_type": "code",
        "outputId": "6cc579b0-777d-47ff-c255-1df27d971c3d",
        "colab": {
          "base_uri": "https://localhost:8080/",
          "height": 279
        }
      },
      "source": [
        "plt.plot(history.history['loss'],'b-',label='loss')\n",
        "plt.plot(history.history['val_loss'],'r-',label='val_loss')\n",
        "plt.xlabel('epoch');\n",
        "plt.legend()\n",
        "plt.show() "
      ],
      "execution_count": 0,
      "outputs": [
        {
          "output_type": "display_data",
          "data": {
            "image/png": "[encoded data removed]",
            "text/plain": [
              "<Figure size 432x288 with 1 Axes>"
            ]
          },
          "metadata": {
            "tags": []
          }
        }
      ]
    },
    {
      "cell_type": "code",
      "metadata": {
        "id": "3PcRxdkxj2e2",
        "colab_type": "code",
        "outputId": "de5f19c4-9a66-4ae4-8eb0-d7fb083a9041",
        "colab": {
          "base_uri": "https://localhost:8080/",
          "height": 52
        }
      },
      "source": [
        "model.evaluate(X[2560:],Y[2560:])\n",
        "\n",
        "fail=0\n",
        "\n",
        "prediction=model.predict(X[2560:])\n",
        "\n",
        "for i in range(len(prediction)):\n",
        "  if abs(prediction[i][0]-Y[2560+i])>0.04:\n",
        "    fail+=1\n",
        "\n",
        "print('correctness : '+str((440-fail)/440))"
      ],
      "execution_count": 0,
      "outputs": [
        {
          "output_type": "stream",
          "text": [
            "440/440 [==============================] - 1s 2ms/sample - loss: 0.0026\n",
            "correctness : 0.6136363636363636\n"
          ],
          "name": "stdout"
        }
      ]
    },
    {
      "cell_type": "markdown",
      "metadata": {
        "id": "yRTZR9nBkBBv",
        "colab_type": "text"
      },
      "source": [
        "GRU layer"
      ]
    },
    {
      "cell_type": "code",
      "metadata": {
        "id": "zU5Bi1EKkAgh",
        "colab_type": "code",
        "colab": {}
      },
      "source": [
        "model=tf.keras.Sequential([\n",
        "                           tf.keras.layers.GRU(units=30,return_sequences=True,input_shape=[100,2]),\n",
        "                           tf.keras.layers.GRU(units=30),\n",
        "                           tf.keras.layers.Dense(units=1)\n",
        "])\n",
        "\n",
        "model.compile(optimizer='adam',loss='mse')"
      ],
      "execution_count": 0,
      "outputs": []
    },
    {
      "cell_type": "code",
      "metadata": {
        "id": "wLe5LDQRj_DH",
        "colab_type": "code",
        "outputId": "8e69b19b-8b91-4a02-95d5-41910d8db4ad",
        "colab": {
          "base_uri": "https://localhost:8080/",
          "height": 1000
        }
      },
      "source": [
        "history=model.fit(X[:2560],Y[:2560],epochs=100,validation_split=0.2)"
      ],
      "execution_count": 0,
      "outputs": [
        {
          "output_type": "stream",
          "text": [
            "Train on 2048 samples, validate on 512 samples\n",
            "Epoch 1/100\n",
            "2048/2048 [==============================] - 6s 3ms/sample - loss: 0.0595 - val_loss: 0.0480\n",
            "Epoch 2/100\n",
            "2048/2048 [==============================] - 3s 2ms/sample - loss: 0.0495 - val_loss: 0.0484\n",
            "Epoch 3/100\n",
            "2048/2048 [==============================] - 3s 2ms/sample - loss: 0.0494 - val_loss: 0.0486\n",
            "Epoch 4/100\n",
            "2048/2048 [==============================] - 3s 2ms/sample - loss: 0.0492 - val_loss: 0.0481\n",
            "Epoch 5/100\n",
            "2048/2048 [==============================] - 3s 2ms/sample - loss: 0.0490 - val_loss: 0.0482\n",
            "Epoch 6/100\n",
            "2048/2048 [==============================] - 3s 2ms/sample - loss: 0.0490 - val_loss: 0.0489\n",
            "Epoch 7/100\n",
            "2048/2048 [==============================] - 3s 2ms/sample - loss: 0.0491 - val_loss: 0.0491\n",
            "Epoch 8/100\n",
            "2048/2048 [==============================] - 3s 2ms/sample - loss: 0.0492 - val_loss: 0.0485\n",
            "Epoch 9/100\n",
            "2048/2048 [==============================] - 3s 2ms/sample - loss: 0.0492 - val_loss: 0.0480\n",
            "Epoch 10/100\n",
            "2048/2048 [==============================] - 3s 2ms/sample - loss: 0.0490 - val_loss: 0.0490\n",
            "Epoch 11/100\n",
            "2048/2048 [==============================] - 3s 2ms/sample - loss: 0.0492 - val_loss: 0.0490\n",
            "Epoch 12/100\n",
            "2048/2048 [==============================] - 3s 2ms/sample - loss: 0.0483 - val_loss: 0.0480\n",
            "Epoch 13/100\n",
            "2048/2048 [==============================] - 3s 2ms/sample - loss: 0.0482 - val_loss: 0.0479\n",
            "Epoch 14/100\n",
            "2048/2048 [==============================] - 4s 2ms/sample - loss: 0.0481 - val_loss: 0.0490\n",
            "Epoch 15/100\n",
            "2048/2048 [==============================] - 4s 2ms/sample - loss: 0.0478 - val_loss: 0.0470\n",
            "Epoch 16/100\n",
            "2048/2048 [==============================] - 4s 2ms/sample - loss: 0.0477 - val_loss: 0.0466\n",
            "Epoch 17/100\n",
            "2048/2048 [==============================] - 3s 2ms/sample - loss: 0.0462 - val_loss: 0.0431\n",
            "Epoch 18/100\n",
            "2048/2048 [==============================] - 3s 2ms/sample - loss: 0.0185 - val_loss: 0.0039\n",
            "Epoch 19/100\n",
            "2048/2048 [==============================] - 3s 2ms/sample - loss: 0.0033 - val_loss: 0.0023\n",
            "Epoch 20/100\n",
            "2048/2048 [==============================] - 3s 2ms/sample - loss: 0.0020 - val_loss: 0.0014\n",
            "Epoch 21/100\n",
            "2048/2048 [==============================] - 3s 2ms/sample - loss: 0.0017 - val_loss: 0.0012\n",
            "Epoch 22/100\n",
            "2048/2048 [==============================] - 3s 2ms/sample - loss: 0.0015 - val_loss: 0.0010\n",
            "Epoch 23/100\n",
            "2048/2048 [==============================] - 4s 2ms/sample - loss: 0.0012 - val_loss: 0.0011\n",
            "Epoch 24/100\n",
            "2048/2048 [==============================] - 3s 2ms/sample - loss: 0.0011 - val_loss: 9.2810e-04\n",
            "Epoch 25/100\n",
            "2048/2048 [==============================] - 3s 2ms/sample - loss: 9.4522e-04 - val_loss: 8.3260e-04\n",
            "Epoch 26/100\n",
            "2048/2048 [==============================] - 3s 2ms/sample - loss: 9.8313e-04 - val_loss: 7.5692e-04\n",
            "Epoch 27/100\n",
            "2048/2048 [==============================] - 3s 2ms/sample - loss: 9.1435e-04 - val_loss: 0.0013\n",
            "Epoch 28/100\n",
            "2048/2048 [==============================] - 3s 2ms/sample - loss: 0.0011 - val_loss: 0.0013\n",
            "Epoch 29/100\n",
            "2048/2048 [==============================] - 3s 2ms/sample - loss: 0.0012 - val_loss: 0.0012\n",
            "Epoch 30/100\n",
            "2048/2048 [==============================] - 3s 2ms/sample - loss: 7.9715e-04 - val_loss: 6.4427e-04\n",
            "Epoch 31/100\n",
            "2048/2048 [==============================] - 3s 2ms/sample - loss: 7.3895e-04 - val_loss: 5.8040e-04\n",
            "Epoch 32/100\n",
            "2048/2048 [==============================] - 4s 2ms/sample - loss: 6.9674e-04 - val_loss: 5.4322e-04\n",
            "Epoch 33/100\n",
            "2048/2048 [==============================] - 4s 2ms/sample - loss: 7.4866e-04 - val_loss: 5.3860e-04\n",
            "Epoch 34/100\n",
            "2048/2048 [==============================] - 4s 2ms/sample - loss: 6.9915e-04 - val_loss: 6.0054e-04\n",
            "Epoch 35/100\n",
            "2048/2048 [==============================] - 4s 2ms/sample - loss: 6.5932e-04 - val_loss: 5.1539e-04\n",
            "Epoch 36/100\n",
            "2048/2048 [==============================] - 4s 2ms/sample - loss: 5.8855e-04 - val_loss: 4.9865e-04\n",
            "Epoch 37/100\n",
            "2048/2048 [==============================] - 4s 2ms/sample - loss: 5.8679e-04 - val_loss: 4.4391e-04\n",
            "Epoch 38/100\n",
            "2048/2048 [==============================] - 4s 2ms/sample - loss: 5.3485e-04 - val_loss: 5.0875e-04\n",
            "Epoch 39/100\n",
            "2048/2048 [==============================] - 4s 2ms/sample - loss: 5.1102e-04 - val_loss: 4.6314e-04\n",
            "Epoch 40/100\n",
            "2048/2048 [==============================] - 4s 2ms/sample - loss: 5.9702e-04 - val_loss: 4.5600e-04\n",
            "Epoch 41/100\n",
            "2048/2048 [==============================] - 4s 2ms/sample - loss: 4.7804e-04 - val_loss: 4.4511e-04\n",
            "Epoch 42/100\n",
            "2048/2048 [==============================] - 4s 2ms/sample - loss: 5.4637e-04 - val_loss: 4.1459e-04\n",
            "Epoch 43/100\n",
            "2048/2048 [==============================] - 4s 2ms/sample - loss: 4.9206e-04 - val_loss: 3.7861e-04\n",
            "Epoch 44/100\n",
            "2048/2048 [==============================] - 4s 2ms/sample - loss: 4.2863e-04 - val_loss: 3.4402e-04\n",
            "Epoch 45/100\n",
            "2048/2048 [==============================] - 4s 2ms/sample - loss: 4.1819e-04 - val_loss: 3.4295e-04\n",
            "Epoch 46/100\n",
            "2048/2048 [==============================] - 4s 2ms/sample - loss: 4.9891e-04 - val_loss: 3.8751e-04\n",
            "Epoch 47/100\n",
            "2048/2048 [==============================] - 4s 2ms/sample - loss: 4.0809e-04 - val_loss: 3.4763e-04\n",
            "Epoch 48/100\n",
            "2048/2048 [==============================] - 4s 2ms/sample - loss: 5.3777e-04 - val_loss: 3.4881e-04\n",
            "Epoch 49/100\n",
            "2048/2048 [==============================] - 4s 2ms/sample - loss: 4.3202e-04 - val_loss: 3.2064e-04\n",
            "Epoch 50/100\n",
            "2048/2048 [==============================] - 4s 2ms/sample - loss: 3.7257e-04 - val_loss: 4.7611e-04\n",
            "Epoch 51/100\n",
            "2048/2048 [==============================] - 4s 2ms/sample - loss: 4.1067e-04 - val_loss: 3.0063e-04\n",
            "Epoch 52/100\n",
            "2048/2048 [==============================] - 4s 2ms/sample - loss: 3.8310e-04 - val_loss: 6.6515e-04\n",
            "Epoch 53/100\n",
            "2048/2048 [==============================] - 4s 2ms/sample - loss: 4.3070e-04 - val_loss: 2.8068e-04\n",
            "Epoch 54/100\n",
            "2048/2048 [==============================] - 4s 2ms/sample - loss: 3.3120e-04 - val_loss: 2.9933e-04\n",
            "Epoch 55/100\n",
            "2048/2048 [==============================] - 4s 2ms/sample - loss: 3.7341e-04 - val_loss: 3.3949e-04\n",
            "Epoch 56/100\n",
            "2048/2048 [==============================] - 4s 2ms/sample - loss: 3.8308e-04 - val_loss: 6.8234e-04\n",
            "Epoch 57/100\n",
            "2048/2048 [==============================] - 4s 2ms/sample - loss: 4.0702e-04 - val_loss: 4.6542e-04\n",
            "Epoch 58/100\n",
            "2048/2048 [==============================] - 4s 2ms/sample - loss: 4.0500e-04 - val_loss: 2.9613e-04\n",
            "Epoch 59/100\n",
            "2048/2048 [==============================] - 4s 2ms/sample - loss: 3.3456e-04 - val_loss: 4.2892e-04\n",
            "Epoch 60/100\n",
            "2048/2048 [==============================] - 4s 2ms/sample - loss: 4.3841e-04 - val_loss: 5.6868e-04\n",
            "Epoch 61/100\n",
            "2048/2048 [==============================] - 4s 2ms/sample - loss: 4.5486e-04 - val_loss: 2.9446e-04\n",
            "Epoch 62/100\n",
            "2048/2048 [==============================] - 4s 2ms/sample - loss: 2.8920e-04 - val_loss: 3.5309e-04\n",
            "Epoch 63/100\n",
            "2048/2048 [==============================] - 4s 2ms/sample - loss: 3.1355e-04 - val_loss: 3.3273e-04\n",
            "Epoch 64/100\n",
            "2048/2048 [==============================] - 4s 2ms/sample - loss: 3.1969e-04 - val_loss: 2.9106e-04\n",
            "Epoch 65/100\n",
            "2048/2048 [==============================] - 4s 2ms/sample - loss: 2.9593e-04 - val_loss: 2.7768e-04\n",
            "Epoch 66/100\n",
            "2048/2048 [==============================] - 4s 2ms/sample - loss: 2.9574e-04 - val_loss: 3.0747e-04\n",
            "Epoch 67/100\n",
            "2048/2048 [==============================] - 4s 2ms/sample - loss: 3.0214e-04 - val_loss: 2.3232e-04\n",
            "Epoch 68/100\n",
            "2048/2048 [==============================] - 4s 2ms/sample - loss: 3.1561e-04 - val_loss: 2.4498e-04\n",
            "Epoch 69/100\n",
            "2048/2048 [==============================] - 4s 2ms/sample - loss: 2.7300e-04 - val_loss: 2.4001e-04\n",
            "Epoch 70/100\n",
            "2048/2048 [==============================] - 4s 2ms/sample - loss: 3.1417e-04 - val_loss: 2.6243e-04\n",
            "Epoch 71/100\n",
            "2048/2048 [==============================] - 4s 2ms/sample - loss: 3.0068e-04 - val_loss: 2.3649e-04\n",
            "Epoch 72/100\n",
            "2048/2048 [==============================] - 4s 2ms/sample - loss: 2.3348e-04 - val_loss: 2.0941e-04\n",
            "Epoch 73/100\n",
            "2048/2048 [==============================] - 4s 2ms/sample - loss: 2.1700e-04 - val_loss: 2.6517e-04\n",
            "Epoch 74/100\n",
            "2048/2048 [==============================] - 4s 2ms/sample - loss: 2.3768e-04 - val_loss: 2.3073e-04\n",
            "Epoch 75/100\n",
            "2048/2048 [==============================] - 4s 2ms/sample - loss: 2.4266e-04 - val_loss: 5.4668e-04\n",
            "Epoch 76/100\n",
            "2048/2048 [==============================] - 4s 2ms/sample - loss: 2.6383e-04 - val_loss: 2.7369e-04\n",
            "Epoch 77/100\n",
            "2048/2048 [==============================] - 4s 2ms/sample - loss: 2.6532e-04 - val_loss: 2.7205e-04\n",
            "Epoch 78/100\n",
            "2048/2048 [==============================] - 4s 2ms/sample - loss: 2.3623e-04 - val_loss: 2.1908e-04\n",
            "Epoch 79/100\n",
            "2048/2048 [==============================] - 4s 2ms/sample - loss: 2.3740e-04 - val_loss: 2.2608e-04\n",
            "Epoch 80/100\n",
            "2048/2048 [==============================] - 4s 2ms/sample - loss: 2.3730e-04 - val_loss: 1.9085e-04\n",
            "Epoch 81/100\n",
            "2048/2048 [==============================] - 4s 2ms/sample - loss: 2.3870e-04 - val_loss: 2.0953e-04\n",
            "Epoch 82/100\n",
            "2048/2048 [==============================] - 4s 2ms/sample - loss: 2.1682e-04 - val_loss: 1.8221e-04\n",
            "Epoch 83/100\n",
            "2048/2048 [==============================] - 4s 2ms/sample - loss: 2.1837e-04 - val_loss: 2.0832e-04\n",
            "Epoch 84/100\n",
            "2048/2048 [==============================] - 4s 2ms/sample - loss: 2.0054e-04 - val_loss: 2.1813e-04\n",
            "Epoch 85/100\n",
            "2048/2048 [==============================] - 4s 2ms/sample - loss: 2.6210e-04 - val_loss: 2.3977e-04\n",
            "Epoch 86/100\n",
            "2048/2048 [==============================] - 4s 2ms/sample - loss: 2.0136e-04 - val_loss: 2.0733e-04\n",
            "Epoch 87/100\n",
            "2048/2048 [==============================] - 4s 2ms/sample - loss: 2.0871e-04 - val_loss: 2.0602e-04\n",
            "Epoch 88/100\n",
            "2048/2048 [==============================] - 4s 2ms/sample - loss: 2.1545e-04 - val_loss: 1.8562e-04\n",
            "Epoch 89/100\n",
            "2048/2048 [==============================] - 4s 2ms/sample - loss: 1.9489e-04 - val_loss: 1.5531e-04\n",
            "Epoch 90/100\n",
            "2048/2048 [==============================] - 4s 2ms/sample - loss: 2.3115e-04 - val_loss: 1.6987e-04\n",
            "Epoch 91/100\n",
            "2048/2048 [==============================] - 4s 2ms/sample - loss: 2.1934e-04 - val_loss: 2.2752e-04\n",
            "Epoch 92/100\n",
            "2048/2048 [==============================] - 4s 2ms/sample - loss: 2.0540e-04 - val_loss: 1.8385e-04\n",
            "Epoch 93/100\n",
            "2048/2048 [==============================] - 4s 2ms/sample - loss: 1.8756e-04 - val_loss: 1.6486e-04\n",
            "Epoch 94/100\n",
            "2048/2048 [==============================] - 4s 2ms/sample - loss: 2.3328e-04 - val_loss: 2.5832e-04\n",
            "Epoch 95/100\n",
            "2048/2048 [==============================] - 4s 2ms/sample - loss: 3.0399e-04 - val_loss: 1.6242e-04\n",
            "Epoch 96/100\n",
            "2048/2048 [==============================] - 4s 2ms/sample - loss: 1.9414e-04 - val_loss: 1.7525e-04\n",
            "Epoch 97/100\n",
            "2048/2048 [==============================] - 4s 2ms/sample - loss: 2.8854e-04 - val_loss: 1.7939e-04\n",
            "Epoch 98/100\n",
            "2048/2048 [==============================] - 4s 2ms/sample - loss: 1.7384e-04 - val_loss: 2.6057e-04\n",
            "Epoch 99/100\n",
            "2048/2048 [==============================] - 4s 2ms/sample - loss: 2.7583e-04 - val_loss: 3.7976e-04\n",
            "Epoch 100/100\n",
            "2048/2048 [==============================] - 4s 2ms/sample - loss: 2.5580e-04 - val_loss: 1.3426e-04\n"
          ],
          "name": "stdout"
        }
      ]
    },
    {
      "cell_type": "code",
      "metadata": {
        "id": "TTsSCwb1lT0F",
        "colab_type": "code",
        "outputId": "32e1d696-d7b6-43f9-f962-42f1e541823f",
        "colab": {
          "base_uri": "https://localhost:8080/",
          "height": 279
        }
      },
      "source": [
        "plt.plot(history.history['loss'],'b-',label='loss')\n",
        "plt.plot(history.history['val_loss'],'r-',label='val_loss')\n",
        "plt.xlabel('epoch');\n",
        "plt.legend()\n",
        "plt.show() "
      ],
      "execution_count": 0,
      "outputs": [
        {
          "output_type": "display_data",
          "data": {
            "image/png": "[encoded data removed]",
            "text/plain": [
              "<Figure size 432x288 with 1 Axes>"
            ]
          },
          "metadata": {
            "tags": []
          }
        }
      ]
    },
    {
      "cell_type": "code",
      "metadata": {
        "id": "LFozo1hDlV3n",
        "colab_type": "code",
        "outputId": "020b2a45-028e-46ca-a765-60868dc2a595",
        "colab": {
          "base_uri": "https://localhost:8080/",
          "height": 52
        }
      },
      "source": [
        "model.evaluate(X[2560:],Y[2560:])\n",
        "\n",
        "fail=0\n",
        "\n",
        "prediction=model.predict(X[2560:])\n",
        "\n",
        "for i in range(len(prediction)):\n",
        "  if abs(prediction[i][0]-Y[2560+i])>0.04:\n",
        "    fail+=1\n",
        "\n",
        "print('correctness : '+str((440-fail)/440))"
      ],
      "execution_count": 0,
      "outputs": [
        {
          "output_type": "stream",
          "text": [
            "440/440 [==============================] - 1s 2ms/sample - loss: 1.6231e-04\n",
            "correctness : 0.990909090909091\n"
          ],
          "name": "stdout"
        }
      ]
    },
    {
      "cell_type": "code",
      "metadata": {
        "id": "Q2GfZjIAoql7",
        "colab_type": "code",
        "colab": {}
      },
      "source": [
        ""
      ],
      "execution_count": 0,
      "outputs": []
    }
  ]
}