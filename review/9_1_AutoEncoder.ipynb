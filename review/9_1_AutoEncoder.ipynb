{
  "nbformat": 4,
  "nbformat_minor": 0,
  "metadata": {
    "colab": {
      "name": "9_1_AutoEncoder.ipynb",
      "provenance": []
    },
    "kernelspec": {
      "name": "python3",
      "display_name": "Python 3"
    },
    "accelerator": "GPU"
  },
  "cells": [
    {
      "cell_type": "code",
      "metadata": {
        "id": "S73ZQKmvNm8l",
        "colab_type": "code",
        "colab": {}
      },
      "source": [
        "import tensorflow as tf\n",
        "import numpy as np"
      ],
      "execution_count": 1,
      "outputs": []
    },
    {
      "cell_type": "code",
      "metadata": {
        "id": "JIThr8YVN4iq",
        "colab_type": "code",
        "colab": {
          "base_uri": "https://localhost:8080/",
          "height": 52
        },
        "outputId": "4fd83bf7-6fde-4356-8c68-317784c6cd21"
      },
      "source": [
        "(trainX,trainY),(testX,testY)=tf.keras.datasets.mnist.load_data()\n",
        "\n",
        "trainX=trainX/255.0\n",
        "testX=testX/255.0"
      ],
      "execution_count": 2,
      "outputs": [
        {
          "output_type": "stream",
          "text": [
            "Downloading data from https://storage.googleapis.com/tensorflow/tf-keras-datasets/mnist.npz\n",
            "11493376/11490434 [==============================] - 0s 0us/step\n"
          ],
          "name": "stdout"
        }
      ]
    },
    {
      "cell_type": "code",
      "metadata": {
        "id": "kzjb4HqLOK4c",
        "colab_type": "code",
        "colab": {}
      },
      "source": [
        "trainX=trainX.reshape(-1,28,28,1)\n",
        "testX=testX.reshape(-1,28,28,1)"
      ],
      "execution_count": 3,
      "outputs": []
    },
    {
      "cell_type": "code",
      "metadata": {
        "id": "qREswpI2Oymi",
        "colab_type": "code",
        "colab": {}
      },
      "source": [
        "model=tf.keras.Sequential([\n",
        "                           tf.keras.layers.Conv2D(filters=32,kernel_size=2,strides=(2,2),activation='elu',input_shape=(28,28,1)),\n",
        "                           tf.keras.layers.Conv2D(filters=64,kernel_size=2,strides=(2,2),activation='elu'),\n",
        "                           tf.keras.layers.Flatten(),\n",
        "                           tf.keras.layers.Dense(units=64),\n",
        "                           tf.keras.layers.Dense(units=7*7*64,activation='elu'),\n",
        "                           tf.keras.layers.Reshape(target_shape=(7,7,64)),\n",
        "                           tf.keras.layers.Conv2DTranspose(filters=32,kernel_size=2,strides=(2,2),padding='same',activation='elu'),\n",
        "                           tf.keras.layers.Conv2DTranspose(filters=1,kernel_size=2,strides=(2,2),padding='same',activation='sigmoid')\n",
        "])\n",
        "\n",
        "model.compile(optimizer='adam',loss='mse')"
      ],
      "execution_count": 4,
      "outputs": []
    },
    {
      "cell_type": "code",
      "metadata": {
        "id": "CWttC-MNQtNY",
        "colab_type": "code",
        "colab": {
          "base_uri": "https://localhost:8080/",
          "height": 728
        },
        "outputId": "24ae3e82-0286-4579-fd8a-ae97daf98201"
      },
      "source": [
        "history=model.fit(trainX,trainX,epochs=20,batch_size=256)"
      ],
      "execution_count": 5,
      "outputs": [
        {
          "output_type": "stream",
          "text": [
            "Epoch 1/20\n",
            "235/235 [==============================] - 1s 5ms/step - loss: 0.0531\n",
            "Epoch 2/20\n",
            "235/235 [==============================] - 1s 4ms/step - loss: 0.0144\n",
            "Epoch 3/20\n",
            "235/235 [==============================] - 1s 4ms/step - loss: 0.0084\n",
            "Epoch 4/20\n",
            "235/235 [==============================] - 1s 4ms/step - loss: 0.0061\n",
            "Epoch 5/20\n",
            "235/235 [==============================] - 1s 4ms/step - loss: 0.0051\n",
            "Epoch 6/20\n",
            "235/235 [==============================] - 1s 4ms/step - loss: 0.0046\n",
            "Epoch 7/20\n",
            "235/235 [==============================] - 1s 4ms/step - loss: 0.0041\n",
            "Epoch 8/20\n",
            "235/235 [==============================] - 1s 4ms/step - loss: 0.0038\n",
            "Epoch 9/20\n",
            "235/235 [==============================] - 1s 4ms/step - loss: 0.0033\n",
            "Epoch 10/20\n",
            "235/235 [==============================] - 1s 4ms/step - loss: 0.0031\n",
            "Epoch 11/20\n",
            "235/235 [==============================] - 1s 4ms/step - loss: 0.0029\n",
            "Epoch 12/20\n",
            "235/235 [==============================] - 1s 4ms/step - loss: 0.0028\n",
            "Epoch 13/20\n",
            "235/235 [==============================] - 1s 4ms/step - loss: 0.0027\n",
            "Epoch 14/20\n",
            "235/235 [==============================] - 1s 4ms/step - loss: 0.0026\n",
            "Epoch 15/20\n",
            "235/235 [==============================] - 1s 4ms/step - loss: 0.0025\n",
            "Epoch 16/20\n",
            "235/235 [==============================] - 1s 4ms/step - loss: 0.0025\n",
            "Epoch 17/20\n",
            "235/235 [==============================] - 1s 4ms/step - loss: 0.0024\n",
            "Epoch 18/20\n",
            "235/235 [==============================] - 1s 4ms/step - loss: 0.0024\n",
            "Epoch 19/20\n",
            "235/235 [==============================] - 1s 4ms/step - loss: 0.0023\n",
            "Epoch 20/20\n",
            "235/235 [==============================] - 1s 4ms/step - loss: 0.0023\n"
          ],
          "name": "stdout"
        }
      ]
    },
    {
      "cell_type": "code",
      "metadata": {
        "id": "N2Rf7Lo0QtbX",
        "colab_type": "code",
        "colab": {
          "base_uri": "https://localhost:8080/",
          "height": 466
        },
        "outputId": "4e9d7603-ac35-42c4-cdfd-1db9638dceac"
      },
      "source": [
        "import random\n",
        "import matplotlib.pyplot as plt\n",
        "\n",
        "plt.figure(figsize=(4,8))\n",
        "\n",
        "for c in range(4):\n",
        "    plt.subplot(4,2,c*2+1)\n",
        "    idx=random.randint(0,testX.shape[0])\n",
        "    plt.imshow(testX[idx].reshape(28,28),cmap='gray')\n",
        "    plt.axis('off')\n",
        "    \n",
        "    plt.subplot(4,2,2*c+2)\n",
        "    img=model.predict(np.expand_dims(testX[idx],axis=0))\n",
        "    plt.imshow(img.reshape(28,28),cmap='gray')\n",
        "    plt.axis('off')"
      ],
      "execution_count": 15,
      "outputs": [
        {
          "output_type": "display_data",
          "data": {
            "image/png": "[encoded data removed]",
            "text/plain": [
              "<Figure size 288x576 with 8 Axes>"
            ]
          },
          "metadata": {
            "tags": [],
            "needs_background": "light"
          }
        }
      ]
    },
    {
      "cell_type": "code",
      "metadata": {
        "id": "MYinEmJeS3tt",
        "colab_type": "code",
        "colab": {}
      },
      "source": [
        ""
      ],
      "execution_count": null,
      "outputs": []
    }
  ]
}